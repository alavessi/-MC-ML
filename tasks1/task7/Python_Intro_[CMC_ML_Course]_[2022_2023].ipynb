{
  "cells": [
    {
      "cell_type": "markdown",
      "metadata": {
        "id": "4y0tx8T6-_3V"
      },
      "source": [
        "# Основы Python"
      ]
    },
    {
      "cell_type": "markdown",
      "source": [
        "## Подготовка рабочей среды\n",
        "\n",
        "Сначала установим нужные нам версии библиотек. Мы гарантируем, что в данных версиях задание будет корректно отрабатывать. \n",
        "\n",
        "После установки нужных версий нажмите на кнопку Restart runtime, которая появится в следующей ячейке после завершения ее выполнения.\n",
        "\n",
        "После перезапуска (restart runtime) устанавливать библиотеки еще раз не нужно, достаточно проверить, что установилась их новая версия. \n",
        "\n",
        "На скачивание файла и установку понадобится не более 5 минут.\n",
        "\n",
        "**Важно!** Устанавливать нужные версии нужно каждый раз, когда создается новый рантайм. Например, если вы 2 часа подряд делаете это задание, то подготовить библиотеки достаточно 1 раз. Но если вы, например, начали в понедельник, затем закрыли/выключили ноутбук, то при продолжении в среду, вам нужно будет запустить рантайм заново и следовательно заново установить библиотеки.\n",
        "\n",
        "**Важно!** Если вы предпочитаете делать практические задания на своем личном ноутбуке, то предлагаем вам завести виртуальное окружение и установить в нем библиотеки из файла requirements.txt по ссылке https://drive.google.com/file/d/1br9tHmdccGVzpk0svXNmHxVMh_OF2oZR/view?usp=sharing\n",
        "В таком случае виртуальное окружение достаточно настроить всего один раз."
      ],
      "metadata": {
        "id": "608eqDnnHzIc"
      }
    },
    {
      "cell_type": "code",
      "source": [
        "# !!! Данный блок будет работать только в Google-Colab !!!\n",
        "! gdown 1br9tHmdccGVzpk0svXNmHxVMh_OF2oZR\n",
        "! pip install -r /content/requirements.txt"
      ],
      "metadata": {
        "id": "xlJ_9xPQH2QA",
        "outputId": "0aa201d7-597f-4389-9664-78f3b70a4c9d",
        "colab": {
          "base_uri": "https://localhost:8080/",
          "height": 1000
        }
      },
      "execution_count": 1,
      "outputs": [
        {
          "output_type": "stream",
          "name": "stdout",
          "text": [
            "Downloading...\n",
            "From: https://drive.google.com/uc?id=1br9tHmdccGVzpk0svXNmHxVMh_OF2oZR\n",
            "To: /content/requirements.txt\n",
            "\r  0% 0.00/328 [00:00<?, ?B/s]\r100% 328/328 [00:00<00:00, 256kB/s]\n",
            "Looking in indexes: https://pypi.org/simple, https://us-python.pkg.dev/colab-wheels/public/simple/\n",
            "Collecting catboost==1.0.6\n",
            "  Downloading catboost-1.0.6-cp37-none-manylinux1_x86_64.whl (76.6 MB)\n",
            "\u001b[K     |████████████████████████████████| 76.6 MB 1.6 MB/s \n",
            "\u001b[?25hCollecting pytest==7.1.3\n",
            "  Downloading pytest-7.1.3-py3-none-any.whl (298 kB)\n",
            "\u001b[K     |████████████████████████████████| 298 kB 52.1 MB/s \n",
            "\u001b[?25hCollecting scikit-image==0.19.3\n",
            "  Downloading scikit_image-0.19.3-cp37-cp37m-manylinux_2_12_x86_64.manylinux2010_x86_64.whl (13.5 MB)\n",
            "\u001b[K     |████████████████████████████████| 13.5 MB 44.3 MB/s \n",
            "\u001b[?25hCollecting h5py==3.7.0\n",
            "  Downloading h5py-3.7.0-cp37-cp37m-manylinux_2_12_x86_64.manylinux2010_x86_64.whl (4.1 MB)\n",
            "\u001b[K     |████████████████████████████████| 4.1 MB 35.7 MB/s \n",
            "\u001b[?25hCollecting hyperopt==0.2.7\n",
            "  Downloading hyperopt-0.2.7-py2.py3-none-any.whl (1.6 MB)\n",
            "\u001b[K     |████████████████████████████████| 1.6 MB 50.2 MB/s \n",
            "\u001b[?25hCollecting ipywidgets==8.0.2\n",
            "  Downloading ipywidgets-8.0.2-py3-none-any.whl (134 kB)\n",
            "\u001b[K     |████████████████████████████████| 134 kB 59.1 MB/s \n",
            "\u001b[?25hCollecting keras==2.10.0\n",
            "  Downloading keras-2.10.0-py2.py3-none-any.whl (1.7 MB)\n",
            "\u001b[K     |████████████████████████████████| 1.7 MB 54.5 MB/s \n",
            "\u001b[?25hCollecting lightgbm==3.3.2\n",
            "  Downloading lightgbm-3.3.2-py3-none-manylinux1_x86_64.whl (2.0 MB)\n",
            "\u001b[K     |████████████████████████████████| 2.0 MB 44.2 MB/s \n",
            "\u001b[?25hCollecting matplotlib==3.5.3\n",
            "  Downloading matplotlib-3.5.3-cp37-cp37m-manylinux_2_5_x86_64.manylinux1_x86_64.whl (11.2 MB)\n",
            "\u001b[K     |████████████████████████████████| 11.2 MB 44.1 MB/s \n",
            "\u001b[?25hRequirement already satisfied: numpy==1.21.6 in /usr/local/lib/python3.7/dist-packages (from -r /content/requirements.txt (line 10)) (1.21.6)\n",
            "Requirement already satisfied: pandas==1.3.5 in /usr/local/lib/python3.7/dist-packages (from -r /content/requirements.txt (line 11)) (1.3.5)\n",
            "Collecting plotly==5.6.0\n",
            "  Downloading plotly-5.6.0-py2.py3-none-any.whl (27.7 MB)\n",
            "\u001b[K     |████████████████████████████████| 27.7 MB 69.0 MB/s \n",
            "\u001b[?25hRequirement already satisfied: scipy==1.7.3 in /usr/local/lib/python3.7/dist-packages (from -r /content/requirements.txt (line 13)) (1.7.3)\n",
            "Collecting seaborn==0.12.0\n",
            "  Downloading seaborn-0.12.0-py3-none-any.whl (285 kB)\n",
            "\u001b[K     |████████████████████████████████| 285 kB 77.4 MB/s \n",
            "\u001b[?25hRequirement already satisfied: scikit-learn==1.0.2 in /usr/local/lib/python3.7/dist-packages (from -r /content/requirements.txt (line 15)) (1.0.2)\n",
            "Requirement already satisfied: torch==1.12.1 in /usr/local/lib/python3.7/dist-packages (from -r /content/requirements.txt (line 16)) (1.12.1+cu113)\n",
            "Requirement already satisfied: torchvision==0.13.1 in /usr/local/lib/python3.7/dist-packages (from -r /content/requirements.txt (line 17)) (0.13.1+cu113)\n",
            "Requirement already satisfied: tqdm==4.64.1 in /usr/local/lib/python3.7/dist-packages (from -r /content/requirements.txt (line 18)) (4.64.1)\n",
            "Collecting umap-learn==0.5.3\n",
            "  Downloading umap-learn-0.5.3.tar.gz (88 kB)\n",
            "\u001b[K     |████████████████████████████████| 88 kB 7.5 MB/s \n",
            "\u001b[?25hCollecting xgboost==1.6.2\n",
            "  Downloading xgboost-1.6.2-py3-none-manylinux2014_x86_64.whl (255.9 MB)\n",
            "\u001b[K     |████████████████████████████████| 255.9 MB 40 kB/s \n",
            "\u001b[?25hCollecting pep8==1.7.1\n",
            "  Downloading pep8-1.7.1-py2.py3-none-any.whl (41 kB)\n",
            "\u001b[K     |████████████████████████████████| 41 kB 407 kB/s \n",
            "\u001b[?25hRequirement already satisfied: six in /usr/local/lib/python3.7/dist-packages (from catboost==1.0.6->-r /content/requirements.txt (line 1)) (1.15.0)\n",
            "Requirement already satisfied: graphviz in /usr/local/lib/python3.7/dist-packages (from catboost==1.0.6->-r /content/requirements.txt (line 1)) (0.10.1)\n",
            "Requirement already satisfied: packaging in /usr/local/lib/python3.7/dist-packages (from pytest==7.1.3->-r /content/requirements.txt (line 2)) (21.3)\n",
            "Requirement already satisfied: importlib-metadata>=0.12 in /usr/local/lib/python3.7/dist-packages (from pytest==7.1.3->-r /content/requirements.txt (line 2)) (4.12.0)\n",
            "Collecting iniconfig\n",
            "  Downloading iniconfig-1.1.1-py2.py3-none-any.whl (5.0 kB)\n",
            "Requirement already satisfied: tomli>=1.0.0 in /usr/local/lib/python3.7/dist-packages (from pytest==7.1.3->-r /content/requirements.txt (line 2)) (2.0.1)\n",
            "Requirement already satisfied: attrs>=19.2.0 in /usr/local/lib/python3.7/dist-packages (from pytest==7.1.3->-r /content/requirements.txt (line 2)) (22.1.0)\n",
            "Collecting pluggy<2.0,>=0.12\n",
            "  Downloading pluggy-1.0.0-py2.py3-none-any.whl (13 kB)\n",
            "Requirement already satisfied: py>=1.8.2 in /usr/local/lib/python3.7/dist-packages (from pytest==7.1.3->-r /content/requirements.txt (line 2)) (1.11.0)\n",
            "Requirement already satisfied: PyWavelets>=1.1.1 in /usr/local/lib/python3.7/dist-packages (from scikit-image==0.19.3->-r /content/requirements.txt (line 3)) (1.3.0)\n",
            "Requirement already satisfied: tifffile>=2019.7.26 in /usr/local/lib/python3.7/dist-packages (from scikit-image==0.19.3->-r /content/requirements.txt (line 3)) (2021.11.2)\n",
            "Requirement already satisfied: imageio>=2.4.1 in /usr/local/lib/python3.7/dist-packages (from scikit-image==0.19.3->-r /content/requirements.txt (line 3)) (2.9.0)\n",
            "Requirement already satisfied: pillow!=7.1.0,!=7.1.1,!=8.3.0,>=6.1.0 in /usr/local/lib/python3.7/dist-packages (from scikit-image==0.19.3->-r /content/requirements.txt (line 3)) (7.1.2)\n",
            "Requirement already satisfied: networkx>=2.2 in /usr/local/lib/python3.7/dist-packages (from scikit-image==0.19.3->-r /content/requirements.txt (line 3)) (2.6.3)\n",
            "Requirement already satisfied: future in /usr/local/lib/python3.7/dist-packages (from hyperopt==0.2.7->-r /content/requirements.txt (line 5)) (0.16.0)\n",
            "Collecting py4j\n",
            "  Downloading py4j-0.10.9.7-py2.py3-none-any.whl (200 kB)\n",
            "\u001b[K     |████████████████████████████████| 200 kB 55.3 MB/s \n",
            "\u001b[?25hRequirement already satisfied: cloudpickle in /usr/local/lib/python3.7/dist-packages (from hyperopt==0.2.7->-r /content/requirements.txt (line 5)) (1.5.0)\n",
            "Collecting widgetsnbextension~=4.0\n",
            "  Downloading widgetsnbextension-4.0.3-py3-none-any.whl (2.0 MB)\n",
            "\u001b[K     |████████████████████████████████| 2.0 MB 46.6 MB/s \n",
            "\u001b[?25hRequirement already satisfied: ipykernel>=4.5.1 in /usr/local/lib/python3.7/dist-packages (from ipywidgets==8.0.2->-r /content/requirements.txt (line 6)) (5.3.4)\n",
            "Requirement already satisfied: traitlets>=4.3.1 in /usr/local/lib/python3.7/dist-packages (from ipywidgets==8.0.2->-r /content/requirements.txt (line 6)) (5.1.1)\n",
            "Requirement already satisfied: jupyterlab-widgets~=3.0 in /usr/local/lib/python3.7/dist-packages (from ipywidgets==8.0.2->-r /content/requirements.txt (line 6)) (3.0.3)\n",
            "Requirement already satisfied: ipython>=6.1.0 in /usr/local/lib/python3.7/dist-packages (from ipywidgets==8.0.2->-r /content/requirements.txt (line 6)) (7.9.0)\n",
            "Requirement already satisfied: wheel in /usr/local/lib/python3.7/dist-packages (from lightgbm==3.3.2->-r /content/requirements.txt (line 8)) (0.37.1)\n",
            "Requirement already satisfied: cycler>=0.10 in /usr/local/lib/python3.7/dist-packages (from matplotlib==3.5.3->-r /content/requirements.txt (line 9)) (0.11.0)\n",
            "Collecting fonttools>=4.22.0\n",
            "  Downloading fonttools-4.37.2-py3-none-any.whl (959 kB)\n",
            "\u001b[K     |████████████████████████████████| 959 kB 46.6 MB/s \n",
            "\u001b[?25hRequirement already satisfied: python-dateutil>=2.7 in /usr/local/lib/python3.7/dist-packages (from matplotlib==3.5.3->-r /content/requirements.txt (line 9)) (2.8.2)\n",
            "Requirement already satisfied: kiwisolver>=1.0.1 in /usr/local/lib/python3.7/dist-packages (from matplotlib==3.5.3->-r /content/requirements.txt (line 9)) (1.4.4)\n",
            "Requirement already satisfied: pyparsing>=2.2.1 in /usr/local/lib/python3.7/dist-packages (from matplotlib==3.5.3->-r /content/requirements.txt (line 9)) (3.0.9)\n",
            "Requirement already satisfied: pytz>=2017.3 in /usr/local/lib/python3.7/dist-packages (from pandas==1.3.5->-r /content/requirements.txt (line 11)) (2022.2.1)\n",
            "Requirement already satisfied: tenacity>=6.2.0 in /usr/local/lib/python3.7/dist-packages (from plotly==5.6.0->-r /content/requirements.txt (line 12)) (8.0.1)\n",
            "Requirement already satisfied: typing_extensions in /usr/local/lib/python3.7/dist-packages (from seaborn==0.12.0->-r /content/requirements.txt (line 14)) (4.1.1)\n",
            "Requirement already satisfied: joblib>=0.11 in /usr/local/lib/python3.7/dist-packages (from scikit-learn==1.0.2->-r /content/requirements.txt (line 15)) (1.1.0)\n",
            "Requirement already satisfied: threadpoolctl>=2.0.0 in /usr/local/lib/python3.7/dist-packages (from scikit-learn==1.0.2->-r /content/requirements.txt (line 15)) (3.1.0)\n",
            "Requirement already satisfied: requests in /usr/local/lib/python3.7/dist-packages (from torchvision==0.13.1->-r /content/requirements.txt (line 17)) (2.23.0)\n",
            "Requirement already satisfied: numba>=0.49 in /usr/local/lib/python3.7/dist-packages (from umap-learn==0.5.3->-r /content/requirements.txt (line 19)) (0.56.2)\n",
            "Collecting pynndescent>=0.5\n",
            "  Downloading pynndescent-0.5.7.tar.gz (1.1 MB)\n",
            "\u001b[K     |████████████████████████████████| 1.1 MB 49.5 MB/s \n",
            "\u001b[?25hRequirement already satisfied: zipp>=0.5 in /usr/local/lib/python3.7/dist-packages (from importlib-metadata>=0.12->pytest==7.1.3->-r /content/requirements.txt (line 2)) (3.8.1)\n",
            "Requirement already satisfied: tornado>=4.2 in /usr/local/lib/python3.7/dist-packages (from ipykernel>=4.5.1->ipywidgets==8.0.2->-r /content/requirements.txt (line 6)) (5.1.1)\n",
            "Requirement already satisfied: jupyter-client in /usr/local/lib/python3.7/dist-packages (from ipykernel>=4.5.1->ipywidgets==8.0.2->-r /content/requirements.txt (line 6)) (6.1.12)\n",
            "Requirement already satisfied: pexpect in /usr/local/lib/python3.7/dist-packages (from ipython>=6.1.0->ipywidgets==8.0.2->-r /content/requirements.txt (line 6)) (4.8.0)\n",
            "Requirement already satisfied: decorator in /usr/local/lib/python3.7/dist-packages (from ipython>=6.1.0->ipywidgets==8.0.2->-r /content/requirements.txt (line 6)) (4.4.2)\n",
            "Requirement already satisfied: setuptools>=18.5 in /usr/local/lib/python3.7/dist-packages (from ipython>=6.1.0->ipywidgets==8.0.2->-r /content/requirements.txt (line 6)) (57.4.0)\n",
            "Requirement already satisfied: prompt-toolkit<2.1.0,>=2.0.0 in /usr/local/lib/python3.7/dist-packages (from ipython>=6.1.0->ipywidgets==8.0.2->-r /content/requirements.txt (line 6)) (2.0.10)\n",
            "Requirement already satisfied: pygments in /usr/local/lib/python3.7/dist-packages (from ipython>=6.1.0->ipywidgets==8.0.2->-r /content/requirements.txt (line 6)) (2.6.1)\n",
            "Collecting jedi>=0.10\n",
            "  Downloading jedi-0.18.1-py2.py3-none-any.whl (1.6 MB)\n",
            "\u001b[K     |████████████████████████████████| 1.6 MB 48.3 MB/s \n",
            "\u001b[?25hRequirement already satisfied: pickleshare in /usr/local/lib/python3.7/dist-packages (from ipython>=6.1.0->ipywidgets==8.0.2->-r /content/requirements.txt (line 6)) (0.7.5)\n",
            "Requirement already satisfied: backcall in /usr/local/lib/python3.7/dist-packages (from ipython>=6.1.0->ipywidgets==8.0.2->-r /content/requirements.txt (line 6)) (0.2.0)\n",
            "Requirement already satisfied: parso<0.9.0,>=0.8.0 in /usr/local/lib/python3.7/dist-packages (from jedi>=0.10->ipython>=6.1.0->ipywidgets==8.0.2->-r /content/requirements.txt (line 6)) (0.8.3)\n",
            "Requirement already satisfied: llvmlite<0.40,>=0.39.0dev0 in /usr/local/lib/python3.7/dist-packages (from numba>=0.49->umap-learn==0.5.3->-r /content/requirements.txt (line 19)) (0.39.1)\n",
            "Requirement already satisfied: wcwidth in /usr/local/lib/python3.7/dist-packages (from prompt-toolkit<2.1.0,>=2.0.0->ipython>=6.1.0->ipywidgets==8.0.2->-r /content/requirements.txt (line 6)) (0.2.5)\n",
            "Requirement already satisfied: jupyter-core>=4.6.0 in /usr/local/lib/python3.7/dist-packages (from jupyter-client->ipykernel>=4.5.1->ipywidgets==8.0.2->-r /content/requirements.txt (line 6)) (4.11.1)\n",
            "Requirement already satisfied: pyzmq>=13 in /usr/local/lib/python3.7/dist-packages (from jupyter-client->ipykernel>=4.5.1->ipywidgets==8.0.2->-r /content/requirements.txt (line 6)) (23.2.1)\n",
            "Requirement already satisfied: ptyprocess>=0.5 in /usr/local/lib/python3.7/dist-packages (from pexpect->ipython>=6.1.0->ipywidgets==8.0.2->-r /content/requirements.txt (line 6)) (0.7.0)\n",
            "Requirement already satisfied: urllib3!=1.25.0,!=1.25.1,<1.26,>=1.21.1 in /usr/local/lib/python3.7/dist-packages (from requests->torchvision==0.13.1->-r /content/requirements.txt (line 17)) (1.24.3)\n",
            "Requirement already satisfied: chardet<4,>=3.0.2 in /usr/local/lib/python3.7/dist-packages (from requests->torchvision==0.13.1->-r /content/requirements.txt (line 17)) (3.0.4)\n",
            "Requirement already satisfied: certifi>=2017.4.17 in /usr/local/lib/python3.7/dist-packages (from requests->torchvision==0.13.1->-r /content/requirements.txt (line 17)) (2022.6.15)\n",
            "Requirement already satisfied: idna<3,>=2.5 in /usr/local/lib/python3.7/dist-packages (from requests->torchvision==0.13.1->-r /content/requirements.txt (line 17)) (2.10)\n",
            "Building wheels for collected packages: umap-learn, pynndescent\n",
            "  Building wheel for umap-learn (setup.py) ... \u001b[?25l\u001b[?25hdone\n",
            "  Created wheel for umap-learn: filename=umap_learn-0.5.3-py3-none-any.whl size=82829 sha256=d8055200b66b41aca9757e8007d4bad39883fa4db413b07aedd5b146c2d82d4b\n",
            "  Stored in directory: /root/.cache/pip/wheels/b3/52/a5/1fd9e3e76a7ab34f134c07469cd6f16e27ef3a37aeff1fe821\n",
            "  Building wheel for pynndescent (setup.py) ... \u001b[?25l\u001b[?25hdone\n",
            "  Created wheel for pynndescent: filename=pynndescent-0.5.7-py3-none-any.whl size=54286 sha256=f3d7d9082df61da44e6ab20dee8b141af1d1e199c105209b39bed043dd1b3123\n",
            "  Stored in directory: /root/.cache/pip/wheels/7f/2a/f8/7bd5dcec71bd5c669f6f574db3113513696b98f3f9b51f496c\n",
            "Successfully built umap-learn pynndescent\n",
            "Installing collected packages: jedi, fonttools, widgetsnbextension, pynndescent, py4j, pluggy, plotly, matplotlib, iniconfig, xgboost, umap-learn, seaborn, scikit-image, pytest, pep8, lightgbm, keras, ipywidgets, hyperopt, h5py, catboost\n",
            "  Attempting uninstall: widgetsnbextension\n",
            "    Found existing installation: widgetsnbextension 3.6.1\n",
            "    Uninstalling widgetsnbextension-3.6.1:\n",
            "      Successfully uninstalled widgetsnbextension-3.6.1\n",
            "  Attempting uninstall: pluggy\n",
            "    Found existing installation: pluggy 0.7.1\n",
            "    Uninstalling pluggy-0.7.1:\n",
            "      Successfully uninstalled pluggy-0.7.1\n",
            "  Attempting uninstall: plotly\n",
            "    Found existing installation: plotly 5.5.0\n",
            "    Uninstalling plotly-5.5.0:\n",
            "      Successfully uninstalled plotly-5.5.0\n",
            "  Attempting uninstall: matplotlib\n",
            "    Found existing installation: matplotlib 3.2.2\n",
            "    Uninstalling matplotlib-3.2.2:\n",
            "      Successfully uninstalled matplotlib-3.2.2\n",
            "  Attempting uninstall: xgboost\n",
            "    Found existing installation: xgboost 0.90\n",
            "    Uninstalling xgboost-0.90:\n",
            "      Successfully uninstalled xgboost-0.90\n",
            "  Attempting uninstall: seaborn\n",
            "    Found existing installation: seaborn 0.11.2\n",
            "    Uninstalling seaborn-0.11.2:\n",
            "      Successfully uninstalled seaborn-0.11.2\n",
            "  Attempting uninstall: scikit-image\n",
            "    Found existing installation: scikit-image 0.18.3\n",
            "    Uninstalling scikit-image-0.18.3:\n",
            "      Successfully uninstalled scikit-image-0.18.3\n",
            "  Attempting uninstall: pytest\n",
            "    Found existing installation: pytest 3.6.4\n",
            "    Uninstalling pytest-3.6.4:\n",
            "      Successfully uninstalled pytest-3.6.4\n",
            "  Attempting uninstall: lightgbm\n",
            "    Found existing installation: lightgbm 2.2.3\n",
            "    Uninstalling lightgbm-2.2.3:\n",
            "      Successfully uninstalled lightgbm-2.2.3\n",
            "  Attempting uninstall: keras\n",
            "    Found existing installation: keras 2.8.0\n",
            "    Uninstalling keras-2.8.0:\n",
            "      Successfully uninstalled keras-2.8.0\n",
            "  Attempting uninstall: ipywidgets\n",
            "    Found existing installation: ipywidgets 7.7.1\n",
            "    Uninstalling ipywidgets-7.7.1:\n",
            "      Successfully uninstalled ipywidgets-7.7.1\n",
            "  Attempting uninstall: hyperopt\n",
            "    Found existing installation: hyperopt 0.1.2\n",
            "    Uninstalling hyperopt-0.1.2:\n",
            "      Successfully uninstalled hyperopt-0.1.2\n",
            "  Attempting uninstall: h5py\n",
            "    Found existing installation: h5py 3.1.0\n",
            "    Uninstalling h5py-3.1.0:\n",
            "      Successfully uninstalled h5py-3.1.0\n",
            "\u001b[31mERROR: pip's dependency resolver does not currently take into account all the packages that are installed. This behaviour is the source of the following dependency conflicts.\n",
            "tensorflow 2.8.2+zzzcolab20220719082949 requires keras<2.9,>=2.8.0rc0, but you have keras 2.10.0 which is incompatible.\u001b[0m\n",
            "Successfully installed catboost-1.0.6 fonttools-4.37.2 h5py-3.7.0 hyperopt-0.2.7 iniconfig-1.1.1 ipywidgets-8.0.2 jedi-0.18.1 keras-2.10.0 lightgbm-3.3.2 matplotlib-3.5.3 pep8-1.7.1 plotly-5.6.0 pluggy-1.0.0 py4j-0.10.9.7 pynndescent-0.5.7 pytest-7.1.3 scikit-image-0.19.3 seaborn-0.12.0 umap-learn-0.5.3 widgetsnbextension-4.0.3 xgboost-1.6.2\n"
          ]
        },
        {
          "output_type": "display_data",
          "data": {
            "application/vnd.colab-display-data+json": {
              "pip_warning": {
                "packages": [
                  "matplotlib",
                  "mpl_toolkits"
                ]
              }
            }
          },
          "metadata": {}
        }
      ]
    },
    {
      "cell_type": "markdown",
      "source": [
        "Проверим версию библиотеки:"
      ],
      "metadata": {
        "id": "nVF1K35JH7A0"
      }
    },
    {
      "cell_type": "code",
      "source": [
        "import xgboost\n",
        "assert(xgboost.__version__ == '1.6.2')"
      ],
      "metadata": {
        "id": "_iBykMXsIAdq"
      },
      "execution_count": 2,
      "outputs": []
    },
    {
      "cell_type": "markdown",
      "source": [
        "\n",
        "### Важно! О формате сдачи\n",
        "\n",
        "* По большей части данный ноутбук является туториалом по азам языка Python3 -- вы можете повыполнять ячейки и посмотреть на их результат, а также протестировать и какой-нибудь свой код\n",
        "* В конце данного ноутбука описаны задачи, которые сдаются по системе юнит-тестирования (unit-tests)\n"
      ],
      "metadata": {
        "id": "0YYRBQ1vL_lD"
      }
    },
    {
      "cell_type": "markdown",
      "source": [
        "Теперь можно приступать к выполнению задания! :)"
      ],
      "metadata": {
        "id": "TB_XLSrsIClv"
      }
    },
    {
      "cell_type": "markdown",
      "metadata": {
        "id": "F2uJxQdd-_3Z"
      },
      "source": [
        "![python_image.png](data:image/png;base64,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)"
      ]
    },
    {
      "cell_type": "markdown",
      "metadata": {
        "id": "G50HsRdZ-_3a"
      },
      "source": [
        "```Введение:``` Этот ноутбук призван систематизировать знания про интерпретируемый язык программирования Python, а также эти знания проверить с помощью домашнего задания.\\\n",
        "Возможностей у Python – огромное количество! Поэтому вместить знания про все фишки и библиотеки в 1 ноутбук – невозможно. Однако все основные факты, которые могут потребоваться в работе, старательно собраны и представлены здесь.\\\n",
        "Python – очень простой и удобный язык. Осторожно! Если вы начнете писать на Python, то потом вам вряд ли захочется перейти на другой язык программирования.\\\n",
        "И еще одно:\n",
        "**Лучший способ изучить Python – это гуглить [а еще лучше - гуглить на английском]!**\\\n",
        "Почти все непонятные ошибки уже встречались когда-либо на просторах сети, так что StackOverflow и документация – ваши лучшие друзья при программировании на Python и поиске багов."
      ]
    },
    {
      "cell_type": "markdown",
      "source": [
        "## Оглавление\n",
        "\n",
        ">[Основы Python](#scrollTo=4y0tx8T6-_3V)\n",
        "\n",
        ">>[Оглавление](#scrollTo=Nrm-pWKO-_3b)\n",
        "\n",
        ">>[Импортирование модулей](#scrollTo=GNjgYv6I-_3c)\n",
        "\n",
        ">>[Типы данных](#scrollTo=YfaW89Wv-_3l)\n",
        "\n",
        ">>>[Числа](#scrollTo=lBzoMfGv-_3m)\n",
        "\n",
        ">>>>[Операции над числами](#scrollTo=mGdq8VjK-_3y)\n",
        "\n",
        ">>>[Списки](#scrollTo=eJATW-Rg-_3z)\n",
        "\n",
        ">>>>[Создание списков](#scrollTo=9zKbY2HO-_36)\n",
        "\n",
        ">>>>[Индексация](#scrollTo=snN5jN_8-_39)\n",
        "\n",
        ">>>>[Срезы](#scrollTo=c9ePYcgL-_3_)\n",
        "\n",
        ">>>>[Методы и функции для работы со списками](#scrollTo=hf9NYsJ_-_4D)\n",
        "\n",
        ">>>[Строки](#scrollTo=Bmv3uZdj-_4Y)\n",
        "\n",
        ">>>>[Полезные функции для работы со строками](#scrollTo=suBB-s4H-_4e)\n",
        "\n",
        ">>>>[Связь со списками](#scrollTo=-OG425li-_4j)\n",
        "\n",
        ">>>>[f-строки](#scrollTo=TCY7MKbX-_4k)\n",
        "\n",
        ">>>[Кортежи](#scrollTo=eE95F3jb-_4o)\n",
        "\n",
        ">>>[Словари](#scrollTo=30fKxmXD-_4r)\n",
        "\n",
        ">>>>[Итерация по словарю](#scrollTo=_33nLeUJ-_4y)\n",
        "\n",
        ">>>>[defaultdict](#scrollTo=yqZrXv-J-_4z)\n",
        "\n",
        ">>>>[OrderedDict](#scrollTo=w9ZY8Plx-_4z)\n",
        "\n",
        ">>>[Множества](#scrollTo=whUdeiGg-_41)\n",
        "\n",
        ">>>>[Неизменяемые множества](#scrollTo=cC6mGisx-_42)\n",
        "\n",
        ">>>>[Операции с множествами](#scrollTo=kKx-X-OD-_43)\n",
        "\n",
        ">>>[Логический тип](#scrollTo=QwzuhUq--_47)\n",
        "\n",
        ">>[Конструкции](#scrollTo=ioDiNE2r-_49)\n",
        "\n",
        ">>[Циклы](#scrollTo=Vt08uyX6-_4-)\n",
        "\n",
        ">>>>[Цикл for](#scrollTo=Thyhvupk-_4-)\n",
        "\n",
        ">>>>[Цикл while](#scrollTo=AEaTFlc1-_5E)\n",
        "\n",
        ">>[Условия](#scrollTo=YAxCA81S-_5J)\n",
        "\n",
        ">>[Функции](#scrollTo=giLAoO_l-_5J)\n",
        "\n",
        ">>>[lambda-функции](#scrollTo=Du610vss-_5N)\n",
        "\n",
        ">>>[Области видимости](#scrollTo=vhUn3xty-_5P)\n",
        "\n",
        ">>>[Генераторы](#scrollTo=d23pSJ2S-_5V)\n",
        "\n",
        ">>[Классы (ООП)](#scrollTo=4WB5qniE-_5W)\n",
        "\n",
        ">>>[Может пригодиться](#scrollTo=uy8pitN1-_5b)\n",
        "\n",
        ">>[Домашнее задание](#scrollTo=QHLejCbX-_5d)\n",
        "\n",
        ">>>[Задача № 1](#scrollTo=8auzJuMy-_5d)\n",
        "\n",
        ">>>[Задача № 2](#scrollTo=4sWUzU84-_5e)\n",
        "\n",
        ">>>[Задача № 3](#scrollTo=qKQ2QIwz-_5f)\n",
        "\n",
        ">>>[Задача № 4](#scrollTo=3y403V3r-_5f)\n",
        "\n",
        ">>>[Задача № 5](#scrollTo=3924OseJ-_5h)\n",
        "\n",
        ">>>[Задача № 6](#scrollTo=ks54YrbK-_5l)\n",
        "\n",
        ">>>[Задача № 7](#scrollTo=0bLZ_Db6-_5m)\n",
        "\n"
      ],
      "metadata": {
        "colab_type": "toc",
        "id": "H8IhhSZA_axe"
      }
    },
    {
      "cell_type": "markdown",
      "metadata": {
        "id": "GNjgYv6I-_3c"
      },
      "source": [
        "## Импортирование модулей <a class=\"anchor\" id=\"import\"></a>"
      ]
    },
    {
      "cell_type": "markdown",
      "metadata": {
        "id": "tC4sQvQ2-_3c"
      },
      "source": [
        "```Справка из документации```:\\\n",
        "**Что делает import?**\n",
        "\n",
        "При импорте модуля Python выполняет весь код в нём. При импорте пакета Python выполняет код в файле пакета ```__init__.py```, если такой имеется. Все объекты, определённые в модуле или ```__init__.py```, становятся доступны импортирующему.\n",
        "\n",
        "Вот как оператор ```import``` производит поиск нужного модуля или пакета согласно документации Python:\n",
        "\n",
        "При импорте модуля ```spam``` интерпретатор сначала ищёт встроенный модуль с таким именем. Если такого модуля нет, то идёт поиск файла ```spam.py``` в списке директорий, определённых в переменной ```sys.path```.\\\n",
        "```sys.path``` инициализируется из следующих мест:\n",
        "\n",
        "* директории, содержащей исходный скрипт (или текущей директории, если файл не указан);\n",
        "* директории по умолчанию, которая зависит от дистрибутива Python;\n",
        "* ```PYTHONPATH``` (список имён директорий; имеет синтаксис, аналогичный переменной окружения ```PATH```).\n",
        "\n",
        "Программы могут изменять переменную ```sys.path``` после её инициализации. Директория, содержащая запускаемый скрипт, помещается в начало поиска перед путём к стандартной библиотеке. Это значит, что скрипты в этой директории будут импортированы вместо модулей с такими же именами в стандартной библиотеке."
      ]
    },
    {
      "cell_type": "markdown",
      "metadata": {
        "id": "Fd4kZn3V-_3d"
      },
      "source": [
        "```Для чего это нужно и где используется```:\n",
        "В языке программирования Python есть большое количество встроенных библиотек, а также очень полезных сторонних библиотек (numpy, pandas - речь о которых пойдет дальше в курсе).\\\n",
        "Чтобы воспользоваться функцией из библиотеки, нужно ее импортировать.\\\n",
        "Рассмотрим на примере библиотеки random и функций randint для генерации целых чисел из промежутка и uniform для генерации вещественных чисел из промежутка."
      ]
    },
    {
      "cell_type": "code",
      "execution_count": null,
      "metadata": {
        "colab": {
          "base_uri": "https://localhost:8080/"
        },
        "id": "0CFic68n-_3e",
        "outputId": "504acb21-8ce0-4d33-d174-e9c0dcd759de"
      },
      "outputs": [
        {
          "output_type": "execute_result",
          "data": {
            "text/plain": [
              "1"
            ]
          },
          "metadata": {},
          "execution_count": 1
        }
      ],
      "source": [
        "# импортировали библиотеку\n",
        "import random\n",
        "random.seed(42) # можно зафиксировать зерно случайности, чтобы результаты воспроизводились при разных запусках\n",
        "# теперь функция randint доступна через синтаксис . библиотеки random\n",
        "random.randint(1, 4)"
      ]
    },
    {
      "cell_type": "code",
      "execution_count": null,
      "metadata": {
        "colab": {
          "base_uri": "https://localhost:8080/"
        },
        "id": "YSK-AMcY-_3h",
        "outputId": "81d844f6-0d22-41ba-f4c0-c807482e0d5c"
      },
      "outputs": [
        {
          "output_type": "execute_result",
          "data": {
            "text/plain": [
              "1"
            ]
          },
          "metadata": {},
          "execution_count": 2
        }
      ],
      "source": [
        "# можно импортировать с использованием алиаса\n",
        "import random as rm\n",
        "# теперь функция randint доступна через синтаксис . алиаса rm библиотеки random\n",
        "rm.randint(1, 4)"
      ]
    },
    {
      "cell_type": "markdown",
      "metadata": {
        "id": "HxmohvJp-_3h"
      },
      "source": [
        "```Интересный факт```: Для популярных библиотек есть общепринятые алиасы: к примеру, ```numpy``` – ```np```, ```pandas``` – ```pd```.\\\n",
        "(алиас ```rm``` для библиотеки ```random``` общепринятым не является)"
      ]
    },
    {
      "cell_type": "code",
      "execution_count": null,
      "metadata": {
        "colab": {
          "base_uri": "https://localhost:8080/"
        },
        "id": "Lo8ae0Je-_3i",
        "outputId": "75af4c4e-9663-41d9-90f4-a4c67532d7dc"
      },
      "outputs": [
        {
          "output_type": "execute_result",
          "data": {
            "text/plain": [
              "3"
            ]
          },
          "metadata": {},
          "execution_count": 3
        }
      ],
      "source": [
        "# из библиотеки можно импортировать любой объект\n",
        "from random import randint\n",
        "# теперь функция randint доступна без синтаксиса . и названия библиотеки/алиаса\n",
        "randint(1, 4)"
      ]
    },
    {
      "cell_type": "code",
      "execution_count": null,
      "metadata": {
        "colab": {
          "base_uri": "https://localhost:8080/"
        },
        "id": "g1Nh60U5-_3i",
        "outputId": "f3dedeb9-2179-4a53-ac80-26c45b60f3ac"
      },
      "outputs": [
        {
          "output_type": "stream",
          "name": "stdout",
          "text": [
            "2 0.22321073814882275\n",
            "1 0.6766994874229113\n"
          ]
        }
      ],
      "source": [
        "# если надо импортировать несколько объектов, можно перечислить их через запятую\n",
        "#  - в одну строку\n",
        "from random import randint, uniform\n",
        "print(randint(1, 4), uniform(0, 1))\n",
        "#  - в несколько строк\n",
        "from random import (\n",
        "    randint, \n",
        "    uniform\n",
        ")\n",
        "print(randint(1, 4), uniform(0, 1))"
      ]
    },
    {
      "cell_type": "code",
      "execution_count": null,
      "metadata": {
        "id": "g2wJtuZC-_3i"
      },
      "outputs": [],
      "source": [
        "# from random import * # опасная конструкция, потому что встроенные функции могут перетереться; так не надо делать!\n",
        "# (тогда ВСЕ функции из random станут доступны без названия библиотеки/алиаса)\n",
        "\n",
        "# Рассмотрим на примере библиотеки для работы с векторными операциями numpy\n",
        "# к примеру, np.sum - функция суммирования массива из numpy перетрет встроенную функцию суммирования sum\n",
        "# np.max перекроет встроенную функцию max"
      ]
    },
    {
      "cell_type": "code",
      "execution_count": null,
      "metadata": {
        "colab": {
          "base_uri": "https://localhost:8080/"
        },
        "id": "2LL3ItS2-_3j",
        "outputId": "d60a621a-21e4-4bf2-8a1f-34dda13f31ed"
      },
      "outputs": [
        {
          "output_type": "execute_result",
          "data": {
            "text/plain": [
              "(<function numpy.amax(a, axis=None, out=None, keepdims=<no value>, initial=<no value>, where=<no value>)>,\n",
              " <function max>)"
            ]
          },
          "metadata": {},
          "execution_count": 5
        }
      ],
      "source": [
        "import numpy as np\n",
        "np.max, max"
      ]
    },
    {
      "cell_type": "code",
      "execution_count": null,
      "metadata": {
        "colab": {
          "base_uri": "https://localhost:8080/"
        },
        "id": "z5l4mCcq-_3j",
        "outputId": "419017ac-304d-4cec-e2c8-4ce2ea6313bb"
      },
      "outputs": [
        {
          "output_type": "execute_result",
          "data": {
            "text/plain": [
              "(<function numpy.amax(a, axis=None, out=None, keepdims=<no value>, initial=<no value>, where=<no value>)>,\n",
              " <function numpy.amax(a, axis=None, out=None, keepdims=<no value>, initial=<no value>, where=<no value>)>)"
            ]
          },
          "metadata": {},
          "execution_count": 6
        }
      ],
      "source": [
        "from numpy import max\n",
        "np.max, max"
      ]
    },
    {
      "cell_type": "code",
      "execution_count": null,
      "metadata": {
        "id": "KKSAiLf1-_3j"
      },
      "outputs": [],
      "source": [
        "del max # так можно удалить переопределение"
      ]
    },
    {
      "cell_type": "code",
      "execution_count": null,
      "metadata": {
        "colab": {
          "base_uri": "https://localhost:8080/"
        },
        "id": "mjzzBfnM-_3k",
        "outputId": "df360c03-7c79-40b7-c547-628aaee03c67"
      },
      "outputs": [
        {
          "output_type": "execute_result",
          "data": {
            "text/plain": [
              "(<function numpy.amax(a, axis=None, out=None, keepdims=<no value>, initial=<no value>, where=<no value>)>,\n",
              " <function max>)"
            ]
          },
          "metadata": {},
          "execution_count": 8
        }
      ],
      "source": [
        "np.max, max"
      ]
    },
    {
      "cell_type": "markdown",
      "metadata": {
        "id": "OH3wt-fU-_3k"
      },
      "source": [
        "Также можно импортировать пользовательские модули с использованием того же синтаксиса."
      ]
    },
    {
      "cell_type": "markdown",
      "metadata": {
        "id": "mm4kplil-_3k"
      },
      "source": [
        "Если есть пользовательский модуль ```task``` в директории с текущим скриптом, то он импортируется так:\n",
        "```python \n",
        "import task\n",
        "```\n",
        "либо другие конструкции, перечисленные выше. (from, as)\n",
        "\n",
        "\n",
        "Если есть директория ```task``` в директории с текущим скриптом, а в директории ```task``` есть модуль ```lesson```, то он импортируется так:\n",
        "```python \n",
        "import task.lesson\n",
        "```\n",
        "либо другие конструкции, перечисленные выше."
      ]
    },
    {
      "cell_type": "markdown",
      "metadata": {
        "id": "e5Sm03Un-_3l"
      },
      "source": [
        "Если вы импортируете пользовательский модуль ```task``` и производите в нем изменения, то для того чтобы эти изменения попробовать, не обязательно перезапускать интерпретатор python, если в нем ранее был произведен импорт модуля ```task```.\\\n",
        "Можно использовать следующую конструкцию:\n",
        "```python \n",
        "import importlib\n",
        "\n",
        "importlib.reload(module) # module - название модуля (строка)\n",
        "```\n",
        "Например:\n",
        "```python \n",
        "importlib.reload(\"task\")\n",
        "```\n",
        "Такая конструкция загрузит все изменения, которые произошли в модуле task, и их можно будет далее использовать в интерпретаторе."
      ]
    },
    {
      "cell_type": "markdown",
      "metadata": {
        "id": "-ceuyGlI-_3l"
      },
      "source": [
        "Ссылка на документацию python: https://docs.python.org/3/reference/import.html \\\n",
        "Там можно найти информацию и про другие типы данных и связанные с ними методы, воспользовавшись поиском."
      ]
    },
    {
      "cell_type": "markdown",
      "metadata": {
        "id": "YfaW89Wv-_3l"
      },
      "source": [
        "## Типы данных <a class=\"anchor\" id=\"types\"></a>"
      ]
    },
    {
      "cell_type": "markdown",
      "metadata": {
        "id": "WNGYbeg7-_3m"
      },
      "source": [
        "В языке Python есть несколько стандартных типов данных:\n",
        "\n",
        "* Numbers (числа)\n",
        "* Strings (строки)\n",
        "* Lists (списки)\n",
        "* Dictionaries (словари)\n",
        "* Tuples (кортежи)\n",
        "* Sets (множества)\n",
        "* Boolean (логический тип данных)"
      ]
    },
    {
      "cell_type": "markdown",
      "metadata": {
        "id": "lBzoMfGv-_3m"
      },
      "source": [
        "### Числа <a class=\"anchor\" id=\"ints\"></a>"
      ]
    },
    {
      "cell_type": "markdown",
      "metadata": {
        "id": "xavJAfGl-_3m"
      },
      "source": [
        "```Важно: ``` Числа в python – неизменяемый тип данных!"
      ]
    },
    {
      "cell_type": "markdown",
      "metadata": {
        "id": "PE7O7ydB-_3m"
      },
      "source": [
        "Создаем число 1. Целые числа в питоне имеют тип ```int```."
      ]
    },
    {
      "cell_type": "code",
      "execution_count": null,
      "metadata": {
        "colab": {
          "base_uri": "https://localhost:8080/"
        },
        "id": "zNHMXaQe-_3n",
        "outputId": "e7774195-6e3f-4193-cec7-32bc464e7e2b"
      },
      "outputs": [
        {
          "output_type": "execute_result",
          "data": {
            "text/plain": [
              "1"
            ]
          },
          "metadata": {},
          "execution_count": 9
        }
      ],
      "source": [
        "x = 1 # создали число\n",
        "x # вывели число (если в конце ячейки пишем переменную, то выводится ее значение на экран)"
      ]
    },
    {
      "cell_type": "code",
      "execution_count": null,
      "metadata": {
        "colab": {
          "base_uri": "https://localhost:8080/"
        },
        "id": "xT5cnIrq-_3n",
        "outputId": "603dc517-16dd-4e9d-9c00-2ba7101a2894"
      },
      "outputs": [
        {
          "output_type": "execute_result",
          "data": {
            "text/plain": [
              "int"
            ]
          },
          "metadata": {},
          "execution_count": 10
        }
      ],
      "source": [
        "type(x) # вывели тип числа"
      ]
    },
    {
      "cell_type": "markdown",
      "metadata": {
        "id": "tffuVJgs-_3n"
      },
      "source": [
        "Кроме того, можно создавать числа типа ```float```, ```complex```.\\\n",
        "Можно производить операцию приведения типов между числами типа ```float``` и ```int```.\\\n",
        "Числа типа ```complex``` нельзя конвертировать в ```float```/```int``` (обратная операция возможна)."
      ]
    },
    {
      "cell_type": "code",
      "execution_count": null,
      "metadata": {
        "colab": {
          "base_uri": "https://localhost:8080/"
        },
        "id": "hAhGBn5U-_3o",
        "outputId": "d8f178da-fe5f-4118-a082-1a2d1c46378d"
      },
      "outputs": [
        {
          "output_type": "execute_result",
          "data": {
            "text/plain": [
              "(1.0, float)"
            ]
          },
          "metadata": {},
          "execution_count": 11
        }
      ],
      "source": [
        "float(x), type(float(x)) # float(x) - приводим переменную x к типу float"
      ]
    },
    {
      "cell_type": "code",
      "execution_count": null,
      "metadata": {
        "colab": {
          "base_uri": "https://localhost:8080/"
        },
        "id": "AIBOSRDr-_3o",
        "outputId": "9c7c376c-690c-4f97-df56-ee176c59a5e6"
      },
      "outputs": [
        {
          "output_type": "execute_result",
          "data": {
            "text/plain": [
              "(0.1, float)"
            ]
          },
          "metadata": {},
          "execution_count": 12
        }
      ],
      "source": [
        "f = 0.1\n",
        "f, type(f)"
      ]
    },
    {
      "cell_type": "code",
      "execution_count": null,
      "metadata": {
        "colab": {
          "base_uri": "https://localhost:8080/"
        },
        "id": "vvANxqsE-_3o",
        "outputId": "63ce4ecb-6d3f-4a17-8a8a-7811a5433bb7"
      },
      "outputs": [
        {
          "output_type": "execute_result",
          "data": {
            "text/plain": [
              "(0, int)"
            ]
          },
          "metadata": {},
          "execution_count": 13
        }
      ],
      "source": [
        "int(f), type(int(f))"
      ]
    },
    {
      "cell_type": "code",
      "execution_count": null,
      "metadata": {
        "colab": {
          "base_uri": "https://localhost:8080/"
        },
        "id": "L3H9JrV7-_3o",
        "outputId": "9cdd9447-4a07-4c0f-82e2-fe0d40f529d1"
      },
      "outputs": [
        {
          "output_type": "execute_result",
          "data": {
            "text/plain": [
              "((1+0.1j), complex)"
            ]
          },
          "metadata": {},
          "execution_count": 14
        }
      ],
      "source": [
        "c = 1 + 0.1j\n",
        "c, type(c) # здесь j означает минимую часть числа (то есть i в привычном представлении)"
      ]
    },
    {
      "cell_type": "code",
      "execution_count": null,
      "metadata": {
        "colab": {
          "base_uri": "https://localhost:8080/"
        },
        "id": "TWgpBhyt-_3s",
        "outputId": "b8f07f89-aaf3-49cb-b775-394539a9fe7c"
      },
      "outputs": [
        {
          "output_type": "execute_result",
          "data": {
            "text/plain": [
              "((1+0j), complex)"
            ]
          },
          "metadata": {},
          "execution_count": 15
        }
      ],
      "source": [
        "complex(x), type(complex(x))"
      ]
    },
    {
      "cell_type": "code",
      "execution_count": null,
      "metadata": {
        "colab": {
          "base_uri": "https://localhost:8080/"
        },
        "id": "3ewZGPSW-_3t",
        "outputId": "02ddee0e-7527-470c-fa0e-c6e5401000ac"
      },
      "outputs": [
        {
          "output_type": "execute_result",
          "data": {
            "text/plain": [
              "((0.1+0j), complex)"
            ]
          },
          "metadata": {},
          "execution_count": 16
        }
      ],
      "source": [
        "complex(f), type(complex(f))"
      ]
    },
    {
      "cell_type": "markdown",
      "metadata": {
        "id": "ckrt-kVH-_3t"
      },
      "source": [
        "Для комплексных чисел встроенная функция abs посчитает модуль корректно."
      ]
    },
    {
      "cell_type": "code",
      "execution_count": null,
      "metadata": {
        "colab": {
          "base_uri": "https://localhost:8080/"
        },
        "id": "a_ubN7Bg-_3t",
        "outputId": "37f01a52-cced-4d94-8005-36701ac99fa5"
      },
      "outputs": [
        {
          "output_type": "execute_result",
          "data": {
            "text/plain": [
              "1.004987562112089"
            ]
          },
          "metadata": {},
          "execution_count": 17
        }
      ],
      "source": [
        "abs(c) "
      ]
    },
    {
      "cell_type": "markdown",
      "metadata": {
        "id": "h9hRN3uH-_3t"
      },
      "source": [
        "Создадим второе целое число, равное так же 1, чтобы понять, как числа хранятся в памяти."
      ]
    },
    {
      "cell_type": "code",
      "execution_count": null,
      "metadata": {
        "id": "ncTPsDU3-_3u"
      },
      "outputs": [],
      "source": [
        "y = 1"
      ]
    },
    {
      "cell_type": "code",
      "execution_count": null,
      "metadata": {
        "colab": {
          "base_uri": "https://localhost:8080/"
        },
        "id": "wMkyYIcp-_3u",
        "outputId": "fa0f17a8-922b-4437-b88a-2f309e1ac030"
      },
      "outputs": [
        {
          "output_type": "execute_result",
          "data": {
            "text/plain": [
              "(11256064, 11256064)"
            ]
          },
          "metadata": {},
          "execution_count": 19
        }
      ],
      "source": [
        "id(x), id(y) # id(...) - возвращает адрес переменной"
      ]
    },
    {
      "cell_type": "markdown",
      "metadata": {
        "id": "M0tneW7t-_3u"
      },
      "source": [
        "Заметим, что у данных двух чисел адреса совпадают; это значит, что число 1 хранится в памяти 1 раз и обе переменные x и y ссылаются на один и тот же адрес в памяти."
      ]
    },
    {
      "cell_type": "code",
      "execution_count": null,
      "metadata": {
        "colab": {
          "base_uri": "https://localhost:8080/"
        },
        "id": "yZj-A2mG-_3u",
        "outputId": "c1e4b957-037f-47f9-d26f-14a4f3730570"
      },
      "outputs": [
        {
          "output_type": "execute_result",
          "data": {
            "text/plain": [
              "True"
            ]
          },
          "metadata": {},
          "execution_count": 20
        }
      ],
      "source": [
        "id(x) == id(y) "
      ]
    },
    {
      "cell_type": "code",
      "execution_count": null,
      "metadata": {
        "colab": {
          "base_uri": "https://localhost:8080/"
        },
        "id": "KNPdpjPy-_3v",
        "outputId": "7dfa76f0-ab32-4623-e202-b15f871a8364"
      },
      "outputs": [
        {
          "output_type": "execute_result",
          "data": {
            "text/plain": [
              "True"
            ]
          },
          "metadata": {},
          "execution_count": 21
        }
      ],
      "source": [
        "x is y # оператор is сравнивает id переменных (x is y эквивалетно id(x) == id(y))"
      ]
    },
    {
      "cell_type": "markdown",
      "metadata": {
        "id": "e6gLUbyO-_3v"
      },
      "source": [
        "Можно произвести inplace-операцию над числом. Тогда значение переменной изменится."
      ]
    },
    {
      "cell_type": "code",
      "execution_count": null,
      "metadata": {
        "colab": {
          "base_uri": "https://localhost:8080/"
        },
        "id": "OV3kx76S-_3v",
        "outputId": "8ea7725b-f576-48a0-ffc6-b85dc509dc8f"
      },
      "outputs": [
        {
          "output_type": "execute_result",
          "data": {
            "text/plain": [
              "11"
            ]
          },
          "metadata": {},
          "execution_count": 22
        }
      ],
      "source": [
        "x += 10\n",
        "x # значение переменной x изменилось (переменная стала указывать на другой объект в памяти)"
      ]
    },
    {
      "cell_type": "code",
      "execution_count": null,
      "metadata": {
        "colab": {
          "base_uri": "https://localhost:8080/"
        },
        "id": "OljDWwAJ-_3v",
        "outputId": "5262c6e5-ab24-4f87-c6ae-1d1f38c63515"
      },
      "outputs": [
        {
          "output_type": "execute_result",
          "data": {
            "text/plain": [
              "1"
            ]
          },
          "metadata": {},
          "execution_count": 23
        }
      ],
      "source": [
        "y # значение переменной y не изменилось"
      ]
    },
    {
      "cell_type": "code",
      "execution_count": null,
      "metadata": {
        "colab": {
          "base_uri": "https://localhost:8080/"
        },
        "id": "tD7Mec0g-_3w",
        "outputId": "e11536da-426b-47e8-b81f-5643cc9375e3"
      },
      "outputs": [
        {
          "output_type": "execute_result",
          "data": {
            "text/plain": [
              "(11256384, 11256064)"
            ]
          },
          "metadata": {},
          "execution_count": 24
        }
      ],
      "source": [
        "id(x), id(y) # теперь переменные x и y указывают на разные объекты в памяти (11 и 1)"
      ]
    },
    {
      "cell_type": "code",
      "execution_count": null,
      "metadata": {
        "colab": {
          "base_uri": "https://localhost:8080/"
        },
        "id": "FcYMHVhA-_3w",
        "outputId": "d0e2c7b0-bd0d-4816-bcb5-030c4a4948d7"
      },
      "outputs": [
        {
          "output_type": "execute_result",
          "data": {
            "text/plain": [
              "False"
            ]
          },
          "metadata": {},
          "execution_count": 25
        }
      ],
      "source": [
        "x is y # соответственно их id не совпадают"
      ]
    },
    {
      "cell_type": "markdown",
      "metadata": {
        "id": "rQqteSeL-_3w"
      },
      "source": [
        "Проверим, для каких чисел верно описанное ранее (что переменные, содержащие одинаковые значения, указывают на значение, лежащее по одному адресу)."
      ]
    },
    {
      "cell_type": "code",
      "execution_count": null,
      "metadata": {
        "colab": {
          "base_uri": "https://localhost:8080/"
        },
        "id": "U4-rMWTQ-_3x",
        "outputId": "895bb951-cce3-4b4d-f75a-094b30e16ea6"
      },
      "outputs": [
        {
          "output_type": "execute_result",
          "data": {
            "text/plain": [
              "True"
            ]
          },
          "metadata": {},
          "execution_count": 26
        }
      ],
      "source": [
        "x = 256\n",
        "y = 256\n",
        "x is y"
      ]
    },
    {
      "cell_type": "code",
      "execution_count": null,
      "metadata": {
        "colab": {
          "base_uri": "https://localhost:8080/"
        },
        "id": "bT0oz2fV-_3x",
        "outputId": "9095c7cf-57e5-4437-c275-c4e081634771"
      },
      "outputs": [
        {
          "output_type": "execute_result",
          "data": {
            "text/plain": [
              "False"
            ]
          },
          "metadata": {},
          "execution_count": 27
        }
      ],
      "source": [
        "x = 257\n",
        "y = 257\n",
        "x is y"
      ]
    },
    {
      "cell_type": "code",
      "execution_count": null,
      "metadata": {
        "colab": {
          "base_uri": "https://localhost:8080/"
        },
        "id": "Or3Rz0O--_3x",
        "outputId": "1ac78805-a638-425a-c8d9-0e0d6021fc26"
      },
      "outputs": [
        {
          "output_type": "execute_result",
          "data": {
            "text/plain": [
              "True"
            ]
          },
          "metadata": {},
          "execution_count": 28
        }
      ],
      "source": [
        "x = -5\n",
        "y = -5\n",
        "x is y"
      ]
    },
    {
      "cell_type": "code",
      "execution_count": null,
      "metadata": {
        "colab": {
          "base_uri": "https://localhost:8080/"
        },
        "id": "ybw4KP_K-_3x",
        "outputId": "43603f2c-11e6-455d-b684-b7527e13987f"
      },
      "outputs": [
        {
          "output_type": "execute_result",
          "data": {
            "text/plain": [
              "False"
            ]
          },
          "metadata": {},
          "execution_count": 29
        }
      ],
      "source": [
        "x = -6\n",
        "y = -6\n",
        "x is y"
      ]
    },
    {
      "cell_type": "markdown",
      "metadata": {
        "id": "P-RrSSGf-_3y"
      },
      "source": [
        "Как видно, данный тип оптимизации (хранение одного числа на несколько переменных) происходит для чисел из отрезка $[-5, 256]$."
      ]
    },
    {
      "cell_type": "markdown",
      "metadata": {
        "id": "mGdq8VjK-_3y"
      },
      "source": [
        "#### Операции над числами"
      ]
    },
    {
      "cell_type": "markdown",
      "metadata": {
        "id": "GSpf1CJL-_3y"
      },
      "source": [
        "**Бинарные:**\n",
        "\n",
        "* ```python \n",
        "x + y # сложение\n",
        "``` \n",
        "* ```python \n",
        "x - y # вычитание\n",
        "``` \n",
        "* ```python \n",
        "x / y # деление\n",
        "``` \n",
        "* ```python \n",
        "x * y # умножение\n",
        "```\n",
        "* ```python \n",
        "x // y # целая часть от деления\n",
        "```\n",
        "* ```python \n",
        "x % y # остаток от деления\n",
        "```\n",
        "* ```python \n",
        "x ** y # возведение в степень\n",
        "```\n",
        "\n",
        "**Бинарные битовые:**\n",
        "\n",
        "* ```python \n",
        "x & y # и (and)\n",
        "``` \n",
        "* ```python \n",
        "x | y # или (or)\n",
        "``` \n",
        "* ```python \n",
        "x ^ y # исключающее или (xor)\n",
        "``` \n",
        "* ```python \n",
        "x >> y # побитовый сдвиг вправо\n",
        "``` \n",
        "* ```python \n",
        "x << y # побитовый сдвиг влево\n",
        "``` \n",
        "\n",
        "**Унарные:**\n",
        "\n",
        "* ```python \n",
        "y = ~x # инвертирование\n",
        "```\n",
        "* ```python \n",
        "y = -x # унарный минус\n",
        "```\n",
        "* ```python \n",
        "y = +x # унарный плюс\n",
        "```\n",
        "\n",
        "\n",
        "Все бинарные операции могут быть inplace (к знаку операции спереди приписывается =).\\\n",
        "Кроме того, все математические методы можно переопределять с помощью сооветсствующих методов класса. Несколько стандартных названий: \n",
        "* ```python \n",
        "__pos__ # унарный плюс\n",
        "```\n",
        "* ```python \n",
        "__neg__ # унарный минус\n",
        "```\n",
        "* ```python \n",
        "__add__ # сложение\n",
        "```\n",
        "* ```python \n",
        "__radd__ # коммутативное сложение\n",
        "```\n",
        "* ```python \n",
        "__rsub__ # коммутативное вычитание\n",
        "```"
      ]
    },
    {
      "cell_type": "markdown",
      "metadata": {
        "id": "oPXgMX8N-_3z"
      },
      "source": [
        "```Интересный факт:``` Унарные операторы можно повторять и комбинировать сколько угодно раз."
      ]
    },
    {
      "cell_type": "code",
      "execution_count": null,
      "metadata": {
        "colab": {
          "base_uri": "https://localhost:8080/"
        },
        "id": "E8dB0nGc-_3z",
        "outputId": "aac99ed9-b4c5-4447-cf75-0c189c828314"
      },
      "outputs": [
        {
          "output_type": "execute_result",
          "data": {
            "text/plain": [
              "(-1, 11)"
            ]
          },
          "metadata": {},
          "execution_count": 30
        }
      ],
      "source": [
        "++-++-+---+--++-++-+1, -~-~-~-~-~-~-~-~-~-~1"
      ]
    },
    {
      "cell_type": "markdown",
      "metadata": {
        "id": "5wZ4cesD-_3z"
      },
      "source": [
        "Про унарные операторы и переменную _ можно подробнее прочитать здесь: https://habr.com/ru/post/349776/"
      ]
    },
    {
      "cell_type": "markdown",
      "metadata": {
        "id": "eJATW-Rg-_3z"
      },
      "source": [
        "### Списки <a class=\"anchor\" id=\"lists\"></a>"
      ]
    },
    {
      "cell_type": "markdown",
      "metadata": {
        "id": "BjDSBGsX-_3z"
      },
      "source": [
        "```Важно: ``` Списки в python – изменяемый тип данных!"
      ]
    },
    {
      "cell_type": "markdown",
      "metadata": {
        "id": "L3j-qgy0-_30"
      },
      "source": [
        "Создадим список, содержащий числа 1, 2, 3."
      ]
    },
    {
      "cell_type": "code",
      "execution_count": null,
      "metadata": {
        "colab": {
          "base_uri": "https://localhost:8080/"
        },
        "id": "Dvw5oViN-_30",
        "outputId": "4bf9f1e8-95b5-484c-e4a9-54eebb2d84df"
      },
      "outputs": [
        {
          "output_type": "execute_result",
          "data": {
            "text/plain": [
              "([1, 2, 3], list)"
            ]
          },
          "metadata": {},
          "execution_count": 31
        }
      ],
      "source": [
        "lst = [1, 2, 3] # [] - специальная конструкция, обозначающая тип list\n",
        "lst, type(lst)"
      ]
    },
    {
      "cell_type": "code",
      "execution_count": null,
      "metadata": {
        "colab": {
          "base_uri": "https://localhost:8080/"
        },
        "id": "PqosI7fv-_30",
        "outputId": "4b7777c3-0a92-4564-fc73-d7d7bed9621a"
      },
      "outputs": [
        {
          "output_type": "execute_result",
          "data": {
            "text/plain": [
              "([1, 2, 3], [1, 2, 3])"
            ]
          },
          "metadata": {},
          "execution_count": 32
        }
      ],
      "source": [
        "a = [1, 2, 3]\n",
        "b = a\n",
        "a, b"
      ]
    },
    {
      "cell_type": "code",
      "execution_count": null,
      "metadata": {
        "colab": {
          "base_uri": "https://localhost:8080/"
        },
        "id": "fy_zkaDJ-_30",
        "outputId": "fbb15530-8ed3-469f-bde4-989949897abd"
      },
      "outputs": [
        {
          "output_type": "execute_result",
          "data": {
            "text/plain": [
              "(True, 139932550950736, 139932550950736)"
            ]
          },
          "metadata": {},
          "execution_count": 33
        }
      ],
      "source": [
        "a is b, id(a), id(b) # переменные а и b указывают на 1 объект в памяти"
      ]
    },
    {
      "cell_type": "markdown",
      "metadata": {
        "id": "vp-vadry-_31"
      },
      "source": [
        "Изменим нулевой элемент в списке a.\\\n",
        "Поскольку объект b был создан с помощью операции =, то переменные a и b указывают на 1 объект в памяти, поэтому они изменения над a отображаются и над b."
      ]
    },
    {
      "cell_type": "code",
      "execution_count": null,
      "metadata": {
        "colab": {
          "base_uri": "https://localhost:8080/"
        },
        "id": "HvqZtn6T-_31",
        "outputId": "3bdf987f-f55a-4a0c-da21-d49a28b12648"
      },
      "outputs": [
        {
          "output_type": "execute_result",
          "data": {
            "text/plain": [
              "([4, 2, 3], [4, 2, 3])"
            ]
          },
          "metadata": {},
          "execution_count": 34
        }
      ],
      "source": [
        "a[0] = 4 # индексация в списках начинается с нуля\n",
        "a, b"
      ]
    },
    {
      "cell_type": "code",
      "execution_count": null,
      "metadata": {
        "colab": {
          "base_uri": "https://localhost:8080/"
        },
        "id": "tMl4QfsS-_31",
        "outputId": "64e9f09f-4b69-4496-b28a-5ef97ad7c206"
      },
      "outputs": [
        {
          "output_type": "execute_result",
          "data": {
            "text/plain": [
              "(True, 139932550950736, 139932550950736)"
            ]
          },
          "metadata": {},
          "execution_count": 35
        }
      ],
      "source": [
        "a is b, id(a), id(b)"
      ]
    },
    {
      "cell_type": "markdown",
      "metadata": {
        "id": "71g2Y2f0-_32"
      },
      "source": [
        "Конечно, если объекты a и b будут иметь одинаковые значения, но будут оба созданы с помощью конструктора списков, такого не произойдет."
      ]
    },
    {
      "cell_type": "code",
      "execution_count": null,
      "metadata": {
        "colab": {
          "base_uri": "https://localhost:8080/"
        },
        "id": "C1gRZwaF-_32",
        "outputId": "12653a39-1ba1-4e2b-ea8b-b582c962f364"
      },
      "outputs": [
        {
          "output_type": "execute_result",
          "data": {
            "text/plain": [
              "([1, 2, 3], [1, 2, 3])"
            ]
          },
          "metadata": {},
          "execution_count": 36
        }
      ],
      "source": [
        "a = [1, 2, 3]\n",
        "b = [1, 2, 3]\n",
        "a, b"
      ]
    },
    {
      "cell_type": "code",
      "execution_count": null,
      "metadata": {
        "colab": {
          "base_uri": "https://localhost:8080/"
        },
        "id": "cbsMxo-c-_32",
        "outputId": "92f9003b-e00d-456c-a7ad-7e564b8e77d7"
      },
      "outputs": [
        {
          "output_type": "execute_result",
          "data": {
            "text/plain": [
              "False"
            ]
          },
          "metadata": {},
          "execution_count": 37
        }
      ],
      "source": [
        "a is b"
      ]
    },
    {
      "cell_type": "code",
      "execution_count": null,
      "metadata": {
        "colab": {
          "base_uri": "https://localhost:8080/"
        },
        "id": "exvixFFf-_33",
        "outputId": "07d34f61-8df0-450b-bda9-ccb3787a45d9"
      },
      "outputs": [
        {
          "output_type": "execute_result",
          "data": {
            "text/plain": [
              "([4, 2, 3], [1, 2, 3])"
            ]
          },
          "metadata": {},
          "execution_count": 38
        }
      ],
      "source": [
        "a[0] = 4\n",
        "a, b"
      ]
    },
    {
      "cell_type": "markdown",
      "metadata": {
        "id": "MrssftK5-_33"
      },
      "source": [
        "Чтобы избежать такой ситуации, в которой объект b меняется одновременно с объектом a, потребуется использовать функцию copy или deepcopy.\\\n",
        "**Осторожно: в этом месте можно с большой вероятностью словить баг, если не вспомнить про copy/deepcopy. Тогда 2 объекта будут меняться одновеременно, а этого не всегда хочется.**"
      ]
    },
    {
      "cell_type": "code",
      "execution_count": null,
      "metadata": {
        "colab": {
          "base_uri": "https://localhost:8080/"
        },
        "id": "OaQQt-1S-_33",
        "outputId": "25cdfd78-6d38-4ffa-a739-1dabdd78468d"
      },
      "outputs": [
        {
          "output_type": "execute_result",
          "data": {
            "text/plain": [
              "([1, 2, 3], [1, 2, 3])"
            ]
          },
          "metadata": {},
          "execution_count": 39
        }
      ],
      "source": [
        "a = [1, 2, 3]\n",
        "b = a.copy()\n",
        "a, b"
      ]
    },
    {
      "cell_type": "code",
      "execution_count": null,
      "metadata": {
        "colab": {
          "base_uri": "https://localhost:8080/"
        },
        "id": "EhDUQQy--_33",
        "outputId": "267025a9-9ef8-4fd9-8483-62584825a0b3"
      },
      "outputs": [
        {
          "output_type": "execute_result",
          "data": {
            "text/plain": [
              "False"
            ]
          },
          "metadata": {},
          "execution_count": 40
        }
      ],
      "source": [
        "a is b"
      ]
    },
    {
      "cell_type": "code",
      "execution_count": null,
      "metadata": {
        "colab": {
          "base_uri": "https://localhost:8080/"
        },
        "id": "UoP2WdGQ-_34",
        "outputId": "f4f01248-3046-452e-8e0a-30aab34ed918"
      },
      "outputs": [
        {
          "output_type": "execute_result",
          "data": {
            "text/plain": [
              "([4, 2, 3], [1, 2, 3])"
            ]
          },
          "metadata": {},
          "execution_count": 41
        }
      ],
      "source": [
        "a[0] = 4\n",
        "a, b"
      ]
    },
    {
      "cell_type": "markdown",
      "metadata": {
        "id": "S5O49q0a-_34"
      },
      "source": [
        "Как видим, для списка глубины 1 (не содержащего списки, а содержащего числа) copy сработал. \\\n",
        "А что будет для списков, содержащих в себе списки?"
      ]
    },
    {
      "cell_type": "code",
      "execution_count": null,
      "metadata": {
        "colab": {
          "base_uri": "https://localhost:8080/"
        },
        "id": "Crhx9cNi-_34",
        "outputId": "25f44a7e-3ffb-4b1d-b99f-f5cdbb3575d3"
      },
      "outputs": [
        {
          "output_type": "execute_result",
          "data": {
            "text/plain": [
              "([[1, 2, 3], [1, 2, 3]], [[1, 2, 3], [1, 2, 3]])"
            ]
          },
          "metadata": {},
          "execution_count": 42
        }
      ],
      "source": [
        "a = [[1, 2, 3], [1, 2, 3]]\n",
        "b = a.copy()\n",
        "a, b"
      ]
    },
    {
      "cell_type": "code",
      "execution_count": null,
      "metadata": {
        "colab": {
          "base_uri": "https://localhost:8080/"
        },
        "id": "Y06gAfFn-_35",
        "outputId": "e08f209b-48b3-4733-a206-c93aa5bc2cd3"
      },
      "outputs": [
        {
          "output_type": "execute_result",
          "data": {
            "text/plain": [
              "([[4], [1, 2, 3]], [[1, 2, 3], [1, 2, 3]])"
            ]
          },
          "metadata": {},
          "execution_count": 43
        }
      ],
      "source": [
        "a[0] = [4]\n",
        "a, b"
      ]
    },
    {
      "cell_type": "code",
      "execution_count": null,
      "metadata": {
        "colab": {
          "base_uri": "https://localhost:8080/"
        },
        "id": "RjnRlEt7-_35",
        "outputId": "b43331a5-9971-4102-a2e2-2bcf919a39f9"
      },
      "outputs": [
        {
          "output_type": "execute_result",
          "data": {
            "text/plain": [
              "([[4], [5, 2, 3]], [[1, 2, 3], [5, 2, 3]])"
            ]
          },
          "metadata": {},
          "execution_count": 44
        }
      ],
      "source": [
        "a[1][0] = 5\n",
        "a, b"
      ]
    },
    {
      "cell_type": "markdown",
      "metadata": {
        "id": "dEfPxEHz-_35"
      },
      "source": [
        "Как видим, copy не защищает вложенные списки от нежелательного копирования. \\\n",
        "Для того, чтобы этого избежать, используем ```deepcopy``` - эта функция вернет глубокую копию объекта (тогда как copy вернет поверхностную копию)."
      ]
    },
    {
      "cell_type": "code",
      "execution_count": null,
      "metadata": {
        "id": "uykVO2tD-_35"
      },
      "outputs": [],
      "source": [
        "from copy import deepcopy"
      ]
    },
    {
      "cell_type": "code",
      "execution_count": null,
      "metadata": {
        "colab": {
          "base_uri": "https://localhost:8080/"
        },
        "id": "FU-Ts0pP-_36",
        "outputId": "aa3fff1b-2621-4982-cf25-a00378d4b2b3"
      },
      "outputs": [
        {
          "output_type": "execute_result",
          "data": {
            "text/plain": [
              "([[1, 2, 3], [1, 2, 3]], [[1, 2, 3], [1, 2, 3]])"
            ]
          },
          "metadata": {},
          "execution_count": 46
        }
      ],
      "source": [
        "a = [[1, 2, 3], [1, 2, 3]]\n",
        "b = deepcopy(a)\n",
        "a, b"
      ]
    },
    {
      "cell_type": "code",
      "execution_count": null,
      "metadata": {
        "colab": {
          "base_uri": "https://localhost:8080/"
        },
        "id": "gtvuOV03-_36",
        "outputId": "9c981aab-f958-49c6-bcea-19a925ed116b"
      },
      "outputs": [
        {
          "output_type": "execute_result",
          "data": {
            "text/plain": [
              "([[4], [1, 2, 3]], [[1, 2, 3], [1, 2, 3]])"
            ]
          },
          "metadata": {},
          "execution_count": 47
        }
      ],
      "source": [
        "a[0] = [4]\n",
        "a, b"
      ]
    },
    {
      "cell_type": "code",
      "execution_count": null,
      "metadata": {
        "colab": {
          "base_uri": "https://localhost:8080/"
        },
        "id": "P_EdrwIs-_36",
        "outputId": "8d5767fb-7909-478e-89b6-4b03899989dc"
      },
      "outputs": [
        {
          "output_type": "execute_result",
          "data": {
            "text/plain": [
              "([[4], [5, 2, 3]], [[1, 2, 3], [1, 2, 3]])"
            ]
          },
          "metadata": {},
          "execution_count": 48
        }
      ],
      "source": [
        "a[1][0] = 5\n",
        "a, b"
      ]
    },
    {
      "cell_type": "markdown",
      "metadata": {
        "id": "9zKbY2HO-_36"
      },
      "source": [
        "#### Создание списков"
      ]
    },
    {
      "cell_type": "markdown",
      "metadata": {
        "id": "-QH0UAqZ-_37"
      },
      "source": [
        "Ранее мы научились создавать списки с использованием $[]$. Как еще можно создать список?"
      ]
    },
    {
      "cell_type": "code",
      "execution_count": null,
      "metadata": {
        "colab": {
          "base_uri": "https://localhost:8080/"
        },
        "id": "I7ZvFpJM-_37",
        "outputId": "d741a756-99a6-49c0-bf1f-f916d1c31b85"
      },
      "outputs": [
        {
          "output_type": "execute_result",
          "data": {
            "text/plain": [
              "[1, 2, 3, 4, 5]"
            ]
          },
          "metadata": {},
          "execution_count": 49
        }
      ],
      "source": [
        "a = [1, 2, 3, 4, 5]\n",
        "a"
      ]
    },
    {
      "cell_type": "markdown",
      "metadata": {
        "id": "_ZFYLr4d-_37"
      },
      "source": [
        "```range(...)``` создает объект типа генератор, который позволяет итерироваться по числам в заданном промежутке (не учитывая верхнюю границу промежутка и учитывая нижнюю) с некоторым шагом. По умолчанию значение шага равно 1, значение нижней границы равно 0."
      ]
    },
    {
      "cell_type": "markdown",
      "metadata": {
        "id": "t7nZ2XeH-_37"
      },
      "source": [
        "Есть несколько вариантов вызова range:\n",
        "\n",
        "* ```range(STOP)```  принимает 1 аргумент\n",
        "* ```range(START, STOP)```  принимает 2 аргумента\n",
        "* ```range(START, STOP, STEP)```  принимает 3 аргумента"
      ]
    },
    {
      "cell_type": "markdown",
      "metadata": {
        "id": "dshd2fUy-_38"
      },
      "source": [
        "Ключевое слово ```list``` - название типа - позволяет сконвертировать генератор в список."
      ]
    },
    {
      "cell_type": "code",
      "execution_count": null,
      "metadata": {
        "colab": {
          "base_uri": "https://localhost:8080/"
        },
        "id": "ufFk2UEU-_38",
        "outputId": "6b6066a3-7bd1-4118-c51e-90f6385d178f"
      },
      "outputs": [
        {
          "output_type": "execute_result",
          "data": {
            "text/plain": [
              "[0, 1, 2, 3, 4, 5]"
            ]
          },
          "metadata": {},
          "execution_count": 50
        }
      ],
      "source": [
        "b = list(range(6)) \n",
        "b"
      ]
    },
    {
      "cell_type": "code",
      "execution_count": null,
      "metadata": {
        "colab": {
          "base_uri": "https://localhost:8080/"
        },
        "id": "OTeurxcB-_38",
        "outputId": "e053dbaa-a72d-4cf4-c731-43819b891df4"
      },
      "outputs": [
        {
          "output_type": "execute_result",
          "data": {
            "text/plain": [
              "[1, 2, 3, 4, 5]"
            ]
          },
          "metadata": {},
          "execution_count": 51
        }
      ],
      "source": [
        "b = list(range(1, 6)) \n",
        "b"
      ]
    },
    {
      "cell_type": "code",
      "execution_count": null,
      "metadata": {
        "colab": {
          "base_uri": "https://localhost:8080/"
        },
        "id": "dQPbC1ek-_39",
        "outputId": "617f9a49-a5ce-40d4-9883-0b8db0e6cd0f"
      },
      "outputs": [
        {
          "output_type": "execute_result",
          "data": {
            "text/plain": [
              "[1, 3, 5]"
            ]
          },
          "metadata": {},
          "execution_count": 52
        }
      ],
      "source": [
        "b = list(range(1, 6, 2)) \n",
        "b"
      ]
    },
    {
      "cell_type": "markdown",
      "metadata": {
        "id": "RDUYP9_W-_39"
      },
      "source": [
        "Можно использовать так же так называемые ```list-comprehensions```, которые выглядят следующим образом."
      ]
    },
    {
      "cell_type": "code",
      "execution_count": null,
      "metadata": {
        "colab": {
          "base_uri": "https://localhost:8080/"
        },
        "id": "ACpXKjJa-_39",
        "outputId": "2eafccfc-e5b1-4ef8-a84e-c39f7c42457c"
      },
      "outputs": [
        {
          "output_type": "execute_result",
          "data": {
            "text/plain": [
              "[1, 2, 3, 4, 5]"
            ]
          },
          "metadata": {},
          "execution_count": 53
        }
      ],
      "source": [
        "c = [i for i in range(1, 6)]\n",
        "c"
      ]
    },
    {
      "cell_type": "markdown",
      "metadata": {
        "id": "snN5jN_8-_39"
      },
      "source": [
        "#### Индексация"
      ]
    },
    {
      "cell_type": "code",
      "execution_count": null,
      "metadata": {
        "colab": {
          "base_uri": "https://localhost:8080/"
        },
        "id": "Bci-exUr-_3-",
        "outputId": "e6b3c785-7f91-437f-aeea-b7093b6d59ed"
      },
      "outputs": [
        {
          "output_type": "execute_result",
          "data": {
            "text/plain": [
              "[0, 1, 2, 3, 4, 5, 6, 7, 8, 9]"
            ]
          },
          "metadata": {},
          "execution_count": 54
        }
      ],
      "source": [
        "a = [i for i in range(10)]\n",
        "a"
      ]
    },
    {
      "cell_type": "code",
      "execution_count": null,
      "metadata": {
        "colab": {
          "base_uri": "https://localhost:8080/"
        },
        "id": "CjLgg2bg-_3-",
        "outputId": "eb9d5b3f-bf17-4a16-eafc-629d9d410f46"
      },
      "outputs": [
        {
          "output_type": "execute_result",
          "data": {
            "text/plain": [
              "(0, 5, 9)"
            ]
          },
          "metadata": {},
          "execution_count": 55
        }
      ],
      "source": [
        "a[0], a[5], a[9] # берем элемент по некоторому индексу (напомним, что индексация идет с 0!!!)"
      ]
    },
    {
      "cell_type": "code",
      "execution_count": null,
      "metadata": {
        "colab": {
          "base_uri": "https://localhost:8080/",
          "height": 175
        },
        "id": "lXWs9cfm-_3-",
        "outputId": "296fdc8e-b4a6-475d-c6c9-27ecf5ee3c9f"
      },
      "outputs": [
        {
          "output_type": "error",
          "ename": "IndexError",
          "evalue": "ignored",
          "traceback": [
            "\u001b[0;31m---------------------------------------------------------------------------\u001b[0m",
            "\u001b[0;31mIndexError\u001b[0m                                Traceback (most recent call last)",
            "\u001b[0;32m<ipython-input-56-5db1aa1fb3d2>\u001b[0m in \u001b[0;36m<module>\u001b[0;34m\u001b[0m\n\u001b[0;32m----> 1\u001b[0;31m \u001b[0ma\u001b[0m\u001b[0;34m[\u001b[0m\u001b[0;36m10\u001b[0m\u001b[0;34m]\u001b[0m \u001b[0;31m# нельзя безопасно выйти за границы списка\u001b[0m\u001b[0;34m\u001b[0m\u001b[0;34m\u001b[0m\u001b[0m\n\u001b[0m",
            "\u001b[0;31mIndexError\u001b[0m: list index out of range"
          ]
        }
      ],
      "source": [
        "a[10] # нельзя безопасно выйти за границы списка"
      ]
    },
    {
      "cell_type": "markdown",
      "metadata": {
        "id": "a4h8a1Kh-_3-"
      },
      "source": [
        "Также можно индексироваться с использованием отрицательных индексов. Индекс -1 означает команду взять последний элемент списка, -2 - второй элемент с конца и т.д."
      ]
    },
    {
      "cell_type": "code",
      "execution_count": null,
      "metadata": {
        "colab": {
          "base_uri": "https://localhost:8080/"
        },
        "id": "qAiOg0zD-_3-",
        "outputId": "006dcc95-a165-43dc-8a8e-f6ae0927db04"
      },
      "outputs": [
        {
          "output_type": "execute_result",
          "data": {
            "text/plain": [
              "(9, 5, 1)"
            ]
          },
          "metadata": {},
          "execution_count": 57
        }
      ],
      "source": [
        "a[-1], a[-5], a[-9]"
      ]
    },
    {
      "cell_type": "code",
      "execution_count": null,
      "metadata": {
        "colab": {
          "base_uri": "https://localhost:8080/",
          "height": 175
        },
        "id": "91TEMlgo-_3_",
        "outputId": "13ce57c5-ab25-4853-952f-81327c9bcc18"
      },
      "outputs": [
        {
          "output_type": "error",
          "ename": "IndexError",
          "evalue": "ignored",
          "traceback": [
            "\u001b[0;31m---------------------------------------------------------------------------\u001b[0m",
            "\u001b[0;31mIndexError\u001b[0m                                Traceback (most recent call last)",
            "\u001b[0;32m<ipython-input-58-ba728a8c1bd0>\u001b[0m in \u001b[0;36m<module>\u001b[0;34m\u001b[0m\n\u001b[0;32m----> 1\u001b[0;31m \u001b[0ma\u001b[0m\u001b[0;34m[\u001b[0m\u001b[0;34m-\u001b[0m\u001b[0;36m11\u001b[0m\u001b[0;34m]\u001b[0m \u001b[0;31m# в этом случае тоже можно выйти за границы списка и получить исключение\u001b[0m\u001b[0;34m\u001b[0m\u001b[0;34m\u001b[0m\u001b[0m\n\u001b[0m",
            "\u001b[0;31mIndexError\u001b[0m: list index out of range"
          ]
        }
      ],
      "source": [
        "a[-11] # в этом случае тоже можно выйти за границы списка и получить исключение"
      ]
    },
    {
      "cell_type": "markdown",
      "metadata": {
        "id": "c9ePYcgL-_3_"
      },
      "source": [
        "#### Срезы"
      ]
    },
    {
      "cell_type": "markdown",
      "metadata": {
        "id": "6cv3Sba1-_3_"
      },
      "source": [
        "```Срез``` – конструкция, которая используется для взятия части списка."
      ]
    },
    {
      "cell_type": "markdown",
      "metadata": {
        "id": "ex8QuSLC-_3_"
      },
      "source": [
        "Всего у среза три параметра:\n",
        "\n",
        "* ```START``` — индекс первого элемента в выборке,\n",
        "* ```STOP``` — индекс элемента списка, перед которым срез должен закончиться (сам элемент с индексом STOP не будет входить в выборку),\n",
        "* ```STEP``` — шаг прироста выбираемых индексов.\n",
        "\n",
        "Каждый из параметров может принимать любое целое значение (даже отрицательное!)."
      ]
    },
    {
      "cell_type": "markdown",
      "metadata": {
        "id": "kwpKhX9f-_4A"
      },
      "source": [
        "Рассмотрим примеры работы срезов."
      ]
    },
    {
      "cell_type": "code",
      "execution_count": null,
      "metadata": {
        "colab": {
          "base_uri": "https://localhost:8080/"
        },
        "id": "h5eKnQq0-_4A",
        "outputId": "8017871b-6ce1-46a3-ef9a-997613f08579"
      },
      "outputs": [
        {
          "output_type": "execute_result",
          "data": {
            "text/plain": [
              "[0, 1, 2]"
            ]
          },
          "metadata": {},
          "execution_count": 59
        }
      ],
      "source": [
        "a[:3]"
      ]
    },
    {
      "cell_type": "code",
      "execution_count": null,
      "metadata": {
        "colab": {
          "base_uri": "https://localhost:8080/"
        },
        "id": "DnDyA7tw-_4A",
        "outputId": "5c61c718-f0a0-4b49-efed-cbbeae8776c9"
      },
      "outputs": [
        {
          "output_type": "execute_result",
          "data": {
            "text/plain": [
              "[5, 6, 7, 8, 9]"
            ]
          },
          "metadata": {},
          "execution_count": 60
        }
      ],
      "source": [
        "a[5:]"
      ]
    },
    {
      "cell_type": "code",
      "execution_count": null,
      "metadata": {
        "colab": {
          "base_uri": "https://localhost:8080/"
        },
        "id": "-RSoY5_r-_4A",
        "outputId": "421e591c-969d-4448-b554-104ad37ae665"
      },
      "outputs": [
        {
          "output_type": "execute_result",
          "data": {
            "text/plain": [
              "[2, 3]"
            ]
          },
          "metadata": {},
          "execution_count": 61
        }
      ],
      "source": [
        "a[2:4]"
      ]
    },
    {
      "cell_type": "code",
      "execution_count": null,
      "metadata": {
        "colab": {
          "base_uri": "https://localhost:8080/"
        },
        "id": "apDAl0q6-_4B",
        "outputId": "c7a22314-9789-420d-bc82-fab14247879e"
      },
      "outputs": [
        {
          "output_type": "execute_result",
          "data": {
            "text/plain": [
              "[4, 6, 8]"
            ]
          },
          "metadata": {},
          "execution_count": 62
        }
      ],
      "source": [
        "a[4:9:2]"
      ]
    },
    {
      "cell_type": "code",
      "execution_count": null,
      "metadata": {
        "colab": {
          "base_uri": "https://localhost:8080/"
        },
        "id": "kcwHKmPr-_4B",
        "outputId": "e5bd870c-7de7-438b-e5b6-d1389cb7027d"
      },
      "outputs": [
        {
          "output_type": "execute_result",
          "data": {
            "text/plain": [
              "[9, 8, 7, 6, 5, 4, 3, 2, 1, 0]"
            ]
          },
          "metadata": {},
          "execution_count": 63
        }
      ],
      "source": [
        "a[::-1] # перевернули список (reverse)"
      ]
    },
    {
      "cell_type": "markdown",
      "metadata": {
        "id": "f-d7FDWp-_4B"
      },
      "source": [
        "Заметим также, что если присвоить некоторой переменной срез от списка a, то новая переменная и переменная a будут указывать на разные объекты в памяти, то есть делать ```copy``` не нужно."
      ]
    },
    {
      "cell_type": "code",
      "execution_count": null,
      "metadata": {
        "colab": {
          "base_uri": "https://localhost:8080/"
        },
        "id": "YvqtNeFW-_4C",
        "outputId": "fd9ae3c3-d998-4a32-b3ae-63d1ad66edeb"
      },
      "outputs": [
        {
          "output_type": "execute_result",
          "data": {
            "text/plain": [
              "[0, 1, 2]"
            ]
          },
          "metadata": {},
          "execution_count": 64
        }
      ],
      "source": [
        "b = a[:3]\n",
        "b"
      ]
    },
    {
      "cell_type": "code",
      "execution_count": null,
      "metadata": {
        "colab": {
          "base_uri": "https://localhost:8080/"
        },
        "id": "EkS90sJb-_4C",
        "outputId": "714f5bb3-440a-4303-c56a-e3c0b5b13981"
      },
      "outputs": [
        {
          "output_type": "execute_result",
          "data": {
            "text/plain": [
              "([4, 1, 2, 3, 4, 5, 6, 7, 8, 9], [0, 1, 2])"
            ]
          },
          "metadata": {},
          "execution_count": 65
        }
      ],
      "source": [
        "a[0] = 4\n",
        "a, b"
      ]
    },
    {
      "cell_type": "code",
      "execution_count": null,
      "metadata": {
        "colab": {
          "base_uri": "https://localhost:8080/"
        },
        "id": "shRGL_r3-_4D",
        "outputId": "f56170e1-b42b-4179-b0e2-fff6e5f9faef"
      },
      "outputs": [
        {
          "output_type": "execute_result",
          "data": {
            "text/plain": [
              "([4, 1, 2, 3, 4, 5, 6, 7, 8, 9], [0, 7, 2])"
            ]
          },
          "metadata": {},
          "execution_count": 66
        }
      ],
      "source": [
        "b[1] = 7\n",
        "a, b"
      ]
    },
    {
      "cell_type": "code",
      "execution_count": null,
      "metadata": {
        "id": "UYFNoigU-_4D"
      },
      "outputs": [],
      "source": [
        "b = a[:] # такая конструкция аналогична copy"
      ]
    },
    {
      "cell_type": "markdown",
      "metadata": {
        "id": "hf9NYsJ_-_4D"
      },
      "source": [
        "#### Методы и функции для работы со списками"
      ]
    },
    {
      "cell_type": "markdown",
      "metadata": {
        "id": "laPSVlR9-_4D"
      },
      "source": [
        "Конструктор."
      ]
    },
    {
      "cell_type": "code",
      "execution_count": null,
      "metadata": {
        "colab": {
          "base_uri": "https://localhost:8080/"
        },
        "id": "iVOJC2UK-_4E",
        "outputId": "2199dd14-31d4-40a1-c504-616c0eae9600"
      },
      "outputs": [
        {
          "output_type": "execute_result",
          "data": {
            "text/plain": [
              "[0, 1, 2, 3, 4]"
            ]
          },
          "metadata": {},
          "execution_count": 68
        }
      ],
      "source": [
        "a = list(range(5))\n",
        "a"
      ]
    },
    {
      "cell_type": "markdown",
      "metadata": {
        "id": "MVryxOfh-_4E"
      },
      "source": [
        "Длина списка."
      ]
    },
    {
      "cell_type": "code",
      "execution_count": null,
      "metadata": {
        "colab": {
          "base_uri": "https://localhost:8080/"
        },
        "id": "Ehp5wGl5-_4E",
        "outputId": "3b942176-5c02-463f-f9e1-9432783c5e15"
      },
      "outputs": [
        {
          "output_type": "execute_result",
          "data": {
            "text/plain": [
              "5"
            ]
          },
          "metadata": {},
          "execution_count": 69
        }
      ],
      "source": [
        "len(a)"
      ]
    },
    {
      "cell_type": "markdown",
      "metadata": {
        "id": "0FxhxIUc-_4E"
      },
      "source": [
        "Добавление элемента в конец списка.\\\n",
        "inplace-операция, возвращает ```None``` (специальное значение в Python, означающее нулевой указатель)."
      ]
    },
    {
      "cell_type": "code",
      "execution_count": null,
      "metadata": {
        "colab": {
          "base_uri": "https://localhost:8080/"
        },
        "id": "-kJgA4bw-_4F",
        "outputId": "03ccb35b-4e3d-4164-83f7-edc836ee650d"
      },
      "outputs": [
        {
          "output_type": "execute_result",
          "data": {
            "text/plain": [
              "[0, 1, 2, 3, 4, 6]"
            ]
          },
          "metadata": {},
          "execution_count": 70
        }
      ],
      "source": [
        "a.append(6)\n",
        "a"
      ]
    },
    {
      "cell_type": "markdown",
      "metadata": {
        "id": "rl1h4Te1-_4F"
      },
      "source": [
        "Добавление нескольких элементов в конец списка сразу.\\\n",
        "inplace-операция, возвращает ```None```."
      ]
    },
    {
      "cell_type": "code",
      "execution_count": null,
      "metadata": {
        "colab": {
          "base_uri": "https://localhost:8080/"
        },
        "id": "ZgmN8XUU-_4F",
        "outputId": "870d0f47-e5c9-4848-815f-5dec8ca432ec"
      },
      "outputs": [
        {
          "output_type": "execute_result",
          "data": {
            "text/plain": [
              "[0, 1, 2, 3, 4, 6, 7, 8, 9]"
            ]
          },
          "metadata": {},
          "execution_count": 71
        }
      ],
      "source": [
        "a.extend([7, 8, 9])\n",
        "a"
      ]
    },
    {
      "cell_type": "markdown",
      "metadata": {
        "id": "U8tasyEX-_4F"
      },
      "source": [
        "Добавление элемента в список на некоторую позицию.\\\n",
        "inplace-операция, возвращает ```None```."
      ]
    },
    {
      "cell_type": "code",
      "execution_count": null,
      "metadata": {
        "colab": {
          "base_uri": "https://localhost:8080/"
        },
        "id": "Xnbty-aF-_4G",
        "outputId": "2f65cd4e-69e2-443d-8ade-6431db73764e"
      },
      "outputs": [
        {
          "output_type": "execute_result",
          "data": {
            "text/plain": [
              "[0, 1, 2, 31, 3, 4, 6, 7, 8, 9]"
            ]
          },
          "metadata": {},
          "execution_count": 72
        }
      ],
      "source": [
        "a.insert(3, 31)\n",
        "a"
      ]
    },
    {
      "cell_type": "markdown",
      "metadata": {
        "id": "Yg9YhHfB-_4G"
      },
      "source": [
        "Удаление элемента из списка.\\\n",
        "inplace-операция, возвращает ```None```."
      ]
    },
    {
      "cell_type": "code",
      "execution_count": null,
      "metadata": {
        "colab": {
          "base_uri": "https://localhost:8080/"
        },
        "id": "s24VKBKA-_4G",
        "outputId": "44d6725a-14bb-4422-d7d3-823f872b36cf"
      },
      "outputs": [
        {
          "output_type": "execute_result",
          "data": {
            "text/plain": [
              "[0, 1, 2, 3, 4, 6, 7, 8, 9]"
            ]
          },
          "metadata": {},
          "execution_count": 73
        }
      ],
      "source": [
        "a.remove(31)\n",
        "a"
      ]
    },
    {
      "cell_type": "markdown",
      "metadata": {
        "id": "MxBktEsI-_4G"
      },
      "source": [
        "Сложение списков (не inplace-операция)."
      ]
    },
    {
      "cell_type": "code",
      "execution_count": null,
      "metadata": {
        "colab": {
          "base_uri": "https://localhost:8080/"
        },
        "id": "77nkEw3_-_4H",
        "outputId": "d7919889-2824-4db8-9b17-45413ae2defd"
      },
      "outputs": [
        {
          "output_type": "execute_result",
          "data": {
            "text/plain": [
              "[0, 1, 2, 3, 4, 6, 7, 8, 9, 10, 11, 12]"
            ]
          },
          "metadata": {},
          "execution_count": 74
        }
      ],
      "source": [
        "b = [10, 11, 12]\n",
        "a + b"
      ]
    },
    {
      "cell_type": "markdown",
      "metadata": {
        "id": "WBsSst5v-_4H"
      },
      "source": [
        "Можно сделать сложение списков inplace-операцией."
      ]
    },
    {
      "cell_type": "code",
      "execution_count": null,
      "metadata": {
        "colab": {
          "base_uri": "https://localhost:8080/"
        },
        "id": "cj9zBkiR-_4H",
        "outputId": "87f803a2-da0a-4b18-ff28-0c46546e50cf"
      },
      "outputs": [
        {
          "output_type": "execute_result",
          "data": {
            "text/plain": [
              "[0, 1, 2, 3, 4, 6, 7, 8, 9, 10, 11, 12]"
            ]
          },
          "metadata": {},
          "execution_count": 75
        }
      ],
      "source": [
        "a += b\n",
        "a"
      ]
    },
    {
      "cell_type": "markdown",
      "metadata": {
        "id": "lBIma562-_4H"
      },
      "source": [
        "Вычесть списки нельзя."
      ]
    },
    {
      "cell_type": "code",
      "execution_count": null,
      "metadata": {
        "colab": {
          "base_uri": "https://localhost:8080/",
          "height": 175
        },
        "id": "b3dGqwpJ-_4I",
        "outputId": "01ca3079-f7c4-48d8-eba5-11317fdb52eb"
      },
      "outputs": [
        {
          "output_type": "error",
          "ename": "TypeError",
          "evalue": "ignored",
          "traceback": [
            "\u001b[0;31m---------------------------------------------------------------------------\u001b[0m",
            "\u001b[0;31mTypeError\u001b[0m                                 Traceback (most recent call last)",
            "\u001b[0;32m<ipython-input-76-09bd029d0285>\u001b[0m in \u001b[0;36m<module>\u001b[0;34m\u001b[0m\n\u001b[0;32m----> 1\u001b[0;31m \u001b[0ma\u001b[0m \u001b[0;34m-\u001b[0m \u001b[0mb\u001b[0m\u001b[0;34m\u001b[0m\u001b[0;34m\u001b[0m\u001b[0m\n\u001b[0m",
            "\u001b[0;31mTypeError\u001b[0m: unsupported operand type(s) for -: 'list' and 'list'"
          ]
        }
      ],
      "source": [
        "a - b"
      ]
    },
    {
      "cell_type": "markdown",
      "metadata": {
        "id": "iiawoJ2C-_4I"
      },
      "source": [
        "Можно умножить список на любое целое число (обозначим это число через n).\\\n",
        "Тогда получится новый список, содержащий в себе все числа исходного списка, повторенные n раз."
      ]
    },
    {
      "cell_type": "code",
      "execution_count": null,
      "metadata": {
        "colab": {
          "base_uri": "https://localhost:8080/"
        },
        "id": "sxiREJsk-_4I",
        "outputId": "3d856e0c-1e25-467a-8fbc-d77ed8bbaae6"
      },
      "outputs": [
        {
          "output_type": "execute_result",
          "data": {
            "text/plain": [
              "[1, 2, 3, 1, 2, 3, 1, 2, 3, 1, 2, 3, 1, 2, 3]"
            ]
          },
          "metadata": {},
          "execution_count": 77
        }
      ],
      "source": [
        "a = [1, 2, 3]\n",
        "a * 5"
      ]
    },
    {
      "cell_type": "markdown",
      "metadata": {
        "id": "MEBaU3_n-_4I"
      },
      "source": [
        "Посмотрим подробнее, что произойдет при умножении списка на число."
      ]
    },
    {
      "cell_type": "markdown",
      "metadata": {
        "id": "MyuBtzw_-_4I"
      },
      "source": [
        "Если создать список так, как показано ниже, то каждый из внутренних списков будет указывать на 1 объект в памяти."
      ]
    },
    {
      "cell_type": "code",
      "execution_count": null,
      "metadata": {
        "colab": {
          "base_uri": "https://localhost:8080/"
        },
        "id": "3ldJ6n8K-_4J",
        "outputId": "e5786c9a-174b-45f5-cc97-32518d7d25de"
      },
      "outputs": [
        {
          "output_type": "execute_result",
          "data": {
            "text/plain": [
              "[[0, 0, 0, 0], [0, 0, 0, 0], [0, 0, 0, 0], [0, 0, 0, 0], [0, 0, 0, 0]]"
            ]
          },
          "metadata": {},
          "execution_count": 78
        }
      ],
      "source": [
        "a = [[0] * 4] * 5\n",
        "a"
      ]
    },
    {
      "cell_type": "markdown",
      "metadata": {
        "id": "QOgAu5M9-_4J"
      },
      "source": [
        "Таким образом при изменении одного из элементов вложенного списка, соответствующие элементы остальных вложенных списков тоже поменяются, что вряд ли является желаемым эффектом."
      ]
    },
    {
      "cell_type": "code",
      "execution_count": null,
      "metadata": {
        "colab": {
          "base_uri": "https://localhost:8080/"
        },
        "id": "QSXhkZCA-_4J",
        "outputId": "1725551e-bcf1-4844-bddf-7b4aa1b89b77"
      },
      "outputs": [
        {
          "output_type": "execute_result",
          "data": {
            "text/plain": [
              "[[3, 0, 0, 0], [3, 0, 0, 0], [3, 0, 0, 0], [3, 0, 0, 0], [3, 0, 0, 0]]"
            ]
          },
          "metadata": {},
          "execution_count": 79
        }
      ],
      "source": [
        "a[0][0] = 3\n",
        "a"
      ]
    },
    {
      "cell_type": "markdown",
      "metadata": {
        "id": "1KIFFDWm-_4J"
      },
      "source": [
        "Аналогичный пример."
      ]
    },
    {
      "cell_type": "code",
      "execution_count": null,
      "metadata": {
        "colab": {
          "base_uri": "https://localhost:8080/"
        },
        "id": "CxBbdPW5-_4K",
        "outputId": "5abb865b-a855-4cc1-f17f-5c8ab84dd9d3"
      },
      "outputs": [
        {
          "output_type": "execute_result",
          "data": {
            "text/plain": [
              "[[5], [5], [5]]"
            ]
          },
          "metadata": {},
          "execution_count": 80
        }
      ],
      "source": [
        "b = [[]] * 3\n",
        "b[0].append(5)\n",
        "b"
      ]
    },
    {
      "cell_type": "markdown",
      "metadata": {
        "id": "1GPdBzLr-_4K"
      },
      "source": [
        "Как же правильно создать двумерный список? А вот так!"
      ]
    },
    {
      "cell_type": "code",
      "execution_count": null,
      "metadata": {
        "colab": {
          "base_uri": "https://localhost:8080/"
        },
        "id": "38oXk8Lk-_4K",
        "outputId": "fe2640fb-cfd7-4e01-f2d7-25e36e109ba6"
      },
      "outputs": [
        {
          "output_type": "execute_result",
          "data": {
            "text/plain": [
              "[[5], [], []]"
            ]
          },
          "metadata": {},
          "execution_count": 81
        }
      ],
      "source": [
        "c = [[] for _ in range(3)]\n",
        "c[0].append(5)\n",
        "c"
      ]
    },
    {
      "cell_type": "markdown",
      "metadata": {
        "id": "211qk4eG-_4K"
      },
      "source": [
        "Можно отсортировать список, с помощью inplace-метода ```sort```, который возращает ```None```."
      ]
    },
    {
      "cell_type": "code",
      "execution_count": null,
      "metadata": {
        "colab": {
          "base_uri": "https://localhost:8080/"
        },
        "id": "mWEw18qg-_4L",
        "outputId": "84e28d93-929d-4d7a-ce50-d05364573e4a"
      },
      "outputs": [
        {
          "output_type": "execute_result",
          "data": {
            "text/plain": [
              "[3, 2, 4, 5]"
            ]
          },
          "metadata": {},
          "execution_count": 82
        }
      ],
      "source": [
        "a = [3, 2, 4, 5]\n",
        "a"
      ]
    },
    {
      "cell_type": "code",
      "execution_count": null,
      "metadata": {
        "colab": {
          "base_uri": "https://localhost:8080/"
        },
        "id": "MRMOgn1p-_4L",
        "outputId": "3caadfcf-b629-4d56-aa1e-425b892eeba9"
      },
      "outputs": [
        {
          "output_type": "execute_result",
          "data": {
            "text/plain": [
              "[2, 3, 4, 5]"
            ]
          },
          "metadata": {},
          "execution_count": 83
        }
      ],
      "source": [
        "a.sort()\n",
        "a"
      ]
    },
    {
      "cell_type": "markdown",
      "metadata": {
        "id": "QekSMfaL-_4M"
      },
      "source": [
        "Можно отсортировать список с помощью встроенной функции ```sorted``` (по умолчанию идет сортировка по возрастанию)."
      ]
    },
    {
      "cell_type": "code",
      "execution_count": null,
      "metadata": {
        "colab": {
          "base_uri": "https://localhost:8080/"
        },
        "id": "4Nu_4KO0-_4N",
        "outputId": "4c3f833e-c4dd-4369-e9ec-842f26a18f5f"
      },
      "outputs": [
        {
          "output_type": "execute_result",
          "data": {
            "text/plain": [
              "[3, 2, 4, 5]"
            ]
          },
          "metadata": {},
          "execution_count": 84
        }
      ],
      "source": [
        "b = [3, 2, 4, 5]\n",
        "b"
      ]
    },
    {
      "cell_type": "code",
      "execution_count": null,
      "metadata": {
        "colab": {
          "base_uri": "https://localhost:8080/"
        },
        "id": "lJf5AmKM-_4N",
        "outputId": "d9e4325b-00fa-419b-cbf7-127265277831"
      },
      "outputs": [
        {
          "output_type": "execute_result",
          "data": {
            "text/plain": [
              "([2, 3, 4, 5], [3, 2, 4, 5])"
            ]
          },
          "metadata": {},
          "execution_count": 85
        }
      ],
      "source": [
        "sorted(b), b"
      ]
    },
    {
      "cell_type": "markdown",
      "metadata": {
        "id": "Xveycua_-_4N"
      },
      "source": [
        "Можно отсортировать список по убыванию."
      ]
    },
    {
      "cell_type": "code",
      "execution_count": null,
      "metadata": {
        "colab": {
          "base_uri": "https://localhost:8080/"
        },
        "id": "BPeZEIaQ-_4N",
        "outputId": "2ca8d1db-d00a-46b6-c1b0-0dccb3f9a105"
      },
      "outputs": [
        {
          "output_type": "execute_result",
          "data": {
            "text/plain": [
              "([5, 4, 3, 2], [3, 2, 4, 5])"
            ]
          },
          "metadata": {},
          "execution_count": 86
        }
      ],
      "source": [
        "sorted(b, reverse=True), b"
      ]
    },
    {
      "cell_type": "markdown",
      "metadata": {
        "id": "UZekjPQX-_4O"
      },
      "source": [
        "Можно просуммировать элементы списка."
      ]
    },
    {
      "cell_type": "code",
      "execution_count": null,
      "metadata": {
        "colab": {
          "base_uri": "https://localhost:8080/"
        },
        "id": "R5LRFZBl-_4O",
        "outputId": "457227da-b455-4512-aad7-e97eb3dfd346"
      },
      "outputs": [
        {
          "output_type": "execute_result",
          "data": {
            "text/plain": [
              "6"
            ]
          },
          "metadata": {},
          "execution_count": 87
        }
      ],
      "source": [
        "a = [1, 2, 3]\n",
        "sum(a)"
      ]
    },
    {
      "cell_type": "markdown",
      "metadata": {
        "id": "pI9j1lzR-_4O"
      },
      "source": [
        "```Интересный факт```: у функции ```sum``` есть второй аргумент, который означает инициализацию переменной суммы и по умолчанию равен нулю."
      ]
    },
    {
      "cell_type": "code",
      "execution_count": null,
      "metadata": {
        "colab": {
          "base_uri": "https://localhost:8080/"
        },
        "id": "wrHW825q-_4O",
        "outputId": "ca2ca207-58cd-45e4-a93a-9488b869946c"
      },
      "outputs": [
        {
          "output_type": "execute_result",
          "data": {
            "text/plain": [
              "12"
            ]
          },
          "metadata": {},
          "execution_count": 88
        }
      ],
      "source": [
        "a = [1, 2, 3]\n",
        "sum(a, 6)"
      ]
    },
    {
      "cell_type": "markdown",
      "metadata": {
        "id": "D96IsCvc-_4P"
      },
      "source": [
        "Можно развернуть список."
      ]
    },
    {
      "cell_type": "code",
      "execution_count": null,
      "metadata": {
        "colab": {
          "base_uri": "https://localhost:8080/"
        },
        "id": "qCUKWry1-_4P",
        "outputId": "309efdab-f52c-4f47-8450-ebe5b047bd3d"
      },
      "outputs": [
        {
          "output_type": "execute_result",
          "data": {
            "text/plain": [
              "[3, 2, 1]"
            ]
          },
          "metadata": {},
          "execution_count": 89
        }
      ],
      "source": [
        "a.reverse()\n",
        "a"
      ]
    },
    {
      "cell_type": "code",
      "execution_count": null,
      "metadata": {
        "colab": {
          "base_uri": "https://localhost:8080/"
        },
        "id": "XH0aINK_-_4P",
        "outputId": "57c96d00-b799-4b6e-9b8e-a27f51c95ae5"
      },
      "outputs": [
        {
          "output_type": "execute_result",
          "data": {
            "text/plain": [
              "(<list_reverseiterator at 0x7f4495f82f90>, [1, 2, 3])"
            ]
          },
          "metadata": {},
          "execution_count": 90
        }
      ],
      "source": [
        "reversed(a), list(reversed(a))"
      ]
    },
    {
      "cell_type": "markdown",
      "metadata": {
        "id": "bYccPXix-_4Q"
      },
      "source": [
        "```map``` помогает применить функцию ко всем элементам списка сразу."
      ]
    },
    {
      "cell_type": "code",
      "execution_count": null,
      "metadata": {
        "colab": {
          "base_uri": "https://localhost:8080/"
        },
        "id": "r-3FI89R-_4R",
        "outputId": "4410be48-0be0-41a4-ef65-52bf49cc43f5"
      },
      "outputs": [
        {
          "output_type": "execute_result",
          "data": {
            "text/plain": [
              "(str, int)"
            ]
          },
          "metadata": {},
          "execution_count": 91
        }
      ],
      "source": [
        "type('1'), type(int('1'))"
      ]
    },
    {
      "cell_type": "code",
      "execution_count": null,
      "metadata": {
        "id": "JoiHhezr-_4R"
      },
      "outputs": [],
      "source": [
        "a = ['1', '2', '3']"
      ]
    },
    {
      "cell_type": "code",
      "execution_count": null,
      "metadata": {
        "colab": {
          "base_uri": "https://localhost:8080/"
        },
        "id": "ooIBGfiD-_4R",
        "outputId": "2e95cd52-d84c-4dca-890c-86f016cd7016"
      },
      "outputs": [
        {
          "output_type": "execute_result",
          "data": {
            "text/plain": [
              "<map at 0x7f4495f14e50>"
            ]
          },
          "metadata": {},
          "execution_count": 93
        }
      ],
      "source": [
        "map(int, a) # возвращается объект-генератор типа map, поэтому нужно сделать из него список одним из описанных способов"
      ]
    },
    {
      "cell_type": "code",
      "execution_count": null,
      "metadata": {
        "colab": {
          "base_uri": "https://localhost:8080/"
        },
        "id": "2sNdEVU8-_4R",
        "outputId": "b377431d-6a9f-440c-a14c-1593502c88b3"
      },
      "outputs": [
        {
          "output_type": "execute_result",
          "data": {
            "text/plain": [
              "[1, 2, 3]"
            ]
          },
          "metadata": {},
          "execution_count": 94
        }
      ],
      "source": [
        "[i for i in map(int, a)]"
      ]
    },
    {
      "cell_type": "code",
      "execution_count": null,
      "metadata": {
        "colab": {
          "base_uri": "https://localhost:8080/"
        },
        "id": "Np16VSqp-_4S",
        "outputId": "a41500ad-5725-4fd2-b409-4f36981375a2"
      },
      "outputs": [
        {
          "output_type": "execute_result",
          "data": {
            "text/plain": [
              "[1, 2, 3]"
            ]
          },
          "metadata": {},
          "execution_count": 95
        }
      ],
      "source": [
        "list(map(int, a))"
      ]
    },
    {
      "cell_type": "markdown",
      "metadata": {
        "id": "pGA1G-02-_4S"
      },
      "source": [
        "```filter``` возвращает только те элементы списка, которые удовлетворяют указанной функции."
      ]
    },
    {
      "cell_type": "code",
      "execution_count": null,
      "metadata": {
        "colab": {
          "base_uri": "https://localhost:8080/"
        },
        "id": "Kl0Cjoyr-_4S",
        "outputId": "68365080-fadb-46e9-a9c8-e9c53a25a500"
      },
      "outputs": [
        {
          "output_type": "execute_result",
          "data": {
            "text/plain": [
              "[0, 1, 2, 3, 4, 5, 6, 7, 8, 9]"
            ]
          },
          "metadata": {},
          "execution_count": 96
        }
      ],
      "source": [
        "a = [i for i in range(10)]\n",
        "a"
      ]
    },
    {
      "cell_type": "code",
      "execution_count": null,
      "metadata": {
        "colab": {
          "base_uri": "https://localhost:8080/"
        },
        "id": "dwLsYkkf-_4S",
        "outputId": "4154445f-69bd-49ad-a93b-b137af75fc67"
      },
      "outputs": [
        {
          "output_type": "execute_result",
          "data": {
            "text/plain": [
              "[0, 1, 2, 3, 4]"
            ]
          },
          "metadata": {},
          "execution_count": 97
        }
      ],
      "source": [
        "def f(x):\n",
        "    return x < 5\n",
        "list(filter(f, a))"
      ]
    },
    {
      "cell_type": "markdown",
      "metadata": {
        "id": "iYYPerG5-_4T"
      },
      "source": [
        "Красивее сделать это с помощью ```lambda```-функции (про них будет написано далее)."
      ]
    },
    {
      "cell_type": "code",
      "execution_count": null,
      "metadata": {
        "colab": {
          "base_uri": "https://localhost:8080/"
        },
        "id": "laSmSX0O-_4T",
        "outputId": "232e4269-7624-4b7f-87fc-312ed8168ea8"
      },
      "outputs": [
        {
          "output_type": "execute_result",
          "data": {
            "text/plain": [
              "<filter at 0x7f44960102d0>"
            ]
          },
          "metadata": {},
          "execution_count": 98
        }
      ],
      "source": [
        "filter(lambda x: x < 5, a)"
      ]
    },
    {
      "cell_type": "code",
      "execution_count": null,
      "metadata": {
        "colab": {
          "base_uri": "https://localhost:8080/"
        },
        "id": "pXkN3y3J-_4T",
        "outputId": "e46ced5c-5d8f-4812-9fd8-38632f395c5e"
      },
      "outputs": [
        {
          "output_type": "execute_result",
          "data": {
            "text/plain": [
              "[0, 1, 2, 3, 4]"
            ]
          },
          "metadata": {},
          "execution_count": 99
        }
      ],
      "source": [
        "list(filter(lambda x: x < 5, a)) # подробнее про lambda функции далее"
      ]
    },
    {
      "cell_type": "markdown",
      "metadata": {
        "id": "i6xUuQCy-_4V"
      },
      "source": [
        "```index``` - возвращает индекс первого элемента в списке с таким значением (наименьший индекс такой, что значение по этому индексу равно заданному числу)."
      ]
    },
    {
      "cell_type": "code",
      "execution_count": null,
      "metadata": {
        "colab": {
          "base_uri": "https://localhost:8080/"
        },
        "id": "JFVx6b7A-_4V",
        "outputId": "7c7f39af-61ef-4ae6-e532-e00ae64c5e89"
      },
      "outputs": [
        {
          "output_type": "execute_result",
          "data": {
            "text/plain": [
              "1"
            ]
          },
          "metadata": {},
          "execution_count": 100
        }
      ],
      "source": [
        "a = [13, 15, 2, 4, 7, 15]\n",
        "a.index(15)"
      ]
    },
    {
      "cell_type": "code",
      "execution_count": null,
      "metadata": {
        "colab": {
          "base_uri": "https://localhost:8080/",
          "height": 175
        },
        "id": "XXOCmb6m-_4V",
        "outputId": "d9f17bfc-de2a-499c-8498-eca68664490d"
      },
      "outputs": [
        {
          "output_type": "error",
          "ename": "ValueError",
          "evalue": "ignored",
          "traceback": [
            "\u001b[0;31m---------------------------------------------------------------------------\u001b[0m",
            "\u001b[0;31mValueError\u001b[0m                                Traceback (most recent call last)",
            "\u001b[0;32m<ipython-input-101-aa82f81aaaa0>\u001b[0m in \u001b[0;36m<module>\u001b[0;34m\u001b[0m\n\u001b[0;32m----> 1\u001b[0;31m \u001b[0ma\u001b[0m\u001b[0;34m.\u001b[0m\u001b[0mindex\u001b[0m\u001b[0;34m(\u001b[0m\u001b[0;36m1\u001b[0m\u001b[0;34m)\u001b[0m \u001b[0;31m# если элемента в списке нет, то сгенерируется исключение\u001b[0m\u001b[0;34m\u001b[0m\u001b[0;34m\u001b[0m\u001b[0m\n\u001b[0m",
            "\u001b[0;31mValueError\u001b[0m: 1 is not in list"
          ]
        }
      ],
      "source": [
        "a.index(1) # если элемента в списке нет, то сгенерируется исключение"
      ]
    },
    {
      "cell_type": "markdown",
      "metadata": {
        "id": "EoXUcgSN-_4V"
      },
      "source": [
        "Вхождение элемента в список."
      ]
    },
    {
      "cell_type": "code",
      "execution_count": null,
      "metadata": {
        "colab": {
          "base_uri": "https://localhost:8080/"
        },
        "id": "CMem6UZY-_4V",
        "outputId": "c6699366-fac8-4e77-9c84-2749696ae122"
      },
      "outputs": [
        {
          "output_type": "execute_result",
          "data": {
            "text/plain": [
              "(True, True, True, False, False, False, False, True)"
            ]
          },
          "metadata": {},
          "execution_count": 102
        }
      ],
      "source": [
        "a = [1, 2, 3]\n",
        "1 in a, 2 in a, 3 in a, 4 in a, 1 not in a, 2 not in a, 3 not in a, 4 not in a"
      ]
    },
    {
      "cell_type": "markdown",
      "metadata": {
        "id": "-R4XUhst-_4W"
      },
      "source": [
        "Оператор zip."
      ]
    },
    {
      "cell_type": "code",
      "execution_count": null,
      "metadata": {
        "colab": {
          "base_uri": "https://localhost:8080/"
        },
        "id": "7dQe7TWd-_4W",
        "outputId": "eeedee14-dd9a-4dc2-8d8b-dd653b90d8c7"
      },
      "outputs": [
        {
          "output_type": "stream",
          "name": "stdout",
          "text": [
            "1 4 7\n",
            "2 5 8\n"
          ]
        }
      ],
      "source": [
        "# zip берет одновременно последовательно эдементы из списков, заканчивая работу на длине более короткого списка\n",
        "for x, y, z in zip([1, 2, 3], [4, 5], [7, 8, 9, 10]): \n",
        "    print(x, y, z)"
      ]
    },
    {
      "cell_type": "markdown",
      "metadata": {
        "id": "iW_omfqK-_4X"
      },
      "source": [
        "**starred** expression"
      ]
    },
    {
      "cell_type": "code",
      "execution_count": null,
      "metadata": {
        "colab": {
          "base_uri": "https://localhost:8080/"
        },
        "id": "rAMSk7F4-_4X",
        "outputId": "9d107331-c60f-4341-e36a-476929d799e5"
      },
      "outputs": [
        {
          "output_type": "stream",
          "name": "stdout",
          "text": [
            "[1, 2, 3] 1 2 3\n"
          ]
        }
      ],
      "source": [
        "# оператор * разворачивает список в последовательность чисел\n",
        "print([1, 2, 3], *[1, 2, 3])"
      ]
    },
    {
      "cell_type": "markdown",
      "metadata": {
        "id": "2IVo7pOD-_4X"
      },
      "source": [
        "Данное свойство пригодится позже при рассмотрении передачу в функцию последовательности неименованных аргументов (`args`). А пока рассмотрим такой пример:"
      ]
    },
    {
      "cell_type": "code",
      "execution_count": null,
      "metadata": {
        "colab": {
          "base_uri": "https://localhost:8080/"
        },
        "id": "hwzehBKd-_4Y",
        "outputId": "35cecf20-053e-4dd8-f7dd-f91485baf757"
      },
      "outputs": [
        {
          "output_type": "execute_result",
          "data": {
            "text/plain": [
              "((1, 2, 3), ('a', 'b', 'c'))"
            ]
          },
          "metadata": {},
          "execution_count": 105
        }
      ],
      "source": [
        "a = [(1, 'a'), (2, 'b'), (3, 'c')]\n",
        "x, y = zip(*a)\n",
        "x, y"
      ]
    },
    {
      "cell_type": "code",
      "execution_count": null,
      "metadata": {
        "colab": {
          "base_uri": "https://localhost:8080/"
        },
        "id": "amRiCMsZ-_4Y",
        "outputId": "dd4c8fcb-138e-46a0-ed51-dc8dad0e2ad7"
      },
      "outputs": [
        {
          "output_type": "stream",
          "name": "stdout",
          "text": [
            "(1, 'a') (2, 'b') (3, 'c')\n"
          ]
        }
      ],
      "source": [
        "print(*a) # ну а как работает zip рассмотрели выше"
      ]
    },
    {
      "cell_type": "markdown",
      "metadata": {
        "id": "Bmv3uZdj-_4Y"
      },
      "source": [
        "### Строки <a class=\"anchor\" id=\"strs\"></a>"
      ]
    },
    {
      "cell_type": "markdown",
      "metadata": {
        "id": "IIr2OHwI-_4Y"
      },
      "source": [
        "```Важно: ``` Строки в python – неизменяемый тип данных!"
      ]
    },
    {
      "cell_type": "markdown",
      "metadata": {
        "id": "gIul676S-_4Z"
      },
      "source": [
        "Можно задавать строки в одинарных и двойных кавычках, а также в тройных кавычках (тогда объект типа строка может объявляться в несколько строк кода)."
      ]
    },
    {
      "cell_type": "code",
      "execution_count": null,
      "metadata": {
        "colab": {
          "base_uri": "https://localhost:8080/",
          "height": 36
        },
        "id": "I5mc_Hzi-_4Z",
        "outputId": "f03a54fb-4a83-43de-8e7b-60b5385b7e92"
      },
      "outputs": [
        {
          "output_type": "execute_result",
          "data": {
            "text/plain": [
              "'123'"
            ],
            "application/vnd.google.colaboratory.intrinsic+json": {
              "type": "string"
            }
          },
          "metadata": {},
          "execution_count": 107
        }
      ],
      "source": [
        "s = \"123\" \n",
        "s"
      ]
    },
    {
      "cell_type": "code",
      "execution_count": null,
      "metadata": {
        "colab": {
          "base_uri": "https://localhost:8080/",
          "height": 36
        },
        "id": "JuOZBFB1-_4Z",
        "outputId": "3f69e10a-6aa1-40b6-8a03-3a3a04733fa1"
      },
      "outputs": [
        {
          "output_type": "execute_result",
          "data": {
            "text/plain": [
              "'123'"
            ],
            "application/vnd.google.colaboratory.intrinsic+json": {
              "type": "string"
            }
          },
          "metadata": {},
          "execution_count": 108
        }
      ],
      "source": [
        "s = '123'\n",
        "s"
      ]
    },
    {
      "cell_type": "code",
      "execution_count": null,
      "metadata": {
        "colab": {
          "base_uri": "https://localhost:8080/",
          "height": 36
        },
        "id": "RNwUKkYG-_4Z",
        "outputId": "637a783b-30eb-4ae4-d81e-874b5143c273"
      },
      "outputs": [
        {
          "output_type": "execute_result",
          "data": {
            "text/plain": [
              "'\\nthis string consists\\nof several lines\\n'"
            ],
            "application/vnd.google.colaboratory.intrinsic+json": {
              "type": "string"
            }
          },
          "metadata": {},
          "execution_count": 109
        }
      ],
      "source": [
        "s = \"\"\"\n",
        "this string consists\n",
        "of several lines\n",
        "\"\"\"\n",
        "s"
      ]
    },
    {
      "cell_type": "code",
      "execution_count": null,
      "metadata": {
        "colab": {
          "base_uri": "https://localhost:8080/",
          "height": 36
        },
        "id": "aZNLJG7u-_4a",
        "outputId": "8ccaa99b-731e-4218-9988-d0c427b664bf"
      },
      "outputs": [
        {
          "output_type": "execute_result",
          "data": {
            "text/plain": [
              "'\\nthis string consists\\nof several lines\\n'"
            ],
            "application/vnd.google.colaboratory.intrinsic+json": {
              "type": "string"
            }
          },
          "metadata": {},
          "execution_count": 110
        }
      ],
      "source": [
        "s = '''\n",
        "this string consists\n",
        "of several lines\n",
        "'''\n",
        "s"
      ]
    },
    {
      "cell_type": "code",
      "execution_count": null,
      "metadata": {
        "colab": {
          "base_uri": "https://localhost:8080/"
        },
        "id": "JV43p0C4-_4a",
        "outputId": "fed817f8-f2c9-455f-d8d0-8f5bc4a9e72c"
      },
      "outputs": [
        {
          "output_type": "stream",
          "name": "stdout",
          "text": [
            "\n",
            "this string consists\n",
            "of several lines\n",
            "\n"
          ]
        }
      ],
      "source": [
        "print(s)"
      ]
    },
    {
      "cell_type": "code",
      "execution_count": null,
      "metadata": {
        "colab": {
          "base_uri": "https://localhost:8080/"
        },
        "id": "gMjjO9fO-_4a",
        "outputId": "230fa528-2b8d-4081-8008-a8352c582f8d"
      },
      "outputs": [
        {
          "output_type": "stream",
          "name": "stdout",
          "text": [
            "'\\nthis string consists\\nof several lines\\n'\n"
          ]
        }
      ],
      "source": [
        "print(s.__repr__())"
      ]
    },
    {
      "cell_type": "code",
      "execution_count": null,
      "metadata": {
        "colab": {
          "base_uri": "https://localhost:8080/"
        },
        "id": "B7pegDxA-_4a",
        "outputId": "c8df0710-c7f2-4978-cd16-51da430c698c"
      },
      "outputs": [
        {
          "output_type": "stream",
          "name": "stdout",
          "text": [
            "\n",
            "this string consists\n",
            "of several lines\n",
            "\n"
          ]
        }
      ],
      "source": [
        "print(s.__str__())"
      ]
    },
    {
      "cell_type": "markdown",
      "metadata": {
        "id": "m5OeLiAj-_4b"
      },
      "source": [
        "```Интересный факт```: если написать имя переменной в конце клетки jupyter notebook и если подать ее в качестве аргумента функции print, то вывод получится разным.\\\n",
        "Не вдаваясь в подробности, это связано с тем, что в этих ситуациях вызываются разные методы (а именно ```__repr__``` и ```__str__``` объекта). "
      ]
    },
    {
      "cell_type": "markdown",
      "metadata": {
        "id": "U-yt_9QD-_4b"
      },
      "source": [
        "Как уже было понятно ранее, можно создавать комментарии с помощью специального занка ```#```. Также строка, объявленная с помощью тройных кавычек, является комментарием."
      ]
    },
    {
      "cell_type": "code",
      "execution_count": null,
      "metadata": {
        "colab": {
          "base_uri": "https://localhost:8080/",
          "height": 36
        },
        "id": "aXPVoP0I-_4b",
        "outputId": "628c7feb-76ac-40ed-d308-a5925afbbaef"
      },
      "outputs": [
        {
          "output_type": "execute_result",
          "data": {
            "text/plain": [
              "'123'"
            ],
            "application/vnd.google.colaboratory.intrinsic+json": {
              "type": "string"
            }
          },
          "metadata": {},
          "execution_count": 114
        }
      ],
      "source": [
        "s = \"123\"\n",
        "\"\"\"\n",
        "this is a long comment\n",
        "made up of several lines\n",
        "\"\"\"\n",
        "# this is one line comment\n",
        "s"
      ]
    },
    {
      "cell_type": "markdown",
      "metadata": {
        "id": "2RK3m1mD-_4b"
      },
      "source": [
        "Строка состоит из символов, по ним можно проитерироваться (поэтому можно обращаться к элементам строки по индексу)."
      ]
    },
    {
      "cell_type": "code",
      "execution_count": null,
      "metadata": {
        "colab": {
          "base_uri": "https://localhost:8080/"
        },
        "id": "jFcKc3jF-_4b",
        "outputId": "f9ee9fa1-9aad-483f-ccce-9837be3181ae"
      },
      "outputs": [
        {
          "output_type": "stream",
          "name": "stdout",
          "text": [
            "1\n",
            "2\n",
            "3\n"
          ]
        }
      ],
      "source": [
        "for sym in s:\n",
        "    print(sym)"
      ]
    },
    {
      "cell_type": "markdown",
      "metadata": {
        "id": "NX5bo4Pf-_4c"
      },
      "source": [
        "У строки так же, как и у списка, можно получить длину (число символов в строке)."
      ]
    },
    {
      "cell_type": "code",
      "execution_count": null,
      "metadata": {
        "colab": {
          "base_uri": "https://localhost:8080/"
        },
        "id": "XMt5Yl4f-_4c",
        "outputId": "24ba2b70-9cc1-46bb-fc99-55775d804721"
      },
      "outputs": [
        {
          "output_type": "execute_result",
          "data": {
            "text/plain": [
              "3"
            ]
          },
          "metadata": {},
          "execution_count": 116
        }
      ],
      "source": [
        "len(s)"
      ]
    },
    {
      "cell_type": "markdown",
      "metadata": {
        "id": "Nw3ygXgm-_4c"
      },
      "source": [
        "Поскольку строка является неизменяемым типом данных, то присвоить ее элементу новое значение нельзя."
      ]
    },
    {
      "cell_type": "code",
      "execution_count": null,
      "metadata": {
        "colab": {
          "base_uri": "https://localhost:8080/",
          "height": 175
        },
        "id": "33-ln9vA-_4c",
        "outputId": "f9fc71a1-29f1-4085-cd69-ca2aa45e7f59"
      },
      "outputs": [
        {
          "output_type": "error",
          "ename": "TypeError",
          "evalue": "ignored",
          "traceback": [
            "\u001b[0;31m---------------------------------------------------------------------------\u001b[0m",
            "\u001b[0;31mTypeError\u001b[0m                                 Traceback (most recent call last)",
            "\u001b[0;32m<ipython-input-117-06ee6658ee71>\u001b[0m in \u001b[0;36m<module>\u001b[0;34m\u001b[0m\n\u001b[0;32m----> 1\u001b[0;31m \u001b[0ms\u001b[0m\u001b[0;34m[\u001b[0m\u001b[0;36m0\u001b[0m\u001b[0;34m]\u001b[0m \u001b[0;34m=\u001b[0m \u001b[0;36m4\u001b[0m\u001b[0;34m\u001b[0m\u001b[0;34m\u001b[0m\u001b[0m\n\u001b[0m",
            "\u001b[0;31mTypeError\u001b[0m: 'str' object does not support item assignment"
          ]
        }
      ],
      "source": [
        "s[0] = 4"
      ]
    },
    {
      "cell_type": "markdown",
      "metadata": {
        "id": "ZPTdg7BV-_4c"
      },
      "source": [
        "Можно приписать символ к концу строки, однако при этом будет создана новая строка."
      ]
    },
    {
      "cell_type": "code",
      "execution_count": null,
      "metadata": {
        "colab": {
          "base_uri": "https://localhost:8080/",
          "height": 36
        },
        "id": "gDsX4l4c-_4d",
        "outputId": "5bd42cee-cf62-4d94-97c3-fc4c7a66285a"
      },
      "outputs": [
        {
          "output_type": "execute_result",
          "data": {
            "text/plain": [
              "'1234'"
            ],
            "application/vnd.google.colaboratory.intrinsic+json": {
              "type": "string"
            }
          },
          "metadata": {},
          "execution_count": 118
        }
      ],
      "source": [
        "s += '4'\n",
        "s"
      ]
    },
    {
      "cell_type": "markdown",
      "metadata": {
        "id": "gMqfMBwK-_4d"
      },
      "source": [
        "По умолчанию, интернируются (то есть указывают на одну область памяти) строки, которые содержат только ASCII-символы, цифры и знак подчеркивания, в остальных случаях, даже если строки одинаковые, будет создаваться новый объект"
      ]
    },
    {
      "cell_type": "code",
      "execution_count": null,
      "metadata": {
        "colab": {
          "base_uri": "https://localhost:8080/"
        },
        "id": "UyyujI9C-_4d",
        "outputId": "15b5f1cd-9b17-4feb-f9d0-8de06f4bdcad"
      },
      "outputs": [
        {
          "output_type": "execute_result",
          "data": {
            "text/plain": [
              "True"
            ]
          },
          "metadata": {},
          "execution_count": 119
        }
      ],
      "source": [
        "s = '123'\n",
        "c = '123'\n",
        "s is c"
      ]
    },
    {
      "cell_type": "code",
      "execution_count": null,
      "metadata": {
        "colab": {
          "base_uri": "https://localhost:8080/"
        },
        "id": "-Hr4UFOW-_4d",
        "outputId": "43d9e057-63a5-49be-ef16-55d17f981306"
      },
      "outputs": [
        {
          "output_type": "execute_result",
          "data": {
            "text/plain": [
              "False"
            ]
          },
          "metadata": {},
          "execution_count": 120
        }
      ],
      "source": [
        "s = \"123!\"\n",
        "c = \"123!\"\n",
        "s is c"
      ]
    },
    {
      "cell_type": "markdown",
      "metadata": {
        "id": "suBB-s4H-_4e"
      },
      "source": [
        "#### Полезные функции для работы со строками"
      ]
    },
    {
      "cell_type": "markdown",
      "metadata": {
        "id": "t-W09EZc-_4e"
      },
      "source": [
        "Все описанные операции не меняют исходную строку, а возвращают новую строку!"
      ]
    },
    {
      "cell_type": "code",
      "execution_count": null,
      "metadata": {
        "colab": {
          "base_uri": "https://localhost:8080/",
          "height": 36
        },
        "id": "s9WHOUDm-_4e",
        "outputId": "7175488e-1cfc-457e-ee63-d5f7bdcd0bc6"
      },
      "outputs": [
        {
          "output_type": "execute_result",
          "data": {
            "text/plain": [
              "'      I love machine learning       '"
            ],
            "application/vnd.google.colaboratory.intrinsic+json": {
              "type": "string"
            }
          },
          "metadata": {},
          "execution_count": 121
        }
      ],
      "source": [
        "s = \"      I love machine learning       \"\n",
        "s"
      ]
    },
    {
      "cell_type": "markdown",
      "metadata": {
        "id": "0HAgazQd-_4e"
      },
      "source": [
        "Убрать все пробельные символы слева и справа."
      ]
    },
    {
      "cell_type": "code",
      "execution_count": null,
      "metadata": {
        "colab": {
          "base_uri": "https://localhost:8080/",
          "height": 36
        },
        "id": "ZaC6UzvX-_4e",
        "outputId": "420384a5-7f22-483a-90c6-3c44630a7777"
      },
      "outputs": [
        {
          "output_type": "execute_result",
          "data": {
            "text/plain": [
              "'I love machine learning       '"
            ],
            "application/vnd.google.colaboratory.intrinsic+json": {
              "type": "string"
            }
          },
          "metadata": {},
          "execution_count": 122
        }
      ],
      "source": [
        "s.lstrip()"
      ]
    },
    {
      "cell_type": "code",
      "execution_count": null,
      "metadata": {
        "colab": {
          "base_uri": "https://localhost:8080/",
          "height": 36
        },
        "id": "PaskpnYD-_4f",
        "outputId": "858cbaa5-9320-4f49-9c63-7224bf47fbca"
      },
      "outputs": [
        {
          "output_type": "execute_result",
          "data": {
            "text/plain": [
              "'      I love machine learning'"
            ],
            "application/vnd.google.colaboratory.intrinsic+json": {
              "type": "string"
            }
          },
          "metadata": {},
          "execution_count": 123
        }
      ],
      "source": [
        "s.rstrip()"
      ]
    },
    {
      "cell_type": "markdown",
      "metadata": {
        "id": "RQq9Ukc4-_4f"
      },
      "source": [
        "Убрать все пробельные символы с обеих сторон (только крайние!)."
      ]
    },
    {
      "cell_type": "code",
      "execution_count": null,
      "metadata": {
        "colab": {
          "base_uri": "https://localhost:8080/",
          "height": 36
        },
        "id": "TC7fTvu0-_4f",
        "outputId": "58fe40e9-a17d-4b62-918d-f885ce80c2bf"
      },
      "outputs": [
        {
          "output_type": "execute_result",
          "data": {
            "text/plain": [
              "'I love machine learning'"
            ],
            "application/vnd.google.colaboratory.intrinsic+json": {
              "type": "string"
            }
          },
          "metadata": {},
          "execution_count": 124
        }
      ],
      "source": [
        "s.strip()"
      ]
    },
    {
      "cell_type": "markdown",
      "metadata": {
        "id": "5L4ciOVi-_4f"
      },
      "source": [
        "Заменить все вхождения одной подстроки на другую подстроку."
      ]
    },
    {
      "cell_type": "code",
      "execution_count": null,
      "metadata": {
        "colab": {
          "base_uri": "https://localhost:8080/",
          "height": 36
        },
        "id": "FJVQN5nY-_4f",
        "outputId": "43d050a8-92e1-4c2b-d6d4-54f0527fb9eb"
      },
      "outputs": [
        {
          "output_type": "execute_result",
          "data": {
            "text/plain": [
              "'Ilovemachinelearning'"
            ],
            "application/vnd.google.colaboratory.intrinsic+json": {
              "type": "string"
            }
          },
          "metadata": {},
          "execution_count": 125
        }
      ],
      "source": [
        "s.replace(' ', '')"
      ]
    },
    {
      "cell_type": "code",
      "execution_count": null,
      "metadata": {
        "id": "EY2ngS5g-_4f"
      },
      "outputs": [],
      "source": [
        "s = s.strip()"
      ]
    },
    {
      "cell_type": "markdown",
      "metadata": {
        "id": "zS4_aO0O-_4g"
      },
      "source": [
        "Найти первую поизицию, по которой расположен символ."
      ]
    },
    {
      "cell_type": "code",
      "execution_count": null,
      "metadata": {
        "colab": {
          "base_uri": "https://localhost:8080/"
        },
        "id": "fvrwaEdZ-_4g",
        "outputId": "c3b7c01b-a817-4bc0-d7a5-8cb33e348e1b"
      },
      "outputs": [
        {
          "output_type": "execute_result",
          "data": {
            "text/plain": [
              "5"
            ]
          },
          "metadata": {},
          "execution_count": 127
        }
      ],
      "source": [
        "s.find('e') # s[5] == 'e'"
      ]
    },
    {
      "cell_type": "code",
      "execution_count": null,
      "metadata": {
        "colab": {
          "base_uri": "https://localhost:8080/"
        },
        "id": "3VOUk_4L-_4g",
        "outputId": "85743bb8-e3a3-4cc3-cd49-fe791927af75"
      },
      "outputs": [
        {
          "output_type": "execute_result",
          "data": {
            "text/plain": [
              "-1"
            ]
          },
          "metadata": {},
          "execution_count": 128
        }
      ],
      "source": [
        "s.find(':') # если такого символа в строке нет, то возвращается -1"
      ]
    },
    {
      "cell_type": "markdown",
      "metadata": {
        "id": "jbu1bLkD-_4g"
      },
      "source": [
        "Строки можно сложить."
      ]
    },
    {
      "cell_type": "code",
      "execution_count": null,
      "metadata": {
        "colab": {
          "base_uri": "https://localhost:8080/",
          "height": 36
        },
        "id": "aulO4qUY-_4g",
        "outputId": "e63becdd-72a2-4061-96ba-e62817fb3ead"
      },
      "outputs": [
        {
          "output_type": "execute_result",
          "data": {
            "text/plain": [
              "'I love machine learning'"
            ],
            "application/vnd.google.colaboratory.intrinsic+json": {
              "type": "string"
            }
          },
          "metadata": {},
          "execution_count": 129
        }
      ],
      "source": [
        "s1 = \"I love \"\n",
        "s2 = \"machine learning\"\n",
        "s1 + s2"
      ]
    },
    {
      "cell_type": "markdown",
      "metadata": {
        "id": "3V3OUX4b-_4h"
      },
      "source": [
        "А вычесть нельзя."
      ]
    },
    {
      "cell_type": "code",
      "execution_count": null,
      "metadata": {
        "colab": {
          "base_uri": "https://localhost:8080/",
          "height": 175
        },
        "id": "oSmg2MXk-_4h",
        "outputId": "1608ffad-898a-4648-cd27-4a856db1a311"
      },
      "outputs": [
        {
          "output_type": "error",
          "ename": "TypeError",
          "evalue": "ignored",
          "traceback": [
            "\u001b[0;31m---------------------------------------------------------------------------\u001b[0m",
            "\u001b[0;31mTypeError\u001b[0m                                 Traceback (most recent call last)",
            "\u001b[0;32m<ipython-input-130-375f7a57ef9a>\u001b[0m in \u001b[0;36m<module>\u001b[0;34m\u001b[0m\n\u001b[0;32m----> 1\u001b[0;31m \u001b[0ms1\u001b[0m \u001b[0;34m-\u001b[0m \u001b[0ms2\u001b[0m\u001b[0;34m\u001b[0m\u001b[0;34m\u001b[0m\u001b[0m\n\u001b[0m",
            "\u001b[0;31mTypeError\u001b[0m: unsupported operand type(s) for -: 'str' and 'str'"
          ]
        }
      ],
      "source": [
        "s1 - s2"
      ]
    },
    {
      "cell_type": "markdown",
      "metadata": {
        "id": "I9uEwRVF-_4h"
      },
      "source": [
        "Можно привести строку к некоторому регистру."
      ]
    },
    {
      "cell_type": "code",
      "execution_count": null,
      "metadata": {
        "colab": {
          "base_uri": "https://localhost:8080/",
          "height": 36
        },
        "id": "eLh6WpY_-_4h",
        "outputId": "4f186170-3598-45d0-c5bc-a14863308604"
      },
      "outputs": [
        {
          "output_type": "execute_result",
          "data": {
            "text/plain": [
              "'aaaAAAAAaaa'"
            ],
            "application/vnd.google.colaboratory.intrinsic+json": {
              "type": "string"
            }
          },
          "metadata": {},
          "execution_count": 131
        }
      ],
      "source": [
        "s = 'aaaAAAAAaaa'\n",
        "s"
      ]
    },
    {
      "cell_type": "code",
      "execution_count": null,
      "metadata": {
        "colab": {
          "base_uri": "https://localhost:8080/",
          "height": 36
        },
        "id": "Zeh_Or2H-_4h",
        "outputId": "a8160217-d56c-4b5c-99f9-d10e174639de"
      },
      "outputs": [
        {
          "output_type": "execute_result",
          "data": {
            "text/plain": [
              "'aaaaaaaaaaa'"
            ],
            "application/vnd.google.colaboratory.intrinsic+json": {
              "type": "string"
            }
          },
          "metadata": {},
          "execution_count": 132
        }
      ],
      "source": [
        "s.lower()"
      ]
    },
    {
      "cell_type": "code",
      "execution_count": null,
      "metadata": {
        "scrolled": true,
        "colab": {
          "base_uri": "https://localhost:8080/",
          "height": 36
        },
        "id": "VqJfuMRD-_4h",
        "outputId": "6296b50e-6d38-4510-d851-ce26d09806bf"
      },
      "outputs": [
        {
          "output_type": "execute_result",
          "data": {
            "text/plain": [
              "'AAAAAAAAAAA'"
            ],
            "application/vnd.google.colaboratory.intrinsic+json": {
              "type": "string"
            }
          },
          "metadata": {},
          "execution_count": 133
        }
      ],
      "source": [
        "s.upper()"
      ]
    },
    {
      "cell_type": "markdown",
      "metadata": {
        "id": "fE-hsi8l-_4i"
      },
      "source": [
        "Можно взять срез у строки (как и у списка)."
      ]
    },
    {
      "cell_type": "code",
      "execution_count": null,
      "metadata": {
        "colab": {
          "base_uri": "https://localhost:8080/",
          "height": 36
        },
        "id": "gDft_Hwt-_4i",
        "outputId": "8b3b72f6-19b8-472e-f8b0-ff241fb74e66"
      },
      "outputs": [
        {
          "output_type": "execute_result",
          "data": {
            "text/plain": [
              "'123'"
            ],
            "application/vnd.google.colaboratory.intrinsic+json": {
              "type": "string"
            }
          },
          "metadata": {},
          "execution_count": 134
        }
      ],
      "source": [
        "s = \"1234567\"\n",
        "s[:3] # подробнее про срезы в разделе со списками"
      ]
    },
    {
      "cell_type": "markdown",
      "metadata": {
        "id": "C5NTupG--_4i"
      },
      "source": [
        "Можно проверить наличие подстроки в строке."
      ]
    },
    {
      "cell_type": "code",
      "execution_count": null,
      "metadata": {
        "colab": {
          "base_uri": "https://localhost:8080/"
        },
        "id": "OaMg3hBP-_4i",
        "outputId": "000b203c-7f28-48e8-82f4-4a41b4478448"
      },
      "outputs": [
        {
          "output_type": "execute_result",
          "data": {
            "text/plain": [
              "True"
            ]
          },
          "metadata": {},
          "execution_count": 135
        }
      ],
      "source": [
        "\"234\" in s"
      ]
    },
    {
      "cell_type": "markdown",
      "metadata": {
        "id": "Gk3BGhc9-_4i"
      },
      "source": [
        "Можно посчитать количество вхождений элемента в строку."
      ]
    },
    {
      "cell_type": "code",
      "execution_count": null,
      "metadata": {
        "colab": {
          "base_uri": "https://localhost:8080/"
        },
        "id": "TBdg164V-_4j",
        "outputId": "02d888a4-3f74-4153-b678-330c3c5a0bed"
      },
      "outputs": [
        {
          "output_type": "execute_result",
          "data": {
            "text/plain": [
              "(1, 2, 3)"
            ]
          },
          "metadata": {},
          "execution_count": 136
        }
      ],
      "source": [
        "s = \"122333\"\n",
        "s.count(\"1\"), s.count(\"2\"), s.count(\"3\")"
      ]
    },
    {
      "cell_type": "markdown",
      "metadata": {
        "id": "-OG425li-_4j"
      },
      "source": [
        "#### Связь со списками"
      ]
    },
    {
      "cell_type": "markdown",
      "metadata": {
        "id": "imk_vzFV-_4j"
      },
      "source": [
        "Строку можно поделить по некоторой подстроке и получить список."
      ]
    },
    {
      "cell_type": "code",
      "execution_count": null,
      "metadata": {
        "colab": {
          "base_uri": "https://localhost:8080/"
        },
        "id": "-w_GOTlP-_4j",
        "outputId": "f36c8b07-8b11-4811-b09d-37f941ad2e3a"
      },
      "outputs": [
        {
          "output_type": "execute_result",
          "data": {
            "text/plain": [
              "['Hello', 'everyone', 'it', 'is', 'machine', 'learning']"
            ]
          },
          "metadata": {},
          "execution_count": 137
        }
      ],
      "source": [
        "a = \"Hello everyone it is machine learning\"\n",
        "b = a.split(' ')\n",
        "b"
      ]
    },
    {
      "cell_type": "code",
      "execution_count": null,
      "metadata": {
        "colab": {
          "base_uri": "https://localhost:8080/",
          "height": 36
        },
        "id": "uKtf1Mct-_4j",
        "outputId": "df13040d-db40-4d9c-b7a0-8ea250b43742"
      },
      "outputs": [
        {
          "output_type": "execute_result",
          "data": {
            "text/plain": [
              "'I love machine learning\\n and maths\\t'"
            ],
            "application/vnd.google.colaboratory.intrinsic+json": {
              "type": "string"
            }
          },
          "metadata": {},
          "execution_count": 138
        }
      ],
      "source": [
        "a = 'I love machine learning\\n and maths\\t'\n",
        "a"
      ]
    },
    {
      "cell_type": "code",
      "execution_count": null,
      "metadata": {
        "colab": {
          "base_uri": "https://localhost:8080/"
        },
        "id": "mCvTNtLy-_4j",
        "outputId": "a98dd30e-b111-4814-a5ff-6fc98fbc9cf9"
      },
      "outputs": [
        {
          "output_type": "execute_result",
          "data": {
            "text/plain": [
              "['I', 'love', 'machine', 'learning', 'and', 'maths']"
            ]
          },
          "metadata": {},
          "execution_count": 139
        }
      ],
      "source": [
        "a.split() # по умолчанию разделение происходит по всем пробельным символам."
      ]
    },
    {
      "cell_type": "markdown",
      "metadata": {
        "id": "Jrsi7jv7-_4k"
      },
      "source": [
        "Так же можно соединить список обратно в строку с помощью некоторой подстроки."
      ]
    },
    {
      "cell_type": "code",
      "execution_count": null,
      "metadata": {
        "colab": {
          "base_uri": "https://localhost:8080/",
          "height": 36
        },
        "id": "tQJPXPaz-_4k",
        "outputId": "e8251d5a-fc7f-4eaf-e360-77f8833f7721"
      },
      "outputs": [
        {
          "output_type": "execute_result",
          "data": {
            "text/plain": [
              "'Hello everyone it is machine learning'"
            ],
            "application/vnd.google.colaboratory.intrinsic+json": {
              "type": "string"
            }
          },
          "metadata": {},
          "execution_count": 140
        }
      ],
      "source": [
        "' '.join(b)"
      ]
    },
    {
      "cell_type": "code",
      "execution_count": null,
      "metadata": {
        "colab": {
          "base_uri": "https://localhost:8080/",
          "height": 36
        },
        "id": "A4ADtxCL-_4k",
        "outputId": "c03dc579-db09-4118-f5ee-c62e8ecec9ef"
      },
      "outputs": [
        {
          "output_type": "execute_result",
          "data": {
            "text/plain": [
              "'Hello $ everyone $ it $ is $ machine $ learning'"
            ],
            "application/vnd.google.colaboratory.intrinsic+json": {
              "type": "string"
            }
          },
          "metadata": {},
          "execution_count": 141
        }
      ],
      "source": [
        "' $ '.join(b)"
      ]
    },
    {
      "cell_type": "markdown",
      "metadata": {
        "id": "TCY7MKbX-_4k"
      },
      "source": [
        "#### f-строки"
      ]
    },
    {
      "cell_type": "markdown",
      "metadata": {
        "id": "Ste9-9Cq-_4l"
      },
      "source": [
        "Полезными для красивого вывода (и не только!) могут быть f-строки (format для второго Python).\\\n",
        "Их синтаксис такой:"
      ]
    },
    {
      "cell_type": "code",
      "execution_count": null,
      "metadata": {
        "colab": {
          "base_uri": "https://localhost:8080/"
        },
        "id": "7yrcCuWL-_4l",
        "outputId": "a1757d46-f13c-456a-f24a-a41e20eb5071"
      },
      "outputs": [
        {
          "output_type": "stream",
          "name": "stdout",
          "text": [
            "My name is Sasha and I am 21.\n"
          ]
        }
      ],
      "source": [
        "age = 21\n",
        "name = 'Sasha'\n",
        "\n",
        "print(f'My name is {name} and I am {age}.')"
      ]
    },
    {
      "cell_type": "markdown",
      "metadata": {
        "id": "tKTkv7t3-_4l"
      },
      "source": [
        "Так это выглядело в более ранних версиях, но теперь использовать это не нужно; лучше пользоваться f-строками."
      ]
    },
    {
      "cell_type": "code",
      "execution_count": null,
      "metadata": {
        "colab": {
          "base_uri": "https://localhost:8080/"
        },
        "id": "fOnk5Xzl-_4l",
        "outputId": "3677ffe7-6646-4bb5-831e-3c49df37311b"
      },
      "outputs": [
        {
          "output_type": "stream",
          "name": "stdout",
          "text": [
            "My name is Sasha and I am 21.\n"
          ]
        }
      ],
      "source": [
        "print('My name is {} and I am {}.'.format(name, age))"
      ]
    },
    {
      "cell_type": "markdown",
      "metadata": {
        "id": "ojYCKTro-_4l"
      },
      "source": [
        "При выводе вещественных чисел с помощью f-строк можно их округлять."
      ]
    },
    {
      "cell_type": "code",
      "execution_count": null,
      "metadata": {
        "colab": {
          "base_uri": "https://localhost:8080/"
        },
        "id": "3gML8uWB-_4m",
        "outputId": "47dc33d7-9d8b-466b-97d0-9fdc699c4ba4"
      },
      "outputs": [
        {
          "output_type": "stream",
          "name": "stdout",
          "text": [
            "full x = 1.2345, truncated x = 1.234\n"
          ]
        }
      ],
      "source": [
        "x = 1.2345\n",
        "print(f'full x = {x}, truncated x = {x:.3f}')"
      ]
    },
    {
      "cell_type": "markdown",
      "metadata": {
        "id": "VlBL9Z4f-_4m"
      },
      "source": [
        "Большие числа можно выводить в разных форматах, например:"
      ]
    },
    {
      "cell_type": "code",
      "execution_count": null,
      "metadata": {
        "colab": {
          "base_uri": "https://localhost:8080/"
        },
        "id": "W23CJ-4q-_4m",
        "outputId": "560564a5-65f4-4ebc-a008-f9922a92860a"
      },
      "outputs": [
        {
          "output_type": "stream",
          "name": "stdout",
          "text": [
            "first: 1_234_567_890, second: 1,234,567,890\n"
          ]
        }
      ],
      "source": [
        "big_num = 1234567890\n",
        "print(f'first: {big_num:_}, second: {big_num:,}')"
      ]
    },
    {
      "cell_type": "markdown",
      "metadata": {
        "id": "WhNkANTj-_4m"
      },
      "source": [
        "Также можно выводить проценты (и при этом указывать точность)."
      ]
    },
    {
      "cell_type": "code",
      "execution_count": null,
      "metadata": {
        "colab": {
          "base_uri": "https://localhost:8080/"
        },
        "id": "hOr6Mg97-_4m",
        "outputId": "12e9fcfa-2996-41c9-a225-f1401dabaf42"
      },
      "outputs": [
        {
          "output_type": "stream",
          "name": "stdout",
          "text": [
            "percentage = 23.457%\n"
          ]
        }
      ],
      "source": [
        "p = 0.23456789\n",
        "print(f'percentage = {p:.3%}')"
      ]
    },
    {
      "cell_type": "markdown",
      "metadata": {
        "id": "NTnkVOxd-_4n"
      },
      "source": [
        "Можно задавать ширину поля для вывода числа."
      ]
    },
    {
      "cell_type": "code",
      "execution_count": null,
      "metadata": {
        "colab": {
          "base_uri": "https://localhost:8080/"
        },
        "id": "XszWPk0C-_4n",
        "outputId": "41f3c0c7-d1f6-460b-cc9f-994f839e6352"
      },
      "outputs": [
        {
          "output_type": "stream",
          "name": "stdout",
          "text": [
            "  1\n",
            " 12\n",
            "123\n"
          ]
        }
      ],
      "source": [
        "x, y, z = 1, 12, 123\n",
        "print(f'{x:>3}\\n{y:>3}\\n{z:>3}')"
      ]
    },
    {
      "cell_type": "code",
      "execution_count": null,
      "metadata": {
        "colab": {
          "base_uri": "https://localhost:8080/"
        },
        "id": "0zLxVxzy-_4n",
        "outputId": "b6db4a30-4432-4d10-b626-80d0069fafec"
      },
      "outputs": [
        {
          "output_type": "stream",
          "name": "stdout",
          "text": [
            "1  \n",
            "12 \n",
            "123\n"
          ]
        }
      ],
      "source": [
        "x, y, z = 1, 12, 123\n",
        "print(f'{x:<3}\\n{y:<3}\\n{z:<3}')"
      ]
    },
    {
      "cell_type": "markdown",
      "metadata": {
        "id": "fokhbKw_-_4n"
      },
      "source": [
        "А еще можно выводить даты в красивом формате."
      ]
    },
    {
      "cell_type": "code",
      "execution_count": null,
      "metadata": {
        "colab": {
          "base_uri": "https://localhost:8080/"
        },
        "id": "lUA7KkzQ-_4n",
        "outputId": "67449e31-8b57-4ff8-f79c-56e50906736c"
      },
      "outputs": [
        {
          "output_type": "stream",
          "name": "stdout",
          "text": [
            "2022-09-02 07:05:09.029347\n"
          ]
        }
      ],
      "source": [
        "import datetime\n",
        "now = datetime.datetime.now()\n",
        "print(now) # полный формат без f-строк, хочется научиться его обрезать до нужной точности"
      ]
    },
    {
      "cell_type": "code",
      "execution_count": null,
      "metadata": {
        "colab": {
          "base_uri": "https://localhost:8080/"
        },
        "id": "gQYRGHUf-_4o",
        "outputId": "fdb196c7-9650-4cb6-af95-aaf0c0e8b1f1"
      },
      "outputs": [
        {
          "output_type": "stream",
          "name": "stdout",
          "text": [
            "2022-09-02\n",
            "2022-09-02 07:05:09\n"
          ]
        }
      ],
      "source": [
        "print(f'{now:%Y-%m-%d}')\n",
        "print(f'{now:%Y-%m-%d %H:%M:%S}')"
      ]
    },
    {
      "cell_type": "markdown",
      "metadata": {
        "id": "eE95F3jb-_4o"
      },
      "source": [
        "### Кортежи <a class=\"anchor\" id=\"tuples\"></a>"
      ]
    },
    {
      "cell_type": "markdown",
      "metadata": {
        "id": "xzAwtYsT-_4o"
      },
      "source": [
        "```Важно: ``` Кортежи в python – неизменяемый тип данных!"
      ]
    },
    {
      "cell_type": "code",
      "execution_count": null,
      "metadata": {
        "colab": {
          "base_uri": "https://localhost:8080/"
        },
        "id": "JJ0IBgp3-_4o",
        "outputId": "20a45505-8092-41af-995e-a3915ca7ded8"
      },
      "outputs": [
        {
          "output_type": "execute_result",
          "data": {
            "text/plain": [
              "(1, '23', [1, 2])"
            ]
          },
          "metadata": {},
          "execution_count": 151
        }
      ],
      "source": [
        "a = (1, \"23\", [1, 2])\n",
        "a # кортежи могут содержать элементы разных типов (как и списки)"
      ]
    },
    {
      "cell_type": "code",
      "execution_count": null,
      "metadata": {
        "colab": {
          "base_uri": "https://localhost:8080/",
          "height": 175
        },
        "id": "692FvlD6-_4o",
        "outputId": "c3e18d40-e521-4427-da3d-ca205a73c2c2"
      },
      "outputs": [
        {
          "output_type": "error",
          "ename": "TypeError",
          "evalue": "ignored",
          "traceback": [
            "\u001b[0;31m---------------------------------------------------------------------------\u001b[0m",
            "\u001b[0;31mTypeError\u001b[0m                                 Traceback (most recent call last)",
            "\u001b[0;32m<ipython-input-152-fa1ba3f7cc8f>\u001b[0m in \u001b[0;36m<module>\u001b[0;34m\u001b[0m\n\u001b[0;32m----> 1\u001b[0;31m \u001b[0ma\u001b[0m\u001b[0;34m[\u001b[0m\u001b[0;36m0\u001b[0m\u001b[0;34m]\u001b[0m \u001b[0;34m=\u001b[0m \u001b[0;36m2\u001b[0m\u001b[0;34m\u001b[0m\u001b[0;34m\u001b[0m\u001b[0m\n\u001b[0m",
            "\u001b[0;31mTypeError\u001b[0m: 'tuple' object does not support item assignment"
          ]
        }
      ],
      "source": [
        "a[0] = 2"
      ]
    },
    {
      "cell_type": "code",
      "execution_count": null,
      "metadata": {
        "colab": {
          "base_uri": "https://localhost:8080/"
        },
        "id": "g_G7HfRU-_4o",
        "outputId": "02b8385a-81de-462c-e7d3-dae4a633d280"
      },
      "outputs": [
        {
          "output_type": "execute_result",
          "data": {
            "text/plain": [
              "((1, 2, 3, 4, 5), tuple, 5)"
            ]
          },
          "metadata": {},
          "execution_count": 153
        }
      ],
      "source": [
        "a = (1, 2, 3, 4, 5)\n",
        "a, type(a), len(a)"
      ]
    },
    {
      "cell_type": "code",
      "execution_count": null,
      "metadata": {
        "colab": {
          "base_uri": "https://localhost:8080/"
        },
        "id": "A45uHxjL-_4p",
        "outputId": "13c04b83-a7b4-41fb-e50a-2f4c58710ced"
      },
      "outputs": [
        {
          "output_type": "execute_result",
          "data": {
            "text/plain": [
              "((1, 2, 3, 4, 5), tuple, 5)"
            ]
          },
          "metadata": {},
          "execution_count": 154
        }
      ],
      "source": [
        "a = tuple([1, 2, 3, 4, 5])\n",
        "a, type(a), len(a)"
      ]
    },
    {
      "cell_type": "markdown",
      "metadata": {
        "id": "nxwQF3u_-_4p"
      },
      "source": [
        "Данные в кортеже хранятся более сжато, чем в списке."
      ]
    },
    {
      "cell_type": "code",
      "execution_count": null,
      "metadata": {
        "colab": {
          "base_uri": "https://localhost:8080/"
        },
        "id": "ZP5UJKLB-_4p",
        "outputId": "16223daf-4e2a-4ba5-81c6-5abcd5aa7429"
      },
      "outputs": [
        {
          "output_type": "execute_result",
          "data": {
            "text/plain": [
              "80"
            ]
          },
          "metadata": {},
          "execution_count": 155
        }
      ],
      "source": [
        "lst = [1, 2, 3, 4, 5]\n",
        "lst.__sizeof__()"
      ]
    },
    {
      "cell_type": "code",
      "execution_count": null,
      "metadata": {
        "colab": {
          "base_uri": "https://localhost:8080/"
        },
        "id": "NkCiR5mR-_4p",
        "outputId": "218408df-e805-4982-cf90-a1d4b54be940"
      },
      "outputs": [
        {
          "output_type": "execute_result",
          "data": {
            "text/plain": [
              "64"
            ]
          },
          "metadata": {},
          "execution_count": 156
        }
      ],
      "source": [
        "tup = (1, 2, 3, 4, 5)\n",
        "tup.__sizeof__()"
      ]
    },
    {
      "cell_type": "markdown",
      "metadata": {
        "id": "NNAuny8j-_4p"
      },
      "source": [
        "Кортежи поддерживают срезы (как списки и строки); индексация идет так же, как и в списках."
      ]
    },
    {
      "cell_type": "code",
      "execution_count": null,
      "metadata": {
        "colab": {
          "base_uri": "https://localhost:8080/"
        },
        "id": "tb4TFzQp-_4q",
        "outputId": "69d24cb8-4d55-474e-d612-d72f73b9c406"
      },
      "outputs": [
        {
          "output_type": "execute_result",
          "data": {
            "text/plain": [
              "((2, 3), 1)"
            ]
          },
          "metadata": {},
          "execution_count": 157
        }
      ],
      "source": [
        "tup[1:3], tup[0]"
      ]
    },
    {
      "cell_type": "markdown",
      "metadata": {
        "id": "Jh7GgcwI-_4q"
      },
      "source": [
        "Кортежи можно складывать."
      ]
    },
    {
      "cell_type": "code",
      "execution_count": null,
      "metadata": {
        "colab": {
          "base_uri": "https://localhost:8080/"
        },
        "id": "mkhQzLUY-_4q",
        "outputId": "be1c43dc-917d-4c99-f847-508d805dfcae"
      },
      "outputs": [
        {
          "output_type": "execute_result",
          "data": {
            "text/plain": [
              "(1, 2, 3, 4, 5)"
            ]
          },
          "metadata": {},
          "execution_count": 158
        }
      ],
      "source": [
        "t1 = (1, 2, 3)\n",
        "t2 = (4, 5)\n",
        "t1 + t2"
      ]
    },
    {
      "cell_type": "markdown",
      "metadata": {
        "id": "usMtb8eK-_4q"
      },
      "source": [
        "Но нельзя вычитать."
      ]
    },
    {
      "cell_type": "code",
      "execution_count": null,
      "metadata": {
        "colab": {
          "base_uri": "https://localhost:8080/",
          "height": 175
        },
        "id": "1R4kS9Po-_4q",
        "outputId": "5fe3a25c-6cd7-4940-81cc-b8bb8ec22bed"
      },
      "outputs": [
        {
          "output_type": "error",
          "ename": "TypeError",
          "evalue": "ignored",
          "traceback": [
            "\u001b[0;31m---------------------------------------------------------------------------\u001b[0m",
            "\u001b[0;31mTypeError\u001b[0m                                 Traceback (most recent call last)",
            "\u001b[0;32m<ipython-input-159-df8792ca3294>\u001b[0m in \u001b[0;36m<module>\u001b[0;34m\u001b[0m\n\u001b[0;32m----> 1\u001b[0;31m \u001b[0mt1\u001b[0m \u001b[0;34m-\u001b[0m \u001b[0mt2\u001b[0m\u001b[0;34m\u001b[0m\u001b[0;34m\u001b[0m\u001b[0m\n\u001b[0m",
            "\u001b[0;31mTypeError\u001b[0m: unsupported operand type(s) for -: 'tuple' and 'tuple'"
          ]
        }
      ],
      "source": [
        "t1 - t2"
      ]
    },
    {
      "cell_type": "markdown",
      "metadata": {
        "id": "VpfdnTeY-_4r"
      },
      "source": [
        "Так же, как и в списках, можно получить индекс некоторого элемента."
      ]
    },
    {
      "cell_type": "code",
      "execution_count": null,
      "metadata": {
        "colab": {
          "base_uri": "https://localhost:8080/"
        },
        "id": "mPOOSboW-_4r",
        "outputId": "e88cc0de-cab1-4abe-b60a-8984b8b91294"
      },
      "outputs": [
        {
          "output_type": "execute_result",
          "data": {
            "text/plain": [
              "0"
            ]
          },
          "metadata": {},
          "execution_count": 160
        }
      ],
      "source": [
        "t = (23, 45, 23, 6)\n",
        "t.index(23)"
      ]
    },
    {
      "cell_type": "code",
      "execution_count": null,
      "metadata": {
        "colab": {
          "base_uri": "https://localhost:8080/",
          "height": 175
        },
        "id": "5Q-pw7k8-_4r",
        "outputId": "077fb126-52e9-47ed-f5b1-d7e144c4b41a"
      },
      "outputs": [
        {
          "output_type": "error",
          "ename": "ValueError",
          "evalue": "ignored",
          "traceback": [
            "\u001b[0;31m---------------------------------------------------------------------------\u001b[0m",
            "\u001b[0;31mValueError\u001b[0m                                Traceback (most recent call last)",
            "\u001b[0;32m<ipython-input-161-9916e40b58a2>\u001b[0m in \u001b[0;36m<module>\u001b[0;34m\u001b[0m\n\u001b[0;32m----> 1\u001b[0;31m \u001b[0mt\u001b[0m\u001b[0;34m.\u001b[0m\u001b[0mindex\u001b[0m\u001b[0;34m(\u001b[0m\u001b[0;36m7\u001b[0m\u001b[0;34m)\u001b[0m\u001b[0;34m\u001b[0m\u001b[0;34m\u001b[0m\u001b[0m\n\u001b[0m",
            "\u001b[0;31mValueError\u001b[0m: tuple.index(x): x not in tuple"
          ]
        }
      ],
      "source": [
        "t.index(7) "
      ]
    },
    {
      "cell_type": "code",
      "execution_count": null,
      "metadata": {
        "colab": {
          "base_uri": "https://localhost:8080/"
        },
        "id": "FFRm_DgT-_4r",
        "outputId": "d152937f-3053-4ef4-9a77-0f0c94665285"
      },
      "outputs": [
        {
          "output_type": "execute_result",
          "data": {
            "text/plain": [
              "True"
            ]
          },
          "metadata": {},
          "execution_count": 162
        }
      ],
      "source": [
        "23 in t # проверка вхождения с помощью in"
      ]
    },
    {
      "cell_type": "markdown",
      "metadata": {
        "id": "30fKxmXD-_4r"
      },
      "source": [
        "### Словари <a class=\"anchor\" id=\"dicts\"></a>"
      ]
    },
    {
      "cell_type": "markdown",
      "metadata": {
        "id": "rWR5icKH-_4s"
      },
      "source": [
        "```Важно: ``` Словари в python – изменяемый тип данных!"
      ]
    },
    {
      "cell_type": "markdown",
      "metadata": {
        "id": "IpNaIPzc-_4s"
      },
      "source": [
        "Словарь (```dict```) представляет собой структуру данных, предназначенную для хранения произвольных объектов с доступом по ключу.\\\n",
        "Данные в словаре хранятся в формате ключ – значение.\\\n",
        "В списке, например, доступ к элементам осуществляется по индексу, который представляет собой целое число. В словаре аналогом индекса является ключ, его созданием занимается разработчик."
      ]
    },
    {
      "cell_type": "code",
      "execution_count": null,
      "metadata": {
        "colab": {
          "base_uri": "https://localhost:8080/"
        },
        "id": "9BsyXfUY-_4s",
        "outputId": "7e2dc17f-27cb-4a7a-83cb-d6a756ed8c1a"
      },
      "outputs": [
        {
          "output_type": "execute_result",
          "data": {
            "text/plain": [
              "({}, dict)"
            ]
          },
          "metadata": {},
          "execution_count": 163
        }
      ],
      "source": [
        "d = {}\n",
        "d, type(d)"
      ]
    },
    {
      "cell_type": "markdown",
      "metadata": {
        "id": "F1rdYoRx-_4s"
      },
      "source": [
        "Словарь в Python - это объект, который сопоставляет ключи со значениями, где ключи **уникальны** в пределах коллекции, а значения могут содержать **любое произвольное** значение. Помимо уникальности ключи также должны быть **хешируемыми**."
      ]
    },
    {
      "cell_type": "markdown",
      "metadata": {
        "id": "ZVwBMMlj-_4s"
      },
      "source": [
        "Объект называется хэшируемым, если от него можно взять хэш (специальное значение) с помощью встроенной функции ```hash```. Хэш-значения являются целыми числами."
      ]
    },
    {
      "cell_type": "code",
      "execution_count": null,
      "metadata": {
        "colab": {
          "base_uri": "https://localhost:8080/"
        },
        "id": "BUBh_sXs-_4s",
        "outputId": "09344c52-486a-4de9-b886-f8f00abe1635"
      },
      "outputs": [
        {
          "output_type": "execute_result",
          "data": {
            "text/plain": [
              "-8233196363339217306"
            ]
          },
          "metadata": {},
          "execution_count": 164
        }
      ],
      "source": [
        "hash(\"123\") # строка хэшируется"
      ]
    },
    {
      "cell_type": "code",
      "execution_count": null,
      "metadata": {
        "colab": {
          "base_uri": "https://localhost:8080/",
          "height": 175
        },
        "id": "5N4yPCck-_4t",
        "outputId": "81c8f459-ff0f-468e-88c4-7cf4e384c4a1"
      },
      "outputs": [
        {
          "output_type": "error",
          "ename": "TypeError",
          "evalue": "ignored",
          "traceback": [
            "\u001b[0;31m---------------------------------------------------------------------------\u001b[0m",
            "\u001b[0;31mTypeError\u001b[0m                                 Traceback (most recent call last)",
            "\u001b[0;32m<ipython-input-165-71e7a4f2ed44>\u001b[0m in \u001b[0;36m<module>\u001b[0;34m\u001b[0m\n\u001b[0;32m----> 1\u001b[0;31m \u001b[0mhash\u001b[0m\u001b[0;34m(\u001b[0m\u001b[0;34m[\u001b[0m\u001b[0;36m1\u001b[0m\u001b[0;34m,\u001b[0m \u001b[0;36m2\u001b[0m\u001b[0;34m,\u001b[0m \u001b[0;36m3\u001b[0m\u001b[0;34m]\u001b[0m\u001b[0;34m)\u001b[0m \u001b[0;31m# список не хэшируется\u001b[0m\u001b[0;34m\u001b[0m\u001b[0;34m\u001b[0m\u001b[0m\n\u001b[0m",
            "\u001b[0;31mTypeError\u001b[0m: unhashable type: 'list'"
          ]
        }
      ],
      "source": [
        "hash([1, 2, 3]) # список не хэшируется"
      ]
    },
    {
      "cell_type": "markdown",
      "metadata": {
        "id": "oaH9ihk8-_4t"
      },
      "source": [
        "Большинство неизменяемых встроенных объектов Python являются хешируемыми и имеют хеш-значение.\\\n",
        "**Изменяемые контейнеры, такие как списки или словари, не имеют хеш-значений**"
      ]
    },
    {
      "cell_type": "markdown",
      "metadata": {
        "id": "Xb9UnVCb-_4t"
      },
      "source": [
        "Создадим словарь для примера. Через запятую в словаре указаны пары ключ:значение."
      ]
    },
    {
      "cell_type": "code",
      "execution_count": null,
      "metadata": {
        "colab": {
          "base_uri": "https://localhost:8080/"
        },
        "id": "GKkQO2tc-_4t",
        "outputId": "9cabcf6e-0cc4-4c7b-e4fe-5b7a73dc6fb3"
      },
      "outputs": [
        {
          "output_type": "execute_result",
          "data": {
            "text/plain": [
              "{'cat': 'miao', 'dog': 'gav', 'pig': 'hru'}"
            ]
          },
          "metadata": {},
          "execution_count": 166
        }
      ],
      "source": [
        "d = {'cat':\"miao\", \"dog\":\"gav\", \"pig\":\"hru\"}\n",
        "d"
      ]
    },
    {
      "cell_type": "markdown",
      "metadata": {
        "id": "kGGNwaO_-_4t"
      },
      "source": [
        "Можно создать словарь и так."
      ]
    },
    {
      "cell_type": "code",
      "execution_count": null,
      "metadata": {
        "colab": {
          "base_uri": "https://localhost:8080/"
        },
        "id": "dUqxRBDQ-_4t",
        "outputId": "b4899f03-658d-44e8-91e2-603c37f8629d"
      },
      "outputs": [
        {
          "output_type": "execute_result",
          "data": {
            "text/plain": [
              "{'cat': '', 'dog': '', 'pig': ''}"
            ]
          },
          "metadata": {},
          "execution_count": 167
        }
      ],
      "source": [
        "d = dict.fromkeys([\"cat\", \"dog\", \"pig\"], \"\")\n",
        "d"
      ]
    },
    {
      "cell_type": "markdown",
      "metadata": {
        "id": "iPreQrma-_4u"
      },
      "source": [
        "А еще вот так."
      ]
    },
    {
      "cell_type": "code",
      "execution_count": null,
      "metadata": {
        "colab": {
          "base_uri": "https://localhost:8080/"
        },
        "id": "UFgEivsK-_4u",
        "outputId": "733d2fc4-c1a2-4c33-ad03-99e9cf0c6026"
      },
      "outputs": [
        {
          "output_type": "execute_result",
          "data": {
            "text/plain": [
              "{'cat': 'miao', 'dog': 'gav', 'pig': 'hru'}"
            ]
          },
          "metadata": {},
          "execution_count": 168
        }
      ],
      "source": [
        "d = dict(cat=\"miao\", dog=\"gav\", pig=\"hru\")\n",
        "d"
      ]
    },
    {
      "cell_type": "markdown",
      "metadata": {
        "id": "SHkgS3DO-_4u"
      },
      "source": [
        "И вот так."
      ]
    },
    {
      "cell_type": "code",
      "execution_count": null,
      "metadata": {
        "colab": {
          "base_uri": "https://localhost:8080/"
        },
        "id": "b9ouoYnZ-_4u",
        "outputId": "a50a746f-89a2-48a6-a70f-72c30a96c4d4"
      },
      "outputs": [
        {
          "output_type": "execute_result",
          "data": {
            "text/plain": [
              "{'cat': 'miao', 'dog': 'gav', 'pig': 'hru'}"
            ]
          },
          "metadata": {},
          "execution_count": 169
        }
      ],
      "source": [
        "d = dict((('cat', \"miao\"), (\"dog\", \"gav\"), (\"pig\", \"hru\")))\n",
        "d"
      ]
    },
    {
      "cell_type": "markdown",
      "metadata": {
        "id": "ffHm8oGS-_4u"
      },
      "source": [
        "Далее можно взять значение по ключу"
      ]
    },
    {
      "cell_type": "code",
      "execution_count": null,
      "metadata": {
        "colab": {
          "base_uri": "https://localhost:8080/",
          "height": 36
        },
        "id": "JoIEsUvQ-_4v",
        "outputId": "8072cc00-ff60-403d-9546-6b26d7566d2b"
      },
      "outputs": [
        {
          "output_type": "execute_result",
          "data": {
            "text/plain": [
              "'miao'"
            ],
            "application/vnd.google.colaboratory.intrinsic+json": {
              "type": "string"
            }
          },
          "metadata": {},
          "execution_count": 170
        }
      ],
      "source": [
        "d['cat']"
      ]
    },
    {
      "cell_type": "code",
      "execution_count": null,
      "metadata": {
        "colab": {
          "base_uri": "https://localhost:8080/",
          "height": 36
        },
        "id": "eTLiV9Rb-_4v",
        "outputId": "e7deb23b-10ba-46b7-b111-2c8790b292dc"
      },
      "outputs": [
        {
          "output_type": "execute_result",
          "data": {
            "text/plain": [
              "'miao'"
            ],
            "application/vnd.google.colaboratory.intrinsic+json": {
              "type": "string"
            }
          },
          "metadata": {},
          "execution_count": 171
        }
      ],
      "source": [
        "d.get('cat')"
      ]
    },
    {
      "cell_type": "markdown",
      "metadata": {
        "id": "g5pZ8CR4-_4v"
      },
      "source": [
        "Если элемента по запрашиваемому ключу не оказалось, сгенерируется исключение ```KeyError```."
      ]
    },
    {
      "cell_type": "code",
      "execution_count": null,
      "metadata": {
        "colab": {
          "base_uri": "https://localhost:8080/",
          "height": 175
        },
        "id": "hmrqSREj-_4w",
        "outputId": "e182ef8e-a605-4007-abe5-5d0e95352da7"
      },
      "outputs": [
        {
          "output_type": "error",
          "ename": "KeyError",
          "evalue": "ignored",
          "traceback": [
            "\u001b[0;31m---------------------------------------------------------------------------\u001b[0m",
            "\u001b[0;31mKeyError\u001b[0m                                  Traceback (most recent call last)",
            "\u001b[0;32m<ipython-input-172-1146bd63cdc6>\u001b[0m in \u001b[0;36m<module>\u001b[0;34m\u001b[0m\n\u001b[0;32m----> 1\u001b[0;31m \u001b[0md\u001b[0m\u001b[0;34m[\u001b[0m\u001b[0;34m'cow'\u001b[0m\u001b[0;34m]\u001b[0m\u001b[0;34m\u001b[0m\u001b[0;34m\u001b[0m\u001b[0m\n\u001b[0m",
            "\u001b[0;31mKeyError\u001b[0m: 'cow'"
          ]
        }
      ],
      "source": [
        "d['cow']"
      ]
    },
    {
      "cell_type": "markdown",
      "metadata": {
        "id": "Qrf1OAVF-_4w"
      },
      "source": [
        "Чтобы ошибки не возникало, можно установить значение по умолчанию, которое возвращается, если запрашиваемого ключа в словаре нет."
      ]
    },
    {
      "cell_type": "code",
      "execution_count": null,
      "metadata": {
        "colab": {
          "base_uri": "https://localhost:8080/",
          "height": 36
        },
        "id": "bTi0hNzC-_4w",
        "outputId": "8d495fb1-c6ca-464e-bff5-de6c6461813f"
      },
      "outputs": [
        {
          "output_type": "execute_result",
          "data": {
            "text/plain": [
              "''"
            ],
            "application/vnd.google.colaboratory.intrinsic+json": {
              "type": "string"
            }
          },
          "metadata": {},
          "execution_count": 173
        }
      ],
      "source": [
        "d.get('cow', '')"
      ]
    },
    {
      "cell_type": "markdown",
      "metadata": {
        "id": "ZZC-qvA2-_4w"
      },
      "source": [
        "У словаря можно получить ключи, значения и список пар ключ-значение.\\\n",
        "Чтобы привести к типу списка, нужно воспользовать list(...)."
      ]
    },
    {
      "cell_type": "code",
      "execution_count": null,
      "metadata": {
        "colab": {
          "base_uri": "https://localhost:8080/"
        },
        "id": "8IDKDX-w-_4w",
        "outputId": "cc415445-592e-4ec9-fccd-45b0c108638b"
      },
      "outputs": [
        {
          "output_type": "execute_result",
          "data": {
            "text/plain": [
              "dict_keys(['cat', 'dog', 'pig'])"
            ]
          },
          "metadata": {},
          "execution_count": 174
        }
      ],
      "source": [
        "d.keys() # ключи"
      ]
    },
    {
      "cell_type": "code",
      "execution_count": null,
      "metadata": {
        "colab": {
          "base_uri": "https://localhost:8080/"
        },
        "id": "yRajKVkc-_4x",
        "outputId": "b078b240-ae99-431f-dcaf-d92de6977b8e"
      },
      "outputs": [
        {
          "output_type": "execute_result",
          "data": {
            "text/plain": [
              "dict_values(['miao', 'gav', 'hru'])"
            ]
          },
          "metadata": {},
          "execution_count": 175
        }
      ],
      "source": [
        "d.values() # значения"
      ]
    },
    {
      "cell_type": "code",
      "execution_count": null,
      "metadata": {
        "colab": {
          "base_uri": "https://localhost:8080/"
        },
        "id": "rVe4lhet-_4x",
        "outputId": "421d5fc0-4b53-42be-9951-651fb34a508c"
      },
      "outputs": [
        {
          "output_type": "execute_result",
          "data": {
            "text/plain": [
              "dict_items([('cat', 'miao'), ('dog', 'gav'), ('pig', 'hru')])"
            ]
          },
          "metadata": {},
          "execution_count": 176
        }
      ],
      "source": [
        "d.items() # ключ-значение"
      ]
    },
    {
      "cell_type": "markdown",
      "metadata": {
        "id": "BFPLaD6S-_4x"
      },
      "source": [
        "Как добавить новый элемент к словарю?"
      ]
    },
    {
      "cell_type": "code",
      "execution_count": null,
      "metadata": {
        "colab": {
          "base_uri": "https://localhost:8080/"
        },
        "id": "iFhwLJob-_4x",
        "outputId": "ac80a105-1116-4497-c1fa-aa34a29bd17b"
      },
      "outputs": [
        {
          "output_type": "execute_result",
          "data": {
            "text/plain": [
              "{'cat': 'miao', 'dog': 'gav', 'pig': 'hru', 'horse': 'igogo'}"
            ]
          },
          "metadata": {},
          "execution_count": 177
        }
      ],
      "source": [
        "d['horse'] = 'igogo'\n",
        "d"
      ]
    },
    {
      "cell_type": "markdown",
      "metadata": {
        "id": "WAhJ71B2-_4y"
      },
      "source": [
        "Если данный ключ в словаре существовал, то значение по ключу перезапишется."
      ]
    },
    {
      "cell_type": "code",
      "execution_count": null,
      "metadata": {
        "colab": {
          "base_uri": "https://localhost:8080/"
        },
        "id": "nduQNEgl-_4y",
        "outputId": "c85ef749-cbff-4509-a5bb-c725417c29c1"
      },
      "outputs": [
        {
          "output_type": "execute_result",
          "data": {
            "text/plain": [
              "{'cat': 'miao', 'dog': 'gav', 'pig': 'hru', 'horse': 'igogogo'}"
            ]
          },
          "metadata": {},
          "execution_count": 178
        }
      ],
      "source": [
        "d['horse'] = 'igogogo'\n",
        "d"
      ]
    },
    {
      "cell_type": "markdown",
      "metadata": {
        "id": "_33nLeUJ-_4y"
      },
      "source": [
        "#### Итерация по словарю"
      ]
    },
    {
      "cell_type": "code",
      "execution_count": null,
      "metadata": {
        "colab": {
          "base_uri": "https://localhost:8080/"
        },
        "id": "nDJGQyfk-_4y",
        "outputId": "1204c27d-02bf-487d-b5c7-defb8f38bf03"
      },
      "outputs": [
        {
          "output_type": "stream",
          "name": "stdout",
          "text": [
            "cat : miao\n",
            "dog : gav\n",
            "pig : hru\n",
            "horse : igogogo\n"
          ]
        }
      ],
      "source": [
        "for animal in d: # for key in d - по ключам\n",
        "    print(animal, ':', d[animal])"
      ]
    },
    {
      "cell_type": "code",
      "execution_count": null,
      "metadata": {
        "colab": {
          "base_uri": "https://localhost:8080/"
        },
        "id": "kmEyEfWS-_4y",
        "outputId": "616eaef6-e390-4d77-a9cf-59d56479f811"
      },
      "outputs": [
        {
          "output_type": "stream",
          "name": "stdout",
          "text": [
            "cat : miao\n",
            "dog : gav\n",
            "pig : hru\n",
            "horse : igogogo\n"
          ]
        }
      ],
      "source": [
        "for animal, voice in d.items(): # for key, value in d.items() - по паре (ключ, значение)\n",
        "    print(animal, ':', voice)"
      ]
    },
    {
      "cell_type": "markdown",
      "metadata": {
        "id": "yqZrXv-J-_4z"
      },
      "source": [
        "#### defaultdict"
      ]
    },
    {
      "cell_type": "markdown",
      "metadata": {
        "id": "1RLDjgyS-_4z"
      },
      "source": [
        "В стандартной библиотеке ```collections``` есть тип ```defaultdict``` - словарь, у которого по любому ключу изначально лежит некоторое значение по умолчанию (то есть не надо делать ```d.get(key, 0)``` во избежание ```KeyError```).\\\n",
        "По умолчанию для списков возвращается $[]$, для int - 0 и тд."
      ]
    },
    {
      "cell_type": "code",
      "execution_count": null,
      "metadata": {
        "colab": {
          "base_uri": "https://localhost:8080/"
        },
        "id": "tOOkmugY-_4z",
        "outputId": "98ecaa77-488d-41d6-e8b7-83bc7d928b07"
      },
      "outputs": [
        {
          "output_type": "execute_result",
          "data": {
            "text/plain": [
              "([], [], [])"
            ]
          },
          "metadata": {},
          "execution_count": 181
        }
      ],
      "source": [
        "from collections import defaultdict\n",
        "\n",
        "d = defaultdict(list)\n",
        "d['key'], d['key_1'], d['key_2']"
      ]
    },
    {
      "cell_type": "markdown",
      "metadata": {
        "id": "w9ZY8Plx-_4z"
      },
      "source": [
        "#### OrderedDict"
      ]
    },
    {
      "cell_type": "markdown",
      "metadata": {
        "id": "o3nKHaU0-_4z"
      },
      "source": [
        "Обычный словарь ```dict``` был разработан для быстрых операций добавления, извлечения и обновления данных.\\\n",
        "Класс ```collections.OrderedDict()``` был разработан для частыx операций переупорядочивания. Эффективность использования памяти, скорость итераций и производительность операций обновления были второстепенными.\\\n",
        "Алгоритмически ```collections.OrderedDict()``` может обрабатывать частые операции переупорядочения лучше, чем обычный словарь ```dict```. "
      ]
    },
    {
      "cell_type": "code",
      "execution_count": null,
      "metadata": {
        "colab": {
          "base_uri": "https://localhost:8080/"
        },
        "id": "uiYuPGH_-_4z",
        "outputId": "2e3912a4-64c1-4f9e-ccea-3102e4428f6c"
      },
      "outputs": [
        {
          "output_type": "execute_result",
          "data": {
            "text/plain": [
              "OrderedDict([('cat', 'miao'),\n",
              "             ('dog', 'gav'),\n",
              "             ('pig', 'hru'),\n",
              "             ('horse', 'igogo')])"
            ]
          },
          "metadata": {},
          "execution_count": 182
        }
      ],
      "source": [
        "from collections import OrderedDict\n",
        "\n",
        "d = OrderedDict([('cat', 'miao'), ('dog', 'gav'), ('pig', 'hru'), ('horse', 'igogo')])\n",
        "d"
      ]
    },
    {
      "cell_type": "code",
      "execution_count": null,
      "metadata": {
        "colab": {
          "base_uri": "https://localhost:8080/"
        },
        "id": "hXWbzRdd-_40",
        "outputId": "62e2b7f9-16a3-4fab-8862-95fdfb314474"
      },
      "outputs": [
        {
          "output_type": "execute_result",
          "data": {
            "text/plain": [
              "(('horse', 'igogo'),\n",
              " OrderedDict([('cat', 'miao'), ('dog', 'gav'), ('pig', 'hru')]))"
            ]
          },
          "metadata": {},
          "execution_count": 183
        }
      ],
      "source": [
        "# возвращает последний элемент (он не является случайным, поскольку есть упорядоченность)\n",
        "# для обычного словаря порядок не задается\n",
        "d.popitem(), d"
      ]
    },
    {
      "cell_type": "code",
      "execution_count": null,
      "metadata": {
        "colab": {
          "base_uri": "https://localhost:8080/"
        },
        "id": "iJ18-7qz-_40",
        "outputId": "8cc0974e-c9af-469f-e96d-cd35d66525dd"
      },
      "outputs": [
        {
          "output_type": "execute_result",
          "data": {
            "text/plain": [
              "OrderedDict([('dog', 'gav'), ('pig', 'hru'), ('cat', 'miao')])"
            ]
          },
          "metadata": {},
          "execution_count": 184
        }
      ],
      "source": [
        "d.move_to_end('cat', last=True)\n",
        "d # перемещаем элемент в конец словаря"
      ]
    },
    {
      "cell_type": "code",
      "execution_count": null,
      "metadata": {
        "colab": {
          "base_uri": "https://localhost:8080/"
        },
        "id": "COTxUcSJ-_40",
        "outputId": "18a30c06-ac09-441b-d581-414b2ad03017"
      },
      "outputs": [
        {
          "output_type": "execute_result",
          "data": {
            "text/plain": [
              "OrderedDict([('pig', 'hru'), ('dog', 'gav'), ('cat', 'miao')])"
            ]
          },
          "metadata": {},
          "execution_count": 185
        }
      ],
      "source": [
        "d.move_to_end('pig', last=False)\n",
        "d # перемещаем элемент в начало словаря"
      ]
    },
    {
      "cell_type": "markdown",
      "metadata": {
        "id": "YwjM53B6-_40"
      },
      "source": [
        "Кроме того, проверка на равенство упорядоченных словарей происходит с учетом порядка пар ключ/значение."
      ]
    },
    {
      "cell_type": "markdown",
      "metadata": {
        "id": "whUdeiGg-_41"
      },
      "source": [
        "### Множества <a class=\"anchor\" id=\"sets\"></a>"
      ]
    },
    {
      "cell_type": "markdown",
      "metadata": {
        "id": "vhMeDsJw-_41"
      },
      "source": [
        "```Важно: ``` Множества в python – изменяемый тип данных!"
      ]
    },
    {
      "cell_type": "markdown",
      "metadata": {
        "id": "n4nblSJz-_41"
      },
      "source": [
        "Важное преимущество множеств заключается в том, что в лучшем случае поиск по множеству занимает О(1) времени! В худшем случае, O(n) - где n - количество элементов во множестве."
      ]
    },
    {
      "cell_type": "code",
      "execution_count": null,
      "metadata": {
        "colab": {
          "base_uri": "https://localhost:8080/"
        },
        "id": "SqE1E5Mb-_41",
        "outputId": "4265d71b-461a-4da4-f9ed-ef06e6eb1b00"
      },
      "outputs": [
        {
          "output_type": "execute_result",
          "data": {
            "text/plain": [
              "({1, 2, 3, 4, 5, 6, 7, 8, 9}, 139932622090560, 9)"
            ]
          },
          "metadata": {},
          "execution_count": 186
        }
      ],
      "source": [
        "s = [1, 2, 3, 3, 4, 5, 6, 6, 6, 7, 8, 8, 9, 9]\n",
        "s = set(s) \n",
        "s, id(s), len(s) # Все элементы множества уникальны"
      ]
    },
    {
      "cell_type": "code",
      "execution_count": null,
      "metadata": {
        "colab": {
          "base_uri": "https://localhost:8080/"
        },
        "id": "WM7Q8An8-_41",
        "outputId": "0ce85fb1-b052-4390-b419-5f6533bb4413"
      },
      "outputs": [
        {
          "output_type": "execute_result",
          "data": {
            "text/plain": [
              "({1, 2, 3, 4, 5, 6, 7, 8, 9, 10}, 139932622090560)"
            ]
          },
          "metadata": {},
          "execution_count": 187
        }
      ],
      "source": [
        "s.add(10) # добавить элемент во множество\n",
        "s, id(s)"
      ]
    },
    {
      "cell_type": "code",
      "execution_count": null,
      "metadata": {
        "colab": {
          "base_uri": "https://localhost:8080/"
        },
        "id": "hVTyDqEs-_42",
        "outputId": "a68dec81-30da-4c1b-8cd1-9c5e7c90bffc"
      },
      "outputs": [
        {
          "output_type": "execute_result",
          "data": {
            "text/plain": [
              "({1, 2, 3, 4, 5, 6, 7, 8, 9}, 139932622090560)"
            ]
          },
          "metadata": {},
          "execution_count": 188
        }
      ],
      "source": [
        "s.remove(10) # удалить элемент из множества\n",
        "s, id(s)"
      ]
    },
    {
      "cell_type": "code",
      "execution_count": null,
      "metadata": {
        "colab": {
          "base_uri": "https://localhost:8080/"
        },
        "id": "fT4jrIS0-_42",
        "outputId": "aabf3aee-f49d-4ebf-c382-4157414ab659"
      },
      "outputs": [
        {
          "output_type": "execute_result",
          "data": {
            "text/plain": [
              "True"
            ]
          },
          "metadata": {},
          "execution_count": 189
        }
      ],
      "source": [
        "3 in s # проверить наличие элемента во множестве"
      ]
    },
    {
      "cell_type": "code",
      "execution_count": null,
      "metadata": {
        "colab": {
          "base_uri": "https://localhost:8080/"
        },
        "id": "CvGf59R6-_42",
        "outputId": "d2c0e959-2254-46af-9fe0-8fb2a1f01c35"
      },
      "outputs": [
        {
          "output_type": "execute_result",
          "data": {
            "text/plain": [
              "True"
            ]
          },
          "metadata": {},
          "execution_count": 190
        }
      ],
      "source": [
        "10 not in s # проверить отсутствие элемента во множестве"
      ]
    },
    {
      "cell_type": "markdown",
      "metadata": {
        "id": "cC6mGisx-_42"
      },
      "source": [
        "#### Неизменяемые множества"
      ]
    },
    {
      "cell_type": "code",
      "execution_count": null,
      "metadata": {
        "colab": {
          "base_uri": "https://localhost:8080/"
        },
        "id": "wQC1Yu2E-_43",
        "outputId": "1b18edc0-0317-4b0e-84f3-e4ad8c60e0ed"
      },
      "outputs": [
        {
          "output_type": "execute_result",
          "data": {
            "text/plain": [
              "frozenset({1, 2, 3, 4, 5})"
            ]
          },
          "metadata": {},
          "execution_count": 191
        }
      ],
      "source": [
        "s = frozenset([1, 2, 3, 4, 5])\n",
        "s"
      ]
    },
    {
      "cell_type": "code",
      "execution_count": null,
      "metadata": {
        "colab": {
          "base_uri": "https://localhost:8080/",
          "height": 175
        },
        "id": "Vt1_F3jt-_43",
        "outputId": "28f0fa12-a1c1-401c-e247-3446764dcc16"
      },
      "outputs": [
        {
          "output_type": "error",
          "ename": "AttributeError",
          "evalue": "ignored",
          "traceback": [
            "\u001b[0;31m---------------------------------------------------------------------------\u001b[0m",
            "\u001b[0;31mAttributeError\u001b[0m                            Traceback (most recent call last)",
            "\u001b[0;32m<ipython-input-192-912dc8539a20>\u001b[0m in \u001b[0;36m<module>\u001b[0;34m\u001b[0m\n\u001b[0;32m----> 1\u001b[0;31m \u001b[0ms\u001b[0m\u001b[0;34m.\u001b[0m\u001b[0madd\u001b[0m\u001b[0;34m(\u001b[0m\u001b[0;36m6\u001b[0m\u001b[0;34m)\u001b[0m \u001b[0;31m# к неизменяемому множеству нельзя добавить элемент (удалить элемент из него тоже нельзя)\u001b[0m\u001b[0;34m\u001b[0m\u001b[0;34m\u001b[0m\u001b[0m\n\u001b[0m",
            "\u001b[0;31mAttributeError\u001b[0m: 'frozenset' object has no attribute 'add'"
          ]
        }
      ],
      "source": [
        "s.add(6) # к неизменяемому множеству нельзя добавить элемент (удалить элемент из него тоже нельзя)"
      ]
    },
    {
      "cell_type": "markdown",
      "metadata": {
        "id": "kKx-X-OD-_43"
      },
      "source": [
        "#### Операции с множествами"
      ]
    },
    {
      "cell_type": "code",
      "execution_count": null,
      "metadata": {
        "id": "8c9E2cKh-_43"
      },
      "outputs": [],
      "source": [
        "s1 = set([i for i in range(5, 20)])\n",
        "s2 = set([i for i in range(10, 25)])"
      ]
    },
    {
      "cell_type": "markdown",
      "metadata": {
        "id": "qxehmOmd-_43"
      },
      "source": [
        "$A \\cap B$"
      ]
    },
    {
      "cell_type": "code",
      "execution_count": null,
      "metadata": {
        "colab": {
          "base_uri": "https://localhost:8080/"
        },
        "id": "UjS0WnvM-_43",
        "outputId": "e8d36c88-b003-43a5-86a1-affad207a9ee"
      },
      "outputs": [
        {
          "output_type": "execute_result",
          "data": {
            "text/plain": [
              "({10, 11, 12, 13, 14, 15, 16, 17, 18, 19},\n",
              " {10, 11, 12, 13, 14, 15, 16, 17, 18, 19})"
            ]
          },
          "metadata": {},
          "execution_count": 194
        }
      ],
      "source": [
        "s1.intersection(s2), s1 & s2 # пересечение"
      ]
    },
    {
      "cell_type": "markdown",
      "metadata": {
        "id": "GN5tCnRr-_44"
      },
      "source": [
        "$A \\cup B$"
      ]
    },
    {
      "cell_type": "code",
      "execution_count": null,
      "metadata": {
        "colab": {
          "base_uri": "https://localhost:8080/"
        },
        "id": "ITSUXf4m-_44",
        "outputId": "031abe12-c2b0-40d1-f368-0ab850172aa7"
      },
      "outputs": [
        {
          "output_type": "execute_result",
          "data": {
            "text/plain": [
              "({5, 6, 7, 8, 9, 10, 11, 12, 13, 14, 15, 16, 17, 18, 19, 20, 21, 22, 23, 24},\n",
              " {5, 6, 7, 8, 9, 10, 11, 12, 13, 14, 15, 16, 17, 18, 19, 20, 21, 22, 23, 24})"
            ]
          },
          "metadata": {},
          "execution_count": 195
        }
      ],
      "source": [
        "s1.union(s2), s1 | s2 # объединение"
      ]
    },
    {
      "cell_type": "markdown",
      "metadata": {
        "id": "8gb6ZnoQ-_44"
      },
      "source": [
        "$A \\setminus B$"
      ]
    },
    {
      "cell_type": "code",
      "execution_count": null,
      "metadata": {
        "colab": {
          "base_uri": "https://localhost:8080/"
        },
        "id": "kMgDjQh3-_44",
        "outputId": "4c0dc842-e23e-442c-ba99-2390b695a9d8"
      },
      "outputs": [
        {
          "output_type": "execute_result",
          "data": {
            "text/plain": [
              "({5, 6, 7, 8, 9}, {5, 6, 7, 8, 9})"
            ]
          },
          "metadata": {},
          "execution_count": 196
        }
      ],
      "source": [
        "s1.difference(s2), s1 - s2 # разность"
      ]
    },
    {
      "cell_type": "markdown",
      "metadata": {
        "id": "G-Q1p0Tb-_44"
      },
      "source": [
        "**pop**"
      ]
    },
    {
      "cell_type": "code",
      "execution_count": null,
      "metadata": {
        "colab": {
          "base_uri": "https://localhost:8080/"
        },
        "id": "09cJgh5a-_44",
        "outputId": "710f2e72-dca8-46e0-cfbe-7b60420da91a"
      },
      "outputs": [
        {
          "output_type": "stream",
          "name": "stdout",
          "text": [
            "popped elem:  5\n"
          ]
        },
        {
          "output_type": "execute_result",
          "data": {
            "text/plain": [
              "{6, 7, 8, 9, 10, 11, 12, 13, 14, 15, 16, 17, 18, 19}"
            ]
          },
          "metadata": {},
          "execution_count": 197
        }
      ],
      "source": [
        "print('popped elem: ', s1.pop()) # удаление и возвращение элемента \n",
        "# (не можем утверждать, какой именно элемент будет возвращен, поскольку множество – неупорядоченная структура данных)\n",
        "s1"
      ]
    },
    {
      "cell_type": "markdown",
      "metadata": {
        "id": "3TOemeku-_45"
      },
      "source": [
        "**remove**"
      ]
    },
    {
      "cell_type": "code",
      "execution_count": null,
      "metadata": {
        "colab": {
          "base_uri": "https://localhost:8080/"
        },
        "id": "eZe5jWgZ-_45",
        "outputId": "07866374-eb32-45ac-8e3d-545660b718aa"
      },
      "outputs": [
        {
          "output_type": "execute_result",
          "data": {
            "text/plain": [
              "{7, 8, 9, 10, 11, 12, 13, 14, 15, 16, 17, 18, 19}"
            ]
          },
          "metadata": {},
          "execution_count": 198
        }
      ],
      "source": [
        "s1.remove(6) # удаление элемента из множества\n",
        "s1"
      ]
    },
    {
      "cell_type": "code",
      "execution_count": null,
      "metadata": {
        "colab": {
          "base_uri": "https://localhost:8080/",
          "height": 194
        },
        "id": "CO221Obf-_45",
        "outputId": "ee199b2a-74a4-4ae6-9d22-873d5d2799be"
      },
      "outputs": [
        {
          "output_type": "error",
          "ename": "KeyError",
          "evalue": "ignored",
          "traceback": [
            "\u001b[0;31m---------------------------------------------------------------------------\u001b[0m",
            "\u001b[0;31mKeyError\u001b[0m                                  Traceback (most recent call last)",
            "\u001b[0;32m<ipython-input-199-6fdcb5ce1e9f>\u001b[0m in \u001b[0;36m<module>\u001b[0;34m\u001b[0m\n\u001b[1;32m      1\u001b[0m \u001b[0;31m# при попытке удалить элемент, которого нет во множестве, возникает исключение\u001b[0m\u001b[0;34m\u001b[0m\u001b[0;34m\u001b[0m\u001b[0;34m\u001b[0m\u001b[0m\n\u001b[0;32m----> 2\u001b[0;31m \u001b[0ms1\u001b[0m\u001b[0;34m.\u001b[0m\u001b[0mremove\u001b[0m\u001b[0;34m(\u001b[0m\u001b[0;36m21\u001b[0m\u001b[0;34m)\u001b[0m\u001b[0;34m\u001b[0m\u001b[0;34m\u001b[0m\u001b[0m\n\u001b[0m",
            "\u001b[0;31mKeyError\u001b[0m: 21"
          ]
        }
      ],
      "source": [
        "# при попытке удалить элемент, которого нет во множестве, возникает исключение\n",
        "s1.remove(21)"
      ]
    },
    {
      "cell_type": "markdown",
      "metadata": {
        "id": "jc4RFdqX-_45"
      },
      "source": [
        "**discard**"
      ]
    },
    {
      "cell_type": "code",
      "execution_count": null,
      "metadata": {
        "colab": {
          "base_uri": "https://localhost:8080/"
        },
        "id": "hVHS6HHJ-_45",
        "outputId": "f20be692-fce5-4008-e4f7-ce3d2590227c"
      },
      "outputs": [
        {
          "output_type": "execute_result",
          "data": {
            "text/plain": [
              "{8, 9, 10, 11, 12, 13, 14, 15, 16, 17, 18, 19}"
            ]
          },
          "metadata": {},
          "execution_count": 200
        }
      ],
      "source": [
        "s1.discard(7) # удаление элемента из множества\n",
        "s1"
      ]
    },
    {
      "cell_type": "code",
      "execution_count": null,
      "metadata": {
        "id": "sh-2bG9m-_45"
      },
      "outputs": [],
      "source": [
        "# при попытке удалить элемент, которого нет во множестве, не возникает исключения\n",
        "s1.discard(21)"
      ]
    },
    {
      "cell_type": "markdown",
      "metadata": {
        "id": "JWcxMw-U-_46"
      },
      "source": [
        "**clear**"
      ]
    },
    {
      "cell_type": "code",
      "execution_count": null,
      "metadata": {
        "colab": {
          "base_uri": "https://localhost:8080/"
        },
        "id": "XdP92UDn-_46",
        "outputId": "3a1a2b7c-8170-405c-a55a-8026e68f7d10"
      },
      "outputs": [
        {
          "output_type": "execute_result",
          "data": {
            "text/plain": [
              "set()"
            ]
          },
          "metadata": {},
          "execution_count": 202
        }
      ],
      "source": [
        "s1.clear() # удаление всех элементов множества\n",
        "s1"
      ]
    },
    {
      "cell_type": "markdown",
      "metadata": {
        "id": "a3nLhLJ6-_46"
      },
      "source": [
        "**итерация по множеству**"
      ]
    },
    {
      "cell_type": "markdown",
      "metadata": {
        "id": "MfK1Y1YY-_46"
      },
      "source": [
        "По множеству можно итерироваться так же, как и по другим итерируемым типам данных."
      ]
    },
    {
      "cell_type": "code",
      "execution_count": null,
      "metadata": {
        "colab": {
          "base_uri": "https://localhost:8080/"
        },
        "id": "Binv3NLd-_46",
        "outputId": "da8fa2a1-ae4f-4fc3-9221-9f04a574b737"
      },
      "outputs": [
        {
          "output_type": "stream",
          "name": "stdout",
          "text": [
            "1 3 4 "
          ]
        }
      ],
      "source": [
        "a = {4, 3, 1}\n",
        "for elem in a: # порядок эдементов во множестве не зафиксирован, поэтому они будут выданы в некотором случайном порядке\n",
        "    print(elem, end=' ')"
      ]
    },
    {
      "cell_type": "markdown",
      "metadata": {
        "id": "QwzuhUq--_47"
      },
      "source": [
        "### Логический тип <a class=\"anchor\" id=\"bools\"></a>"
      ]
    },
    {
      "cell_type": "markdown",
      "metadata": {
        "id": "HPSM6EhY-_47"
      },
      "source": [
        "```Важно: ``` Логический тип в python – неизменяемый тип данных!"
      ]
    },
    {
      "cell_type": "markdown",
      "metadata": {
        "id": "dbeQW0m1-_47"
      },
      "source": [
        "У логического типа есть 2 значения:\n",
        "* True - любое значение, отличное от 0.\n",
        "* False - 0."
      ]
    },
    {
      "cell_type": "code",
      "execution_count": null,
      "metadata": {
        "colab": {
          "base_uri": "https://localhost:8080/"
        },
        "id": "uC7fL4cP-_47",
        "outputId": "96236830-d0b5-432f-d5ef-70236c7c7b43"
      },
      "outputs": [
        {
          "output_type": "execute_result",
          "data": {
            "text/plain": [
              "(True, False)"
            ]
          },
          "metadata": {},
          "execution_count": 204
        }
      ],
      "source": [
        "True, False"
      ]
    },
    {
      "cell_type": "code",
      "execution_count": null,
      "metadata": {
        "colab": {
          "base_uri": "https://localhost:8080/"
        },
        "id": "MPlhThlL-_47",
        "outputId": "1e969977-c7f3-420e-e54c-af44a4ec938d"
      },
      "outputs": [
        {
          "output_type": "execute_result",
          "data": {
            "text/plain": [
              "0"
            ]
          },
          "metadata": {},
          "execution_count": 205
        }
      ],
      "source": [
        "int(False)"
      ]
    },
    {
      "cell_type": "code",
      "execution_count": null,
      "metadata": {
        "colab": {
          "base_uri": "https://localhost:8080/"
        },
        "id": "hcUanjpo-_48",
        "outputId": "fddf5701-2912-4af8-c902-7ead7d07b6b2"
      },
      "outputs": [
        {
          "output_type": "execute_result",
          "data": {
            "text/plain": [
              "1"
            ]
          },
          "metadata": {},
          "execution_count": 206
        }
      ],
      "source": [
        "int(True)"
      ]
    },
    {
      "cell_type": "code",
      "execution_count": null,
      "metadata": {
        "colab": {
          "base_uri": "https://localhost:8080/"
        },
        "id": "4Me398sH-_48",
        "outputId": "f1f6c2f7-eb3b-454a-a6b7-aaf70760f7bd"
      },
      "outputs": [
        {
          "output_type": "execute_result",
          "data": {
            "text/plain": [
              "False"
            ]
          },
          "metadata": {},
          "execution_count": 207
        }
      ],
      "source": [
        "# 0 конвертируется в False\n",
        "bool(0)"
      ]
    },
    {
      "cell_type": "code",
      "execution_count": null,
      "metadata": {
        "colab": {
          "base_uri": "https://localhost:8080/"
        },
        "id": "2u-gP782-_48",
        "outputId": "b3c28a34-7e17-47ad-af64-7eb7ea0def11"
      },
      "outputs": [
        {
          "output_type": "execute_result",
          "data": {
            "text/plain": [
              "(True, True, True, True)"
            ]
          },
          "metadata": {},
          "execution_count": 208
        }
      ],
      "source": [
        "# любое другое число конвертируется в True\n",
        "bool(-1), bool(256), bool(1), bool(33)"
      ]
    },
    {
      "cell_type": "markdown",
      "metadata": {
        "id": "-l4wQ4Cz-_48"
      },
      "source": [
        "К значениям логического типа можно применять битовые операции."
      ]
    },
    {
      "cell_type": "code",
      "execution_count": null,
      "metadata": {
        "colab": {
          "base_uri": "https://localhost:8080/"
        },
        "id": "-tTfQBWj-_48",
        "outputId": "7b67b6c0-3f2b-49a0-8aaf-7486f27c0fa9"
      },
      "outputs": [
        {
          "output_type": "execute_result",
          "data": {
            "text/plain": [
              "(True, -2, 4, 0)"
            ]
          },
          "metadata": {},
          "execution_count": 209
        }
      ],
      "source": [
        "x = True\n",
        "x, ~x, x << 2, x >> 2"
      ]
    },
    {
      "cell_type": "code",
      "execution_count": null,
      "metadata": {
        "colab": {
          "base_uri": "https://localhost:8080/"
        },
        "id": "OZDgwrze-_49",
        "outputId": "d4786cfe-872f-434b-aa47-c7a8f5a92aa3"
      },
      "outputs": [
        {
          "output_type": "execute_result",
          "data": {
            "text/plain": [
              "(True, False, False, True, True)"
            ]
          },
          "metadata": {},
          "execution_count": 210
        }
      ],
      "source": [
        "y = False\n",
        "x, y, x & y, x | y, x ^ y"
      ]
    },
    {
      "cell_type": "markdown",
      "metadata": {
        "id": "uXkXaVJ6-_49"
      },
      "source": [
        "Можно сравнивать элементы разных типов (строки, числа, списки) на равенство, неравенство. В результате будет получаться значение булева типа."
      ]
    },
    {
      "cell_type": "code",
      "execution_count": null,
      "metadata": {
        "colab": {
          "base_uri": "https://localhost:8080/"
        },
        "id": "daJ3wFFY-_49",
        "outputId": "43bde035-faa7-4185-8662-f818bf497da0"
      },
      "outputs": [
        {
          "output_type": "execute_result",
          "data": {
            "text/plain": [
              "(False, True, True, True, False, False)"
            ]
          },
          "metadata": {},
          "execution_count": 211
        }
      ],
      "source": [
        "i1 = 5\n",
        "i2 = 7\n",
        "i1 == i2, i1 != i2, i1 < i2, i1 <= i2, i1 > i2, i1 >= i2"
      ]
    },
    {
      "cell_type": "code",
      "execution_count": null,
      "metadata": {
        "colab": {
          "base_uri": "https://localhost:8080/"
        },
        "id": "Vjb29mQw-_49",
        "outputId": "6cb25a06-9d63-4a81-e523-582e0d8a6cce"
      },
      "outputs": [
        {
          "output_type": "execute_result",
          "data": {
            "text/plain": [
              "(False, True, False, False, True, True)"
            ]
          },
          "metadata": {},
          "execution_count": 212
        }
      ],
      "source": [
        "s1 = \"123\"\n",
        "s2 = \"12\"\n",
        "s1 == s2, s1 != s2, s1 < s2, s1 <= s2, s1 > s2, s1 >= s2"
      ]
    },
    {
      "cell_type": "code",
      "execution_count": null,
      "metadata": {
        "colab": {
          "base_uri": "https://localhost:8080/"
        },
        "id": "3sleLdEI-_49",
        "outputId": "ec2b6cac-5d42-4f97-a0ad-92499a314233"
      },
      "outputs": [
        {
          "output_type": "execute_result",
          "data": {
            "text/plain": [
              "(False, True, False, False, True, True)"
            ]
          },
          "metadata": {},
          "execution_count": 213
        }
      ],
      "source": [
        "l1 = [1, 2, 3]\n",
        "l2 = [1, 2]\n",
        "l1 == l2, l1 != l2, l1 < l2, l1 <= l2, l1 > l2, l1 >= l2"
      ]
    },
    {
      "cell_type": "markdown",
      "metadata": {
        "id": "ioDiNE2r-_49"
      },
      "source": [
        "## Конструкции <a class=\"anchor\" id=\"constructions\"></a>"
      ]
    },
    {
      "cell_type": "markdown",
      "metadata": {
        "id": "Vt08uyX6-_4-"
      },
      "source": [
        "## Циклы  <a class=\"anchor\" id=\"cycles\"></a>"
      ]
    },
    {
      "cell_type": "markdown",
      "metadata": {
        "id": "Thyhvupk-_4-"
      },
      "source": [
        "#### Цикл for"
      ]
    },
    {
      "cell_type": "markdown",
      "metadata": {
        "id": "lS9GowWJ-_4-"
      },
      "source": [
        "Обратим внимание на отступы. Они очень важны в языке питон и означают начало некоторой конструкции (функция, цикл и т.д.).\\\n",
        "Отступ - это tab или несколько пробелов (обычно 4)."
      ]
    },
    {
      "cell_type": "markdown",
      "metadata": {
        "id": "7-VJocVj-_4-"
      },
      "source": [
        "Можно итерироваться (проходить циклом) по итерируемому объекту, например, списку, как в примере."
      ]
    },
    {
      "cell_type": "code",
      "execution_count": null,
      "metadata": {
        "scrolled": true,
        "colab": {
          "base_uri": "https://localhost:8080/"
        },
        "id": "7r3ACNB--_5D",
        "outputId": "3016fd52-d1bb-4d70-8918-4f0519fd5320"
      },
      "outputs": [
        {
          "output_type": "stream",
          "name": "stdout",
          "text": [
            "1\n",
            "2\n",
            "3\n"
          ]
        }
      ],
      "source": [
        "for i in [1, 2, 3]:\n",
        "    print(i)"
      ]
    },
    {
      "cell_type": "code",
      "execution_count": null,
      "metadata": {
        "colab": {
          "base_uri": "https://localhost:8080/"
        },
        "id": "yCFXDT7z-_5D",
        "outputId": "59e9a6fd-a948-4712-cc51-97e7f48d6f62"
      },
      "outputs": [
        {
          "output_type": "stream",
          "name": "stdout",
          "text": [
            "1\n",
            "3\n",
            "5\n"
          ]
        }
      ],
      "source": [
        "for i in range(1, 6, 2):\n",
        "    print(i)"
      ]
    },
    {
      "cell_type": "code",
      "execution_count": null,
      "metadata": {
        "scrolled": true,
        "colab": {
          "base_uri": "https://localhost:8080/"
        },
        "id": "J9dTWFpv-_5D",
        "outputId": "4b2b3d0a-9483-47d3-93b9-23321d44d8f9"
      },
      "outputs": [
        {
          "output_type": "stream",
          "name": "stdout",
          "text": [
            "[1, 3, 5]\n"
          ]
        }
      ],
      "source": [
        "print([i for i in range(1, 6, 2)])"
      ]
    },
    {
      "cell_type": "markdown",
      "metadata": {
        "id": "82JJSsJS-_5D"
      },
      "source": [
        "Кроме того, после цикла for может идти else-конструкция (зайдем в нее, если выход из цикла не по break)."
      ]
    },
    {
      "cell_type": "code",
      "execution_count": null,
      "metadata": {
        "colab": {
          "base_uri": "https://localhost:8080/"
        },
        "id": "JF969Leg-_5E",
        "outputId": "4d51c6ff-8cca-4140-9c4c-9824e299912d"
      },
      "outputs": [
        {
          "output_type": "stream",
          "name": "stdout",
          "text": [
            "0\n",
            "1\n",
            "2\n",
            "end of cycle\n"
          ]
        }
      ],
      "source": [
        "for i in range(3):\n",
        "    print(i)\n",
        "else:\n",
        "    print('end of cycle') # выполняется при выходе из цикла"
      ]
    },
    {
      "cell_type": "markdown",
      "metadata": {
        "id": "BluUXaJl-_5E"
      },
      "source": [
        "Также полезными являются операторы continue и break, которые обозначают переход на новую итерацию цикла и досрочное окончание цикла соответственно."
      ]
    },
    {
      "cell_type": "code",
      "execution_count": null,
      "metadata": {
        "colab": {
          "base_uri": "https://localhost:8080/"
        },
        "id": "iqW-OJGg-_5E",
        "outputId": "9f0da84d-7131-490d-f315-2abfe09f171e"
      },
      "outputs": [
        {
          "output_type": "stream",
          "name": "stdout",
          "text": [
            "3\n"
          ]
        }
      ],
      "source": [
        "for i in range(5):\n",
        "    if i < 3:\n",
        "        continue\n",
        "    elif i == 3:\n",
        "        print(i)\n",
        "    else:\n",
        "        break\n",
        "else:\n",
        "    print('end of cycle') # сюда не зашли, потому что выход из цикла по break"
      ]
    },
    {
      "cell_type": "markdown",
      "metadata": {
        "id": "AEaTFlc1-_5E"
      },
      "source": [
        "#### Цикл while"
      ]
    },
    {
      "cell_type": "code",
      "execution_count": null,
      "metadata": {
        "colab": {
          "base_uri": "https://localhost:8080/"
        },
        "id": "1g6nX7tu-_5F",
        "outputId": "0c24b615-b90c-4d98-de36-2fbeea346299"
      },
      "outputs": [
        {
          "output_type": "stream",
          "name": "stdout",
          "text": [
            "0\n",
            "1\n",
            "3\n",
            "4\n",
            "5\n"
          ]
        }
      ],
      "source": [
        "i = -1\n",
        "while True:\n",
        "    i += 1\n",
        "    if i == 2:\n",
        "        continue\n",
        "    print(i)\n",
        "    if i == 5:\n",
        "        break"
      ]
    },
    {
      "cell_type": "markdown",
      "metadata": {
        "id": "YTlT06Q6-_5I"
      },
      "source": [
        "Тут тоже есть аналогичная с for конструкция else."
      ]
    },
    {
      "cell_type": "code",
      "execution_count": null,
      "metadata": {
        "colab": {
          "base_uri": "https://localhost:8080/"
        },
        "id": "MWwRljU2-_5I",
        "outputId": "6955b8a8-f72b-4b0c-8ee4-e8e3662c1185"
      },
      "outputs": [
        {
          "output_type": "stream",
          "name": "stdout",
          "text": [
            "end of cycle\n"
          ]
        }
      ],
      "source": [
        "i = -1\n",
        "while i < 3:\n",
        "    i += 1\n",
        "else:\n",
        "    print('end of cycle')"
      ]
    },
    {
      "cell_type": "code",
      "execution_count": null,
      "metadata": {
        "id": "2bHYwkPv-_5I"
      },
      "outputs": [],
      "source": [
        "i = -1\n",
        "while True:\n",
        "    i += 1\n",
        "    if i == 3:\n",
        "        break\n",
        "else:\n",
        "    print('end of cycle')"
      ]
    },
    {
      "cell_type": "markdown",
      "metadata": {
        "id": "YAxCA81S-_5J"
      },
      "source": [
        "## Условия <a class=\"anchor\" id=\"conditions\"></a>"
      ]
    },
    {
      "cell_type": "markdown",
      "metadata": {
        "id": "46-6uqjC-_5J"
      },
      "source": [
        "Существуют следующие условные конструкции: `if`, `if - else`, `if - elif - else`, смысл которых очевиден."
      ]
    },
    {
      "cell_type": "code",
      "execution_count": null,
      "metadata": {
        "colab": {
          "base_uri": "https://localhost:8080/"
        },
        "id": "cIR8a8qv-_5J",
        "outputId": "d955714a-ab35-44ca-cfa6-78abb87aaaf0"
      },
      "outputs": [
        {
          "output_type": "stream",
          "name": "stdout",
          "text": [
            "3\n"
          ]
        }
      ],
      "source": [
        "i = 0\n",
        "for j in range(3):\n",
        "    if i == 0:\n",
        "        i += 1\n",
        "    elif i == 1:\n",
        "        i += 2\n",
        "    else:\n",
        "        print(i)"
      ]
    },
    {
      "cell_type": "markdown",
      "metadata": {
        "id": "giLAoO_l-_5J"
      },
      "source": [
        "## Функции <a class=\"anchor\" id=\"functions\"></a>"
      ]
    },
    {
      "cell_type": "markdown",
      "metadata": {
        "id": "NqNE7C6x-_5J"
      },
      "source": [
        "Объявляются с помощью ключевого слова ```def```. Результат возвращается с помощью ключевого слова ```return```. После строки, содержащей слово ```def```, аргументы и название функции, должен следовать отступ."
      ]
    },
    {
      "cell_type": "code",
      "execution_count": null,
      "metadata": {
        "colab": {
          "base_uri": "https://localhost:8080/"
        },
        "id": "7lKPFcnt-_5J",
        "outputId": "abac9958-e688-470b-fc11-c13aaa21a1d6"
      },
      "outputs": [
        {
          "output_type": "execute_result",
          "data": {
            "text/plain": [
              "5"
            ]
          },
          "metadata": {},
          "execution_count": 223
        }
      ],
      "source": [
        "def f(x):\n",
        "    return x + 2\n",
        "f(3)"
      ]
    },
    {
      "cell_type": "markdown",
      "metadata": {
        "id": "n33-pH85-_5K"
      },
      "source": [
        "Функция может возращать любое количество значений разных типов - эти значения автоматически сформируют кортеж."
      ]
    },
    {
      "cell_type": "code",
      "execution_count": null,
      "metadata": {
        "colab": {
          "base_uri": "https://localhost:8080/"
        },
        "id": "SMEYtREm-_5K",
        "outputId": "fedb5922-8100-4d8a-c6a8-c6cf1321b240"
      },
      "outputs": [
        {
          "output_type": "execute_result",
          "data": {
            "text/plain": [
              "(5, 3, {'value': 3})"
            ]
          },
          "metadata": {},
          "execution_count": 224
        }
      ],
      "source": [
        "def f(x):\n",
        "    return x + 2, x, {\"value\":x}\n",
        "f(3)"
      ]
    },
    {
      "cell_type": "markdown",
      "metadata": {
        "id": "-Nty2QM3-_5K"
      },
      "source": [
        "Очень важным и удобным свойством функций является то, что можно указывать значения по умолчанию для параметров функции. Но при этом, сначала нужно указывать все параметры без значений по умолчанию, а потом только со значениями по умолчанию."
      ]
    },
    {
      "cell_type": "code",
      "execution_count": null,
      "metadata": {
        "colab": {
          "base_uri": "https://localhost:8080/"
        },
        "id": "AH6m6ZsR-_5K",
        "outputId": "a72221cc-5c43-4f40-a225-66fbc9403184"
      },
      "outputs": [
        {
          "output_type": "execute_result",
          "data": {
            "text/plain": [
              "(8, 10, 12)"
            ]
          },
          "metadata": {},
          "execution_count": 225
        }
      ],
      "source": [
        "def f(x, y=2, z=3):\n",
        "    return x + y + z\n",
        "f(3), f(3, 4), f(3, 4, 5)"
      ]
    },
    {
      "cell_type": "code",
      "execution_count": null,
      "metadata": {
        "colab": {
          "base_uri": "https://localhost:8080/",
          "height": 175
        },
        "id": "4eGRIJOx-_5K",
        "outputId": "ca9f5689-694b-49c6-84e9-778b1b1ed801"
      },
      "outputs": [
        {
          "output_type": "error",
          "ename": "TypeError",
          "evalue": "ignored",
          "traceback": [
            "\u001b[0;31m---------------------------------------------------------------------------\u001b[0m",
            "\u001b[0;31mTypeError\u001b[0m                                 Traceback (most recent call last)",
            "\u001b[0;32m<ipython-input-226-75198223ce10>\u001b[0m in \u001b[0;36m<module>\u001b[0;34m\u001b[0m\n\u001b[0;32m----> 1\u001b[0;31m \u001b[0mf\u001b[0m\u001b[0;34m(\u001b[0m\u001b[0;34m)\u001b[0m \u001b[0;31m# нужно указать как минимум 1 аргумент\u001b[0m\u001b[0;34m\u001b[0m\u001b[0;34m\u001b[0m\u001b[0m\n\u001b[0m",
            "\u001b[0;31mTypeError\u001b[0m: f() missing 1 required positional argument: 'x'"
          ]
        }
      ],
      "source": [
        "f() # нужно указать как минимум 1 аргумент"
      ]
    },
    {
      "cell_type": "code",
      "execution_count": null,
      "metadata": {
        "colab": {
          "base_uri": "https://localhost:8080/"
        },
        "id": "sqsuzaSp-_5K",
        "outputId": "17ecf300-bd68-405c-899f-c2ccb757f086"
      },
      "outputs": [
        {
          "output_type": "execute_result",
          "data": {
            "text/plain": [
              "9"
            ]
          },
          "metadata": {},
          "execution_count": 227
        }
      ],
      "source": [
        "f(x=3, y=3, z=3) # так тоже можно обратиться"
      ]
    },
    {
      "cell_type": "code",
      "execution_count": null,
      "metadata": {
        "colab": {
          "base_uri": "https://localhost:8080/",
          "height": 137
        },
        "id": "BOJSFQ_C-_5L",
        "outputId": "65c8489a-5c1e-46e6-d078-588bf4d83c29"
      },
      "outputs": [
        {
          "output_type": "error",
          "ename": "SyntaxError",
          "evalue": "ignored",
          "traceback": [
            "\u001b[0;36m  File \u001b[0;32m\"<ipython-input-228-aaed4eaaeab5>\"\u001b[0;36m, line \u001b[0;32m1\u001b[0m\n\u001b[0;31m    f(x=1, 2, z=3)# а так вызвать функцию нельзя\u001b[0m\n\u001b[0m          ^\u001b[0m\n\u001b[0;31mSyntaxError\u001b[0m\u001b[0;31m:\u001b[0m positional argument follows keyword argument\n"
          ]
        }
      ],
      "source": [
        "f(x=1, 2, z=3)# а так вызвать функцию нельзя"
      ]
    },
    {
      "cell_type": "markdown",
      "metadata": {
        "id": "fMczQY0X-_5L"
      },
      "source": [
        "Объявить функцию, у которой сначала бы шли аргументы со значениями по умолчанию, а потом без, также нельзя."
      ]
    },
    {
      "cell_type": "code",
      "execution_count": null,
      "metadata": {
        "colab": {
          "base_uri": "https://localhost:8080/",
          "height": 137
        },
        "id": "6xBxUR91-_5L",
        "outputId": "b03346b6-aa9a-45b6-fe66-e6eb6fdf02ce"
      },
      "outputs": [
        {
          "output_type": "error",
          "ename": "SyntaxError",
          "evalue": "ignored",
          "traceback": [
            "\u001b[0;36m  File \u001b[0;32m\"<ipython-input-229-67341c67d448>\"\u001b[0;36m, line \u001b[0;32m1\u001b[0m\n\u001b[0;31m    def f(x=1, y, z=3):\u001b[0m\n\u001b[0m         ^\u001b[0m\n\u001b[0;31mSyntaxError\u001b[0m\u001b[0;31m:\u001b[0m non-default argument follows default argument\n"
          ]
        }
      ],
      "source": [
        "def f(x=1, y, z=3):\n",
        "    return x + y + z"
      ]
    },
    {
      "cell_type": "markdown",
      "metadata": {
        "id": "qZOtgc4M-_5L"
      },
      "source": [
        "```Интересный факт```: функции в Python - это тоже объект! Это можно понять, взяв от функции id."
      ]
    },
    {
      "cell_type": "code",
      "execution_count": null,
      "metadata": {
        "colab": {
          "base_uri": "https://localhost:8080/"
        },
        "id": "VegSdb2M-_5M",
        "outputId": "a1b1df5f-a5ac-401b-90e7-0f241989739f"
      },
      "outputs": [
        {
          "output_type": "execute_result",
          "data": {
            "text/plain": [
              "(<function __main__.f(x, y=2, z=3)>, 139932550219968)"
            ]
          },
          "metadata": {},
          "execution_count": 230
        }
      ],
      "source": [
        "f, id(f)"
      ]
    },
    {
      "cell_type": "markdown",
      "metadata": {
        "id": "W868XlQw-_5M"
      },
      "source": [
        "**Подача аргументов в функцию с помощью списков/словарей**"
      ]
    },
    {
      "cell_type": "markdown",
      "metadata": {
        "id": "5L3otSUw-_5M"
      },
      "source": [
        "В функцию можно передавать именованные/неименованные аргументы с использованием списков/словарей (конструкции `*args`, `**kwargs`)."
      ]
    },
    {
      "cell_type": "code",
      "execution_count": null,
      "metadata": {
        "id": "NV0vHmJg-_5M"
      },
      "outputs": [],
      "source": [
        "def f(x, y, z):\n",
        "    return x, y, z"
      ]
    },
    {
      "cell_type": "code",
      "execution_count": null,
      "metadata": {
        "colab": {
          "base_uri": "https://localhost:8080/"
        },
        "id": "9hgHW6xt-_5M",
        "outputId": "9e0169ed-aec4-4edd-8675-dd7834689382"
      },
      "outputs": [
        {
          "output_type": "execute_result",
          "data": {
            "text/plain": [
              "(1, 2, 3)"
            ]
          },
          "metadata": {},
          "execution_count": 232
        }
      ],
      "source": [
        "args = [1, 2, 3]\n",
        "f(*args) # происходит разыменование списка (по порядку следования аргументов)"
      ]
    },
    {
      "cell_type": "code",
      "execution_count": null,
      "metadata": {
        "colab": {
          "base_uri": "https://localhost:8080/",
          "height": 194
        },
        "id": "3nLHZiyF-_5N",
        "outputId": "2faacaea-2721-4f5b-b441-cfa8f1184fe9"
      },
      "outputs": [
        {
          "output_type": "error",
          "ename": "TypeError",
          "evalue": "ignored",
          "traceback": [
            "\u001b[0;31m---------------------------------------------------------------------------\u001b[0m",
            "\u001b[0;31mTypeError\u001b[0m                                 Traceback (most recent call last)",
            "\u001b[0;32m<ipython-input-233-f86e1512f9e0>\u001b[0m in \u001b[0;36m<module>\u001b[0;34m\u001b[0m\n\u001b[1;32m      1\u001b[0m \u001b[0margs\u001b[0m \u001b[0;34m=\u001b[0m \u001b[0;34m[\u001b[0m\u001b[0;36m1\u001b[0m\u001b[0;34m,\u001b[0m \u001b[0;36m2\u001b[0m\u001b[0;34m]\u001b[0m\u001b[0;34m\u001b[0m\u001b[0;34m\u001b[0m\u001b[0m\n\u001b[0;32m----> 2\u001b[0;31m \u001b[0mf\u001b[0m\u001b[0;34m(\u001b[0m\u001b[0;34m*\u001b[0m\u001b[0margs\u001b[0m\u001b[0;34m)\u001b[0m \u001b[0;31m# недостаточно аргументов\u001b[0m\u001b[0;34m\u001b[0m\u001b[0;34m\u001b[0m\u001b[0m\n\u001b[0m",
            "\u001b[0;31mTypeError\u001b[0m: f() missing 1 required positional argument: 'z'"
          ]
        }
      ],
      "source": [
        "args = [1, 2]\n",
        "f(*args) # недостаточно аргументов"
      ]
    },
    {
      "cell_type": "code",
      "execution_count": null,
      "metadata": {
        "colab": {
          "base_uri": "https://localhost:8080/"
        },
        "id": "Eqi1nVf0-_5N",
        "outputId": "2bef2cd6-2a46-417a-86d7-1a78aa3d14f1"
      },
      "outputs": [
        {
          "output_type": "execute_result",
          "data": {
            "text/plain": [
              "(1, 2, 3)"
            ]
          },
          "metadata": {},
          "execution_count": 234
        }
      ],
      "source": [
        "kwargs = {'x': 1, 'y': 2, 'z': 3}\n",
        "f(**kwargs) # словарь раскрывается и аргументы помещаются на соответствующие ключам в словаре позиции"
      ]
    },
    {
      "cell_type": "code",
      "execution_count": null,
      "metadata": {
        "colab": {
          "base_uri": "https://localhost:8080/",
          "height": 194
        },
        "id": "oDrjZTwe-_5N",
        "outputId": "593301b8-e40e-4d0e-99d8-4d1b806349e5"
      },
      "outputs": [
        {
          "output_type": "error",
          "ename": "TypeError",
          "evalue": "ignored",
          "traceback": [
            "\u001b[0;31m---------------------------------------------------------------------------\u001b[0m",
            "\u001b[0;31mTypeError\u001b[0m                                 Traceback (most recent call last)",
            "\u001b[0;32m<ipython-input-235-7d714226df93>\u001b[0m in \u001b[0;36m<module>\u001b[0;34m\u001b[0m\n\u001b[1;32m      1\u001b[0m \u001b[0mkwargs\u001b[0m \u001b[0;34m=\u001b[0m \u001b[0;34m{\u001b[0m\u001b[0;34m'x'\u001b[0m\u001b[0;34m:\u001b[0m \u001b[0;36m1\u001b[0m\u001b[0;34m,\u001b[0m \u001b[0;34m'y'\u001b[0m\u001b[0;34m:\u001b[0m \u001b[0;36m2\u001b[0m\u001b[0;34m,\u001b[0m \u001b[0;34m'z'\u001b[0m\u001b[0;34m:\u001b[0m \u001b[0;36m3\u001b[0m\u001b[0;34m,\u001b[0m \u001b[0;34m'w'\u001b[0m\u001b[0;34m:\u001b[0m \u001b[0;36m4\u001b[0m\u001b[0;34m}\u001b[0m\u001b[0;34m\u001b[0m\u001b[0;34m\u001b[0m\u001b[0m\n\u001b[0;32m----> 2\u001b[0;31m \u001b[0mf\u001b[0m\u001b[0;34m(\u001b[0m\u001b[0;34m**\u001b[0m\u001b[0mkwargs\u001b[0m\u001b[0;34m)\u001b[0m \u001b[0;31m# подали лишний аргумент\u001b[0m\u001b[0;34m\u001b[0m\u001b[0;34m\u001b[0m\u001b[0m\n\u001b[0m",
            "\u001b[0;31mTypeError\u001b[0m: f() got an unexpected keyword argument 'w'"
          ]
        }
      ],
      "source": [
        "kwargs = {'x': 1, 'y': 2, 'z': 3, 'w': 4}\n",
        "f(**kwargs) # подали лишний аргумент"
      ]
    },
    {
      "cell_type": "markdown",
      "metadata": {
        "id": "Du610vss-_5N"
      },
      "source": [
        "### lambda-функции <a class=\"anchor\" id=\"lambdas\"></a>"
      ]
    },
    {
      "cell_type": "markdown",
      "metadata": {
        "id": "JOkZJ7Fc-_5N"
      },
      "source": [
        "Неименованные функции, написанные в одну строку со следующим синтаксисом."
      ]
    },
    {
      "cell_type": "code",
      "execution_count": null,
      "metadata": {
        "colab": {
          "base_uri": "https://localhost:8080/"
        },
        "id": "h-HCQA8f-_5N",
        "outputId": "03823851-086c-4cd8-ca33-c05b3323801e"
      },
      "outputs": [
        {
          "output_type": "execute_result",
          "data": {
            "text/plain": [
              "5"
            ]
          },
          "metadata": {},
          "execution_count": 236
        }
      ],
      "source": [
        "g = lambda x: x + 2\n",
        "g(3)"
      ]
    },
    {
      "cell_type": "markdown",
      "metadata": {
        "id": "xD1IMQBw-_5O"
      },
      "source": [
        "```lambda```-функции тоже могут возвращать несколько значений, но для этого их нужно взять в $()$ - то есть сформировать ```tuple``` (кортеж)."
      ]
    },
    {
      "cell_type": "code",
      "execution_count": null,
      "metadata": {
        "colab": {
          "base_uri": "https://localhost:8080/"
        },
        "id": "AeMQgBem-_5O",
        "outputId": "e1d5242c-b251-4897-b7b3-b2f456cce631"
      },
      "outputs": [
        {
          "output_type": "execute_result",
          "data": {
            "text/plain": [
              "(5, 3)"
            ]
          },
          "metadata": {},
          "execution_count": 237
        }
      ],
      "source": [
        "g = lambda x: (x + 2, x)\n",
        "g(3)"
      ]
    },
    {
      "cell_type": "markdown",
      "metadata": {
        "id": "qc_NIGhC-_5O"
      },
      "source": [
        "```lambda```-функции могут принимать несколько аргументов."
      ]
    },
    {
      "cell_type": "code",
      "execution_count": null,
      "metadata": {
        "colab": {
          "base_uri": "https://localhost:8080/"
        },
        "id": "8jzuiJ-6-_5O",
        "outputId": "5bf842f5-8c0e-4be7-ae4f-140a068a4191"
      },
      "outputs": [
        {
          "output_type": "execute_result",
          "data": {
            "text/plain": [
              "(3, 1, 2)"
            ]
          },
          "metadata": {},
          "execution_count": 238
        }
      ],
      "source": [
        "g = lambda x, y: (x + y, x, y)\n",
        "g(1, 2)"
      ]
    },
    {
      "cell_type": "markdown",
      "metadata": {
        "id": "VKnithvg-_5O"
      },
      "source": [
        "```lambda```-функции могут не принимать аргументов вообще."
      ]
    },
    {
      "cell_type": "code",
      "execution_count": null,
      "metadata": {
        "colab": {
          "base_uri": "https://localhost:8080/"
        },
        "id": "v--HtCqR-_5O",
        "outputId": "8bb7e95b-c549-4f57-fbfb-921f706f3fd6"
      },
      "outputs": [
        {
          "output_type": "stream",
          "name": "stdout",
          "text": [
            "call g\n"
          ]
        }
      ],
      "source": [
        "g = lambda: print('call g')\n",
        "g()"
      ]
    },
    {
      "cell_type": "markdown",
      "metadata": {
        "id": "nd8fvh2F-_5P"
      },
      "source": [
        "```lambda```-функции могут быть особенно полезны для передачи в качестве аргумента в некоторые встроенные функции, как, например, ```sorted```."
      ]
    },
    {
      "cell_type": "code",
      "execution_count": null,
      "metadata": {
        "id": "4Waf0_zO-_5P"
      },
      "outputs": [],
      "source": [
        "lst = [(\"c\", 3), (\"a\", 1), (\"b\", 2)]"
      ]
    },
    {
      "cell_type": "code",
      "execution_count": null,
      "metadata": {
        "colab": {
          "base_uri": "https://localhost:8080/"
        },
        "id": "prtC4yHK-_5P",
        "outputId": "82042e1d-4077-4360-bf01-943183f12ac8"
      },
      "outputs": [
        {
          "output_type": "execute_result",
          "data": {
            "text/plain": [
              "[('a', 1), ('b', 2), ('c', 3)]"
            ]
          },
          "metadata": {},
          "execution_count": 241
        }
      ],
      "source": [
        "sorted(lst, key=lambda x: x[0]) # сортируем по первому элементу кортежа"
      ]
    },
    {
      "cell_type": "code",
      "execution_count": null,
      "metadata": {
        "colab": {
          "base_uri": "https://localhost:8080/"
        },
        "id": "MVNKcKUg-_5P",
        "outputId": "5b2a07b7-3e3d-40d5-8925-de0c97bb06d1"
      },
      "outputs": [
        {
          "output_type": "execute_result",
          "data": {
            "text/plain": [
              "[('c', 3), ('b', 2), ('a', 1)]"
            ]
          },
          "metadata": {},
          "execution_count": 242
        }
      ],
      "source": [
        "sorted(lst, key=lambda x: -x[1]) # сортируем по второму элементу кортежа по убыванию"
      ]
    },
    {
      "cell_type": "markdown",
      "metadata": {
        "id": "vhUn3xty-_5P"
      },
      "source": [
        "### Области видимости <a class=\"anchor\" id=\"areas\"></a>"
      ]
    },
    {
      "cell_type": "markdown",
      "metadata": {
        "id": "5rFdTLBV-_5Q"
      },
      "source": [
        "Рассмотрим некоторую функцию ```f```."
      ]
    },
    {
      "cell_type": "code",
      "execution_count": null,
      "metadata": {
        "colab": {
          "base_uri": "https://localhost:8080/"
        },
        "id": "OYVUxeyw-_5Q",
        "outputId": "64dc81ca-7c4b-4d62-fcc7-4b0a38988e69"
      },
      "outputs": [
        {
          "output_type": "stream",
          "name": "stdout",
          "text": [
            "global a, local c\n"
          ]
        }
      ],
      "source": [
        "a = 'global a'\n",
        "def f():\n",
        "    c = 'local c'\n",
        "    print(f'{a}, {c}')\n",
        "    return\n",
        "f()"
      ]
    },
    {
      "cell_type": "markdown",
      "metadata": {
        "id": "T27n5qtY-_5Q"
      },
      "source": [
        "Из этой функции нам доступна переменная ```a``` из глобальной области видимости, а также локальная переменная ```c```."
      ]
    },
    {
      "cell_type": "markdown",
      "metadata": {
        "id": "bmHxjPm3-_5Q"
      },
      "source": [
        "Если в функции ```f``` объявить локальную переменную ```a```, то она закроет глобальную переменную ```a``` и глобальная переменная станет недоступна из этой функции."
      ]
    },
    {
      "cell_type": "code",
      "execution_count": null,
      "metadata": {
        "colab": {
          "base_uri": "https://localhost:8080/"
        },
        "id": "_VOuq0AL-_5Q",
        "outputId": "10b1b6a1-3c01-4815-bee5-70772e94393f"
      },
      "outputs": [
        {
          "output_type": "stream",
          "name": "stdout",
          "text": [
            "local a, local c\n"
          ]
        }
      ],
      "source": [
        "a = 'global a'\n",
        "def f():\n",
        "    c = 'local c'\n",
        "    a = 'local a'\n",
        "    print(f'{a}, {c}')\n",
        "    return\n",
        "f()"
      ]
    },
    {
      "cell_type": "markdown",
      "metadata": {
        "id": "p3oa6Hpw-_5Q"
      },
      "source": [
        "А что, если мы хотим изменять глобальную переменную из функции ```f```?\n",
        "Если в функции ```f``` попробовать сделать inplace-операцию над глобальной переменной, то пробросится исключение. Это произойдет, потому что в левой части выражения мы объявляем локальную переменную, которая перекрывает глобальную, а в правой части выражения обращаемся к локальной переменной, которая не была проиницализирована."
      ]
    },
    {
      "cell_type": "code",
      "execution_count": null,
      "metadata": {
        "colab": {
          "base_uri": "https://localhost:8080/",
          "height": 345
        },
        "id": "f9V9136Z-_5R",
        "outputId": "0f966908-e0e6-404d-d421-de700756753d"
      },
      "outputs": [
        {
          "output_type": "error",
          "ename": "UnboundLocalError",
          "evalue": "ignored",
          "traceback": [
            "\u001b[0;31m---------------------------------------------------------------------------\u001b[0m",
            "\u001b[0;31mUnboundLocalError\u001b[0m                         Traceback (most recent call last)",
            "\u001b[0;32m<ipython-input-245-e95ead9cef74>\u001b[0m in \u001b[0;36m<module>\u001b[0;34m\u001b[0m\n\u001b[1;32m      4\u001b[0m     \u001b[0mprint\u001b[0m\u001b[0;34m(\u001b[0m\u001b[0ma\u001b[0m\u001b[0;34m)\u001b[0m\u001b[0;34m\u001b[0m\u001b[0;34m\u001b[0m\u001b[0m\n\u001b[1;32m      5\u001b[0m     \u001b[0;32mreturn\u001b[0m\u001b[0;34m\u001b[0m\u001b[0;34m\u001b[0m\u001b[0m\n\u001b[0;32m----> 6\u001b[0;31m \u001b[0mf\u001b[0m\u001b[0;34m(\u001b[0m\u001b[0;34m)\u001b[0m\u001b[0;34m\u001b[0m\u001b[0;34m\u001b[0m\u001b[0m\n\u001b[0m",
            "\u001b[0;32m<ipython-input-245-e95ead9cef74>\u001b[0m in \u001b[0;36mf\u001b[0;34m()\u001b[0m\n\u001b[1;32m      1\u001b[0m \u001b[0ma\u001b[0m \u001b[0;34m=\u001b[0m \u001b[0;34m'global a'\u001b[0m\u001b[0;34m\u001b[0m\u001b[0;34m\u001b[0m\u001b[0m\n\u001b[1;32m      2\u001b[0m \u001b[0;32mdef\u001b[0m \u001b[0mf\u001b[0m\u001b[0;34m(\u001b[0m\u001b[0;34m)\u001b[0m\u001b[0;34m:\u001b[0m\u001b[0;34m\u001b[0m\u001b[0;34m\u001b[0m\u001b[0m\n\u001b[0;32m----> 3\u001b[0;31m     \u001b[0ma\u001b[0m \u001b[0;34m+=\u001b[0m \u001b[0;34m'?'\u001b[0m\u001b[0;34m\u001b[0m\u001b[0;34m\u001b[0m\u001b[0m\n\u001b[0m\u001b[1;32m      4\u001b[0m     \u001b[0mprint\u001b[0m\u001b[0;34m(\u001b[0m\u001b[0ma\u001b[0m\u001b[0;34m)\u001b[0m\u001b[0;34m\u001b[0m\u001b[0;34m\u001b[0m\u001b[0m\n\u001b[1;32m      5\u001b[0m     \u001b[0;32mreturn\u001b[0m\u001b[0;34m\u001b[0m\u001b[0;34m\u001b[0m\u001b[0m\n",
            "\u001b[0;31mUnboundLocalError\u001b[0m: local variable 'a' referenced before assignment"
          ]
        }
      ],
      "source": [
        "a = 'global a'\n",
        "def f():\n",
        "    a += '?'\n",
        "    print(a)\n",
        "    return\n",
        "f()"
      ]
    },
    {
      "cell_type": "markdown",
      "metadata": {
        "id": "K6v1Zrig-_5R"
      },
      "source": [
        "Чтобы такого не случилось, нужно объявить переменную ```a``` внутри функции ```f``` с использованием идентификатора ```global```. Тогда интерпретатору будет понятно, что ```f``` обращается к переменной ```a``` из глобальной области видимости.\\\n",
        "При этом, имена, перечисленные в инструкции ```global```, не обязательно должны использоваться в блоке кода, текстуально предшествующем ```global```."
      ]
    },
    {
      "cell_type": "code",
      "execution_count": null,
      "metadata": {
        "colab": {
          "base_uri": "https://localhost:8080/"
        },
        "id": "lxD6ADUV-_5R",
        "outputId": "9dbe46a0-d2a4-4036-f65a-3194821c1398"
      },
      "outputs": [
        {
          "output_type": "stream",
          "name": "stdout",
          "text": [
            "global a!\n",
            "global b\n"
          ]
        }
      ],
      "source": [
        "a = 'global a'\n",
        "def f():\n",
        "    global a, b\n",
        "    a += '!'\n",
        "    print(a)\n",
        "    print(b)\n",
        "    return\n",
        "b = 'global b'\n",
        "f()"
      ]
    },
    {
      "cell_type": "markdown",
      "metadata": {
        "id": "lAZ4IdEl-_5S"
      },
      "source": [
        "Поскольку функция в python – это объект, то ее вполне можно определить внутри другой функции. Например, вот так:"
      ]
    },
    {
      "cell_type": "code",
      "execution_count": null,
      "metadata": {
        "colab": {
          "base_uri": "https://localhost:8080/"
        },
        "id": "qH2ahnPD-_5S",
        "outputId": "9450496a-847a-4572-9b02-1766c56a9041"
      },
      "outputs": [
        {
          "output_type": "stream",
          "name": "stdout",
          "text": [
            "global a, b from f, c from f1\n"
          ]
        },
        {
          "output_type": "execute_result",
          "data": {
            "text/plain": [
              "(<function __main__.f.<locals>.f1()>, 13)"
            ]
          },
          "metadata": {},
          "execution_count": 247
        }
      ],
      "source": [
        "a = 'global a'\n",
        "def f():\n",
        "    b = 'b from f'\n",
        "    def f1():\n",
        "        c = 'c from f1'\n",
        "        print(f'{a}, {b}, {c}')\n",
        "        return 13\n",
        "    return f1\n",
        "f(), f()()"
      ]
    },
    {
      "cell_type": "markdown",
      "metadata": {
        "id": "_ej1-YHS-_5S"
      },
      "source": [
        "Это называется замыкание. Из функции ```f1``` на чтение видны как локальные переменные функции ```f```, так и глобальные переменные. Чтобы указать, что используемая переменная находится во внешнем, но не глобальном поле имен, используется идентификатор ```nonlocal```."
      ]
    },
    {
      "cell_type": "code",
      "execution_count": null,
      "metadata": {
        "colab": {
          "base_uri": "https://localhost:8080/"
        },
        "id": "qqTXxxn0-_5S",
        "outputId": "99a69491-e6e2-4f83-8daa-629252055485"
      },
      "outputs": [
        {
          "output_type": "stream",
          "name": "stdout",
          "text": [
            "a from f\n"
          ]
        },
        {
          "output_type": "execute_result",
          "data": {
            "text/plain": [
              "(<function __main__.f.<locals>.f1()>, 13)"
            ]
          },
          "metadata": {},
          "execution_count": 248
        }
      ],
      "source": [
        "# в этой ситуации, на самом деле, так бы сработало и без указания nonlocal, тк область видимости f перекрывает глобальную область видимости внутри f1\n",
        "a = 'global a'\n",
        "def f():\n",
        "    a = 'a from f'\n",
        "    def f1():\n",
        "        nonlocal a\n",
        "        print(f'{a}')\n",
        "        return 13\n",
        "    return f1\n",
        "f(), f()()"
      ]
    },
    {
      "cell_type": "markdown",
      "metadata": {
        "id": "478IL8FH-_5T"
      },
      "source": [
        "При этом в отличие от ```global```, имена, перечисленные в инструкции ```nonlocal```, должны ссылаться на ранее существовавшие переменные в охватывающей области. То есть при использовании оператора ```nonlocal```, переменные родительской функции должны существовать, а для global такое условие не обязательно должно выполняться (переменная может быть объявлена позже, в некоторой новой области видимости)."
      ]
    },
    {
      "cell_type": "code",
      "execution_count": null,
      "metadata": {
        "colab": {
          "base_uri": "https://localhost:8080/",
          "height": 137
        },
        "id": "68U8HY4n-_5U",
        "outputId": "0d8b2e24-5b87-4bdf-948b-d4bb39bbe787"
      },
      "outputs": [
        {
          "output_type": "error",
          "ename": "SyntaxError",
          "evalue": "ignored",
          "traceback": [
            "\u001b[0;36m  File \u001b[0;32m\"<ipython-input-249-be1830ccf063>\"\u001b[0;36m, line \u001b[0;32m5\u001b[0m\n\u001b[0;31m    nonlocal a, b # переменная b не объявлена в функции f\u001b[0m\n\u001b[0m    ^\u001b[0m\n\u001b[0;31mSyntaxError\u001b[0m\u001b[0;31m:\u001b[0m no binding for nonlocal 'b' found\n"
          ]
        }
      ],
      "source": [
        "a = 'global a'\n",
        "def f():\n",
        "    a = 'a from f'\n",
        "    def f1():\n",
        "        nonlocal a, b # переменная b не объявлена в функции f\n",
        "        print(f'{a}')\n",
        "        #print(f'{b}')\n",
        "        return 13\n",
        "    return f1\n",
        "f(), f()()"
      ]
    },
    {
      "cell_type": "code",
      "execution_count": null,
      "metadata": {
        "colab": {
          "base_uri": "https://localhost:8080/"
        },
        "id": "2jAbyq9f-_5U",
        "outputId": "395a6a0c-2309-44ce-dea7-964ea2f6d2ad"
      },
      "outputs": [
        {
          "output_type": "execute_result",
          "data": {
            "text/plain": [
              "(<function __main__.f.<locals>.f1()>, 13)"
            ]
          },
          "metadata": {},
          "execution_count": 250
        }
      ],
      "source": [
        "a = 'global a'\n",
        "def f():\n",
        "    a = 'a from f'\n",
        "    global new_variable_with_strange_name # эта переменной не была объявлена пока что нигде и все работает\n",
        "    def f1():\n",
        "        return 13\n",
        "    return f1\n",
        "f(), f()()"
      ]
    },
    {
      "cell_type": "markdown",
      "metadata": {
        "id": "G4DeDbGJ-_5U"
      },
      "source": [
        "Таким образом, идентификаторы ```global``` и ```nonlocal``` дают указание интерпретатору на то, что в функции внешние переменные видны не только для чтения, но и для изменения."
      ]
    },
    {
      "cell_type": "code",
      "execution_count": null,
      "metadata": {
        "colab": {
          "base_uri": "https://localhost:8080/"
        },
        "id": "iDDO7ZNs-_5U",
        "outputId": "58a5df51-319f-4f55-8674-8488d38db579"
      },
      "outputs": [
        {
          "output_type": "stream",
          "name": "stdout",
          "text": [
            "a from f changed inside f1()\n"
          ]
        },
        {
          "output_type": "execute_result",
          "data": {
            "text/plain": [
              "(<function __main__.f.<locals>.f1()>, 13)"
            ]
          },
          "metadata": {},
          "execution_count": 251
        }
      ],
      "source": [
        "a = 'global a'\n",
        "def f():\n",
        "    a = 'a from f'\n",
        "    def f1():\n",
        "        nonlocal a\n",
        "        a += ' changed inside f1()'\n",
        "        print(f'{a}')\n",
        "        return 13\n",
        "    return f1\n",
        "f(), f()()"
      ]
    },
    {
      "cell_type": "markdown",
      "metadata": {
        "id": "d23pSJ2S-_5V"
      },
      "source": [
        "### Генераторы <a class=\"anchor\" id=\"generators\"></a>"
      ]
    },
    {
      "cell_type": "markdown",
      "metadata": {
        "id": "0EqTKAyT-_5V"
      },
      "source": [
        "Ранее в ноутбуке был затронут генератор ```range(...)```.\\\n",
        "Подробно обсуждать генераторы сейчас не будем, но узнать, что такое генератор будет полезно для домашнего задания."
      ]
    },
    {
      "cell_type": "markdown",
      "metadata": {
        "id": "-aVqRGjj-_5V"
      },
      "source": [
        "Генератор – это специальная функция, в которой присутствует ключевое слово ```yield``` (вместо ```return```). Генераторы нужны для того, чтобы создавать итераторы. При вызове, встретив ключевое слово ```yield```, функция возвращает значение, идущее после ```yield```, но выполняется до конца и сохраняет текущие значения локальных переменных функции.\\\n",
        "Рассмотрим на примере функции, которая генерирует n первых чисел Фибоначчи."
      ]
    },
    {
      "cell_type": "code",
      "execution_count": null,
      "metadata": {
        "id": "O1GAyzfk-_5V"
      },
      "outputs": [],
      "source": [
        "def fib(n):\n",
        "    a, b = 0, 1\n",
        "    for _ in range(n):\n",
        "        yield a\n",
        "        a, b = b, a + b"
      ]
    },
    {
      "cell_type": "code",
      "execution_count": null,
      "metadata": {
        "colab": {
          "base_uri": "https://localhost:8080/"
        },
        "id": "oFMvMMDK-_5V",
        "outputId": "278b1824-019e-4b1d-fe9d-e2863898e753"
      },
      "outputs": [
        {
          "output_type": "stream",
          "name": "stdout",
          "text": [
            "[0, 1, 1, 2, 3, 5, 8, 13, 21, 34, 55, 89, 144]\n"
          ]
        }
      ],
      "source": [
        "print([i for i in fib(13)], sep=' ')"
      ]
    },
    {
      "cell_type": "code",
      "execution_count": null,
      "metadata": {
        "colab": {
          "base_uri": "https://localhost:8080/"
        },
        "id": "oNFg6nsW-_5W",
        "outputId": "686cee08-f6f8-4e00-e80d-edde5a538d68"
      },
      "outputs": [
        {
          "output_type": "execute_result",
          "data": {
            "text/plain": [
              "[0, 1, 1, 2, 3, 5, 8, 13, 21, 34, 55, 89, 144]"
            ]
          },
          "metadata": {},
          "execution_count": 254
        }
      ],
      "source": [
        "list([i for i in fib(13)])"
      ]
    },
    {
      "cell_type": "markdown",
      "metadata": {
        "id": "4WB5qniE-_5W"
      },
      "source": [
        "## Классы (ООП) <a class=\"anchor\" id=\"classes\"></a>"
      ]
    },
    {
      "cell_type": "markdown",
      "metadata": {
        "id": "d7RjnCJJ-_5W"
      },
      "source": [
        "Синтаксис простой, с отступами все обстоит так же, как и в функциях.\\\n",
        "Кроме того, для класса нужно переопределять метод ```__init__``` – в котором будут инициализироваться атрибуты класса. Каждый метод должен принимать в качестве аргумента ```self``` – ссылку на себя (как в с++, к примеру, аргументом каждого нестатического метода неявно является ```this```)."
      ]
    },
    {
      "cell_type": "code",
      "execution_count": null,
      "metadata": {
        "id": "QqhfBeqi-_5W"
      },
      "outputs": [],
      "source": [
        "class StudyPython:\n",
        "    def __init__(self, lists, strs, tuples):\n",
        "        # имена с self - внутренние переменные, которые будут доступны внутри любых методов класса через self\n",
        "        # а также будут доступны через . у объектов класса\n",
        "        self.lists = lists\n",
        "        self.strs = strs\n",
        "        self.tuples = tuples\n",
        "        # self._hidden # можно создать protected атрибут (начинается с _) - к нему можно обращаться только внутри класса и во всех его дочерних классах\n",
        "        # self.__hidden # можно создать private атрибут начинается с __) - к нему можно обращаться только внутри класса\n",
        "        \n",
        "    def __repr__(self):\n",
        "        return f'I already know lists: {str(self.lists)}, strs: {str(self.strs)}, tuples: {str(self.tuples)}'\n",
        "    \n",
        "    def learn_lists(self):\n",
        "        if not self.lists:\n",
        "            self.lists = True\n",
        "        else:\n",
        "            print('I already know lists')\n",
        "        \n",
        "    def learn_strs(self):\n",
        "        if not self.strs:\n",
        "            self.strs = True\n",
        "        else:\n",
        "            print('I already know strs')\n",
        "        \n",
        "    def learn_tuples(self):\n",
        "        if not self.tuples:\n",
        "            self.tuples = True\n",
        "        else:\n",
        "            print('I already know tuples')\n",
        "    \n",
        "    def forget_lists(self):\n",
        "        if self.lists:\n",
        "            self.lists = False\n",
        "        else:\n",
        "            print('I do not know lists. I cannot forget them.')\n",
        "        \n",
        "    def forget_strs(self):\n",
        "        if self.strs:\n",
        "            self.strs = False\n",
        "        else:\n",
        "            print('I do not know strs. I cannot forget them.')\n",
        "        \n",
        "    def forget_tuples(self):\n",
        "        if self.tuples:\n",
        "            self.tuples = False\n",
        "        else:\n",
        "            print('I do not know tuples. I cannot forget them.')"
      ]
    },
    {
      "cell_type": "code",
      "execution_count": null,
      "metadata": {
        "colab": {
          "base_uri": "https://localhost:8080/"
        },
        "id": "nj1J2Mj--_5X",
        "outputId": "f6886d60-d7e9-46ef-d6c4-742891ea8967"
      },
      "outputs": [
        {
          "output_type": "execute_result",
          "data": {
            "text/plain": [
              "I already know lists: False, strs: False, tuples: False"
            ]
          },
          "metadata": {},
          "execution_count": 265
        }
      ],
      "source": [
        "s = StudyPython(lists=False, strs=False, tuples=False)\n",
        "s"
      ]
    },
    {
      "cell_type": "code",
      "execution_count": null,
      "metadata": {
        "colab": {
          "base_uri": "https://localhost:8080/"
        },
        "id": "h-y_llHM-_5X",
        "outputId": "9463a7d6-94b3-46b6-952b-cd85d99f4d3b"
      },
      "outputs": [
        {
          "output_type": "execute_result",
          "data": {
            "text/plain": [
              "I already know lists: False, strs: False, tuples: True"
            ]
          },
          "metadata": {},
          "execution_count": 266
        }
      ],
      "source": [
        "s.learn_tuples()\n",
        "s"
      ]
    },
    {
      "cell_type": "code",
      "execution_count": null,
      "metadata": {
        "colab": {
          "base_uri": "https://localhost:8080/"
        },
        "id": "MTACuLjP-_5X",
        "outputId": "3d2a56aa-672b-4132-b2e4-c7fa9ae5a6c7"
      },
      "outputs": [
        {
          "output_type": "execute_result",
          "data": {
            "text/plain": [
              "I already know lists: True, strs: False, tuples: True"
            ]
          },
          "metadata": {},
          "execution_count": 267
        }
      ],
      "source": [
        "s.learn_lists()\n",
        "s"
      ]
    },
    {
      "cell_type": "code",
      "execution_count": null,
      "metadata": {
        "colab": {
          "base_uri": "https://localhost:8080/"
        },
        "id": "MX4Klsm4-_5X",
        "outputId": "3249ce67-ced7-4865-bb98-94d3fb78570a"
      },
      "outputs": [
        {
          "output_type": "execute_result",
          "data": {
            "text/plain": [
              "I already know lists: False, strs: False, tuples: True"
            ]
          },
          "metadata": {},
          "execution_count": 268
        }
      ],
      "source": [
        "s.forget_lists()\n",
        "s"
      ]
    },
    {
      "cell_type": "code",
      "execution_count": null,
      "metadata": {
        "colab": {
          "base_uri": "https://localhost:8080/"
        },
        "id": "ggH-1U97-_5X",
        "outputId": "d38301ef-f8ab-4e17-9012-df214c5fc7ff"
      },
      "outputs": [
        {
          "output_type": "stream",
          "name": "stdout",
          "text": [
            "I do not know lists. I cannot forget them.\n"
          ]
        },
        {
          "output_type": "execute_result",
          "data": {
            "text/plain": [
              "I already know lists: False, strs: False, tuples: True"
            ]
          },
          "metadata": {},
          "execution_count": 269
        }
      ],
      "source": [
        "s.forget_lists()\n",
        "s"
      ]
    },
    {
      "cell_type": "code",
      "execution_count": null,
      "metadata": {
        "colab": {
          "base_uri": "https://localhost:8080/"
        },
        "id": "W_lyo5y2-_5Y",
        "outputId": "0013823c-5f12-4542-c95d-2cfd29796277"
      },
      "outputs": [
        {
          "output_type": "stream",
          "name": "stdout",
          "text": [
            "I already know tuples\n"
          ]
        },
        {
          "output_type": "execute_result",
          "data": {
            "text/plain": [
              "I already know lists: False, strs: False, tuples: True"
            ]
          },
          "metadata": {},
          "execution_count": 270
        }
      ],
      "source": [
        "s.learn_tuples()\n",
        "s"
      ]
    },
    {
      "cell_type": "markdown",
      "metadata": {
        "id": "ywt373Mi-_5Y"
      },
      "source": [
        "```Интересный факт```: Если в методе ```__init__``` требуется только инициализировать атрибуты, то можно использовать декоратор ```dataclass``` из библиотеки ```dataclasses```.\\\n",
        "Декоратор - это функция, которая производит некоторые преобразования с функцией. Синтаксис такой: над преобразуемой функцией указывается название декоратора через @.\\\n",
        "Небольшой пример (подробнее лучше почитать самостоятельно, но для выполнения домашнего задания это не обязательно)."
      ]
    },
    {
      "cell_type": "code",
      "execution_count": null,
      "metadata": {
        "id": "CQKjKM-L-_5Y"
      },
      "outputs": [],
      "source": [
        "def change_text(fn):\n",
        "    def wrapped():\n",
        "        return '!!!' + fn().upper() + '!!!'\n",
        "    return wrapped\n",
        "\n",
        "@change_text\n",
        "def hello():\n",
        "    return \"I love machine learning\""
      ]
    },
    {
      "cell_type": "code",
      "execution_count": null,
      "metadata": {
        "colab": {
          "base_uri": "https://localhost:8080/",
          "height": 36
        },
        "id": "Cd_jpjmG-_5Y",
        "outputId": "8acf04e4-86b2-43a6-bceb-0bd63d374bb2"
      },
      "outputs": [
        {
          "output_type": "execute_result",
          "data": {
            "text/plain": [
              "'!!!I LOVE MACHINE LEARNING!!!'"
            ],
            "application/vnd.google.colaboratory.intrinsic+json": {
              "type": "string"
            }
          },
          "metadata": {},
          "execution_count": 272
        }
      ],
      "source": [
        "hello()"
      ]
    },
    {
      "cell_type": "markdown",
      "metadata": {
        "id": "iaLg6IKh-_5Y"
      },
      "source": [
        "Пример на легкую инициализацию членов класса (без переопределения ```__init__```)."
      ]
    },
    {
      "cell_type": "code",
      "execution_count": null,
      "metadata": {
        "id": "7caQWdm_-_5Z"
      },
      "outputs": [],
      "source": [
        "from dataclasses import dataclass\n",
        "\n",
        "@dataclass\n",
        "class StudyPython:\n",
        "    lists: bool\n",
        "    strs: bool\n",
        "    tuples: bool\n",
        "    \n",
        "    def __repr__(self): # переопределяем метод print\n",
        "        return f'I already know lists: {str(self.lists)}, strs: {str(self.strs)}, tuples: {str(self.tuples)}'"
      ]
    },
    {
      "cell_type": "code",
      "execution_count": null,
      "metadata": {
        "colab": {
          "base_uri": "https://localhost:8080/"
        },
        "id": "3GlNbIka-_5Z",
        "outputId": "9ebd2a07-2149-4e50-b6f4-a1173bebe717"
      },
      "outputs": [
        {
          "output_type": "execute_result",
          "data": {
            "text/plain": [
              "I already know lists: False, strs: True, tuples: False"
            ]
          },
          "metadata": {},
          "execution_count": 274
        }
      ],
      "source": [
        "s = StudyPython(lists=False, strs=True, tuples=False)\n",
        "s"
      ]
    },
    {
      "cell_type": "markdown",
      "metadata": {
        "id": "lSlP6Y42-_5Z"
      },
      "source": [
        "Для выполнения одной из задач домашнего задания следует подробнее почитать про декоратор ```@property```."
      ]
    },
    {
      "cell_type": "markdown",
      "metadata": {
        "id": "SjSq9Acu-_5a"
      },
      "source": [
        "```Интересный факт```: Все классы в Python наследуются от класса ```object```. Это можно указывать, либо не указывать при создании класса. Эффект будет одинаковый."
      ]
    },
    {
      "cell_type": "markdown",
      "metadata": {
        "id": "ZatjW_J9-_5a"
      },
      "source": [
        "**Стандартные методы классов (их нужно переопределять, чтобы работали)**"
      ]
    },
    {
      "cell_type": "markdown",
      "metadata": {
        "id": "y1Dr8_Hl-_5a"
      },
      "source": [
        "Для того, чтобы с новым классом работал ряд некоторых стандартных операций у классов можно переопределить соответствующие методы. Рассмотрим на примере некоторых знаков математических операций, однако таких операций больше и при желании нужные можно нагуглить :)"
      ]
    },
    {
      "cell_type": "code",
      "execution_count": null,
      "metadata": {
        "id": "GBH8o0wI-_5a"
      },
      "outputs": [],
      "source": [
        "class A:\n",
        "    def __init__(self, elem):\n",
        "        print('__init__')\n",
        "        self.elem = elem\n",
        "    \n",
        "    def __call__(self): # a()\n",
        "        print('__call__')\n",
        "        return self.elem\n",
        "    \n",
        "    def __gt__(self, x): # a > 3\n",
        "        print('__gt__')\n",
        "        return self.elem > x\n",
        "    \n",
        "    def __lt__(self, x): # a < 3\n",
        "        print('__lt__')\n",
        "        return self.elem < x\n",
        "    \n",
        "    def __le__(self, x): # a <= 3\n",
        "        print('__le__')\n",
        "        return self.elem <= x\n",
        "    \n",
        "    def __ge__(self, x): # a >= 3\n",
        "        print('__ge__')\n",
        "        return self.elem >= x\n",
        "    \n",
        "    def __eq__(self, x): # a == 3\n",
        "        print('__eq__')\n",
        "        return self.elem == x\n",
        "    \n",
        "    def __ne__(self, x): # a != 3\n",
        "        print('__ne__')\n",
        "        return self.elem != x\n",
        "    \n",
        "    def __add__(self, x): # a + x\n",
        "        print('__add__')\n",
        "        self.elem += x\n",
        "        return self.elem\n",
        "    \n",
        "    def __sub__(self, x): # a - x\n",
        "        print('__sub__')\n",
        "        self.elem -= x\n",
        "        return self.elem"
      ]
    },
    {
      "cell_type": "code",
      "execution_count": null,
      "metadata": {
        "colab": {
          "base_uri": "https://localhost:8080/"
        },
        "id": "TacDm2aV-_5b",
        "outputId": "0b482fb8-cef5-4cfb-c0e1-7a3274415133"
      },
      "outputs": [
        {
          "output_type": "stream",
          "name": "stdout",
          "text": [
            "__init__\n",
            "__call__\n",
            "__gt__\n",
            "__lt__\n",
            "__le__\n",
            "__ge__\n",
            "__eq__\n",
            "__ne__\n",
            "__add__\n",
            "__sub__\n"
          ]
        },
        {
          "output_type": "execute_result",
          "data": {
            "text/plain": [
              "13"
            ]
          },
          "metadata": {},
          "execution_count": 276
        }
      ],
      "source": [
        "a = A(13)\n",
        "a()\n",
        "a > 3\n",
        "a < 3\n",
        "a <= 3\n",
        "a >= 3\n",
        "a == 3\n",
        "a != 3\n",
        "a + 3\n",
        "a - 3"
      ]
    },
    {
      "cell_type": "markdown",
      "metadata": {
        "id": "uy8pitN1-_5b"
      },
      "source": [
        "### Может пригодиться"
      ]
    },
    {
      "cell_type": "markdown",
      "metadata": {
        "id": "R6QO3R9P-_5b"
      },
      "source": [
        "Функция ```print```, как уже понятно, печатает на экран некоторый текст.\\\n",
        "Для того, чтобы считать текст со стандартного потока ввода, используется функция ```input()```."
      ]
    },
    {
      "cell_type": "markdown",
      "metadata": {
        "id": "U6daeKtb-_5b"
      },
      "source": [
        "Пример работы с файлами:\n",
        "* Без использования контекстного менеджера:"
      ]
    },
    {
      "cell_type": "code",
      "execution_count": null,
      "metadata": {
        "id": "8NJgvpAg-_5c"
      },
      "outputs": [],
      "source": [
        "!touch file.txt # в jupyter notebook с помощью ! вызываются команды bash"
      ]
    },
    {
      "cell_type": "code",
      "execution_count": null,
      "metadata": {
        "id": "oNys4ea_-_5c"
      },
      "outputs": [],
      "source": [
        "!echo \"Hello world\" >> file.txt"
      ]
    },
    {
      "cell_type": "code",
      "execution_count": null,
      "metadata": {
        "colab": {
          "base_uri": "https://localhost:8080/"
        },
        "id": "nYRT_CqD-_5c",
        "outputId": "b7a116be-5e98-4145-93a6-3d92596b4139"
      },
      "outputs": [
        {
          "output_type": "stream",
          "name": "stdout",
          "text": [
            "['Hello world\\n']\n"
          ]
        }
      ],
      "source": [
        "# флаг \"r\" - read/чтение, \n",
        "# \"w\" - write/запись (сотрет все содержимое файла и запишет туда что-то новое), \n",
        "# \"a\" - append/запись в конец\n",
        "f = open(\"file.txt\", \"r\")\n",
        "print(f.readlines())\n",
        "f.close()"
      ]
    },
    {
      "cell_type": "code",
      "execution_count": null,
      "metadata": {
        "colab": {
          "base_uri": "https://localhost:8080/"
        },
        "id": "3n_hqNYr-_5c",
        "outputId": "e28f999a-7443-4bf6-b2f5-a46df2df608d"
      },
      "outputs": [
        {
          "output_type": "stream",
          "name": "stdout",
          "text": [
            "['Hello world\\n', 'I love machine learning']\n"
          ]
        }
      ],
      "source": [
        "f = open(\"file.txt\", \"a\")\n",
        "f.write(\"I love machine learning\")\n",
        "f.close() # пока не закроем файл, изменение не отобразится\n",
        "f1 = open(\"file.txt\", \"r\")\n",
        "print(f1.readlines())\n",
        "f1.close()"
      ]
    },
    {
      "cell_type": "code",
      "execution_count": null,
      "metadata": {
        "colab": {
          "base_uri": "https://localhost:8080/"
        },
        "id": "ii-x_kUH-_5c",
        "outputId": "4cf7acec-0b78-4a24-ffa3-2ed8d15c92b6"
      },
      "outputs": [
        {
          "output_type": "stream",
          "name": "stdout",
          "text": [
            "['Hello world\\n', 'I love machine learning']\n"
          ]
        }
      ],
      "source": [
        "f = open(\"file.txt\", \"a\")\n",
        "f.write(\"I love machine learning\")\n",
        "f1 = open(\"file.txt\", \"r\")\n",
        "print(f1.readlines()) # потому что файл f не закрыли до открытия файла f1\n",
        "f1.close()\n",
        "f.close()"
      ]
    },
    {
      "cell_type": "markdown",
      "metadata": {
        "id": "37YYH5PS-_5d"
      },
      "source": [
        "* С использованием контекстного менеджера:"
      ]
    },
    {
      "cell_type": "code",
      "execution_count": null,
      "metadata": {
        "colab": {
          "base_uri": "https://localhost:8080/"
        },
        "id": "eEFjp8zk-_5d",
        "outputId": "35d46f02-a248-48f9-983e-57b7a05e1a45"
      },
      "outputs": [
        {
          "output_type": "stream",
          "name": "stdout",
          "text": [
            "['Hello world\\n', 'I love machine learningI love machine learning']\n"
          ]
        }
      ],
      "source": [
        "with open(\"file.txt\", \"r\") as f: # флаги такие же\n",
        "    print(f.readlines())"
      ]
    },
    {
      "cell_type": "markdown",
      "metadata": {
        "id": "QHLejCbX-_5d"
      },
      "source": [
        "## Домашнее задание <a class=\"anchor\" id=\"hometask\"></a>"
      ]
    },
    {
      "cell_type": "markdown",
      "metadata": {
        "id": "O-6o2zXn-_5d"
      },
      "source": [
        "```Внимание!!!```\n",
        "\n",
        "**Первые 5 задач отправляются в систему в одном файле task15.py.\\\n",
        "Задачи 6 и 7 отправляются в систему отдельно: task6.py, task7.py.**"
      ]
    },
    {
      "cell_type": "markdown",
      "metadata": {
        "id": "8auzJuMy-_5d"
      },
      "source": [
        "### Задача № 1 <a class=\"anchor\" id=\"task1\"></a>"
      ]
    },
    {
      "cell_type": "markdown",
      "metadata": {
        "id": "dEeZZZGc-_5d"
      },
      "source": [
        "Требуется написать функцию, которая принимает 1 параметр, равный по умолчанию ```None```. Если в качестве этого параметра передается пустая строка или функция вызывается без аргументов, вернуть строку ```\"Hello!\"```, иначе, ```\"Hello, name!\"```, где name - аргумент функции."
      ]
    },
    {
      "cell_type": "code",
      "execution_count": null,
      "metadata": {
        "id": "Inb5dhRU-_5d"
      },
      "outputs": [],
      "source": [
        "def hello(s=None):\n",
        "    pass"
      ]
    },
    {
      "cell_type": "markdown",
      "metadata": {
        "id": "tZFkIQsJ-_5e"
      },
      "source": [
        "```Пример 1:```\n",
        "\n",
        "> **вызов**: hello()\n",
        "\n",
        "> **вывод**: Hello!\n",
        "\n",
        "```Пример 2:```\n",
        "\n",
        "> **вызов**: hello('world')\n",
        "\n",
        "> **вывод**: Hello, world!\n",
        "\n",
        "```Пример 3:```\n",
        "\n",
        "> **вызов**: hello('Masha')\n",
        "\n",
        "> **вывод**: Hello, Masha!"
      ]
    },
    {
      "cell_type": "code",
      "execution_count": null,
      "metadata": {
        "id": "_2hJ3yDV-_5e"
      },
      "outputs": [],
      "source": [
        "assert hello() == \"Hello!\"\n",
        "assert hello('world') == \"Hello, world!\"\n",
        "assert hello('Masha') == 'Hello, Masha!'"
      ]
    },
    {
      "cell_type": "markdown",
      "metadata": {
        "id": "4sWUzU84-_5e"
      },
      "source": [
        "### Задача № 2 <a class=\"anchor\" id=\"task2\"></a>"
      ]
    },
    {
      "cell_type": "markdown",
      "metadata": {
        "id": "hr7yNt3m-_5e"
      },
      "source": [
        "Требуется написать функцию ```int_to_roman(x)```, которая принимает целое неотрицательное число, записанное арабскими цифрами, и конвертирует его в такое же число, записанное римскими цифрами."
      ]
    },
    {
      "cell_type": "markdown",
      "metadata": {
        "id": "BhndCtCi-_5e"
      },
      "source": [
        "**Немного о переводе арабских чисел в формат римских:**\n",
        "\n",
        "2 записывается как II, то есть две единицы складываются вместе.\\\n",
        "12 записывается как XII, что означает 10 + 2 или X + II.\\\n",
        "27 записывается как XXVII, то есть 20 + 5 + 2 или XX + V + II.\n",
        "\n",
        "Римские цифры записывают от наибольшего к наименьшему слева направо. Однако цифра, обозначающая четыре, не записывается как IIII. Вместо этого число 4 записывается как IV. Поскольку единица стоит перед пятеркой, мы вычитаем ее, получая четыре.\\\n",
        "Тот же принцип применим и к числу девять, которое записывается как IX. Существует шесть случаев, когда используется вычитание:\n",
        "\n",
        "```Полезные правила:```\n",
        "\n",
        "I помещается перед V (5) и X (10), чтобы сделать 4 и 9.\\\n",
        "X помещается перед L (50) и C (100), чтобы получить 40 и 90.\\\n",
        "C помещается перед D (500) и M (1000), чтобы получить 400 и 900."
      ]
    },
    {
      "cell_type": "code",
      "source": [
        "def int_to_roman(x):\n",
        "  pass"
      ],
      "metadata": {
        "id": "Nl4jnE1NCyvy"
      },
      "execution_count": null,
      "outputs": []
    },
    {
      "cell_type": "markdown",
      "metadata": {
        "id": "lZU_jv_5-_5e"
      },
      "source": [
        "```Пример 1:```\n",
        "\n",
        "> **вызов**: int_to_roman(3)\n",
        "\n",
        "> **вывод**: III\n",
        "\n",
        "```Пример 2:```\n",
        "\n",
        "> **вызов**: int_to_roman(54)\n",
        "\n",
        "> **вывод**: LIV\n",
        "\n",
        "```Пример 3:```\n",
        "\n",
        "> **вызов**: int_to_roman(1996)\n",
        "\n",
        "> **вывод**: MCMXCVI"
      ]
    },
    {
      "cell_type": "code",
      "execution_count": null,
      "metadata": {
        "id": "TyUerCwN-_5f"
      },
      "outputs": [],
      "source": [
        "assert int_to_roman(3) == 'III'\n",
        "assert int_to_roman(54) == 'LIV'\n",
        "assert int_to_roman(1996) == 'MCMXCVI'"
      ]
    },
    {
      "cell_type": "markdown",
      "metadata": {
        "id": "qKQ2QIwz-_5f"
      },
      "source": [
        "### Задача № 3 <a class=\"anchor\" id=\"task3\"></a>"
      ]
    },
    {
      "cell_type": "markdown",
      "metadata": {
        "id": "uKPdqp-U-_5f"
      },
      "source": [
        "Требуется написать функцию ```longest_common_prefix(x)```, которая принимает список строк и возвращает наибольший общий префикс всех строк из списка.\\\n",
        "Пробельные символы в начале строки не учитывать. Изменять входной список нельзя (копию входного списка менять можно).\n",
        "\n",
        "Если такого префикса нет – вернуть пустую строку. Если на вход поступает пустой список, то следует вернуть пустую строку."
      ]
    },
    {
      "cell_type": "markdown",
      "metadata": {
        "id": "putUR27o-_5f"
      },
      "source": [
        "```Пример 1:```\n",
        "\n",
        "> **вызов**: longest_common_prefix([\"dog\",\"racecar\",\"car\"])\n",
        "\n",
        "> **вывод**: ''\n",
        "\n",
        "```Пример 2:```\n",
        "\n",
        "> **вызов**: longest_common_prefix([\"flower\",\"flow\",\"flight\"])\n",
        "\n",
        "> **вывод**: fl\n",
        "\n",
        "```Пример 3:```\n",
        "\n",
        "> **вызов**: longest_common_prefix([\"  ML;\", \"\\t\\t\\tML\", \"\\n  \\tML\"])\n",
        "\n",
        "> **вывод**: ML\n",
        "\n",
        "```Пример 4:```\n",
        "\n",
        "> **вызов**: longest_common_prefix([])\n",
        "\n",
        "> **вывод**: \"\""
      ]
    },
    {
      "cell_type": "code",
      "execution_count": null,
      "metadata": {
        "id": "jv9WFDMc-_5f"
      },
      "outputs": [],
      "source": [
        "assert longest_common_prefix([\"dog\",\"racecar\",\"car\"]) == ''\n",
        "assert longest_common_prefix([\"flower\",\"flow\",\"flight\"]) == 'fl'\n",
        "assert longest_common_prefix([\" ML;\", \"\\t\\t\\tML\", \"\\n \\tML\"]) == 'ML'\n",
        "assert longest_common_prefix([]) == ''"
      ]
    },
    {
      "cell_type": "markdown",
      "metadata": {
        "id": "3y403V3r-_5f"
      },
      "source": [
        "### Задача № 4 <a class=\"anchor\" id=\"task4\"></a>"
      ]
    },
    {
      "cell_type": "markdown",
      "metadata": {
        "id": "KRd9DAga-_5g"
      },
      "source": [
        "Исключения в Python генерируются с помощью ключевого слова ```raise```.\\\n",
        "Чтобы поймать исключение (в задании не нужно) используется конструкция ```try```-```except```.\\\n",
        "Пример:"
      ]
    },
    {
      "cell_type": "code",
      "execution_count": null,
      "metadata": {
        "scrolled": false,
        "id": "YUfEF0wz-_5g",
        "outputId": "d21b2431-a7fa-4c93-e2fb-fa337f1f2158"
      },
      "outputs": [
        {
          "ename": "ZeroDivisionError",
          "evalue": "division by zero",
          "output_type": "error",
          "traceback": [
            "\u001b[0;31m---------------------------------------------------------------------------\u001b[0m",
            "\u001b[0;31mZeroDivisionError\u001b[0m                         Traceback (most recent call last)",
            "\u001b[0;32m<ipython-input-126-cd759d3fcf39>\u001b[0m in \u001b[0;36m<module>\u001b[0;34m\u001b[0m\n\u001b[0;32m----> 1\u001b[0;31m \u001b[0;36m10\u001b[0m \u001b[0;34m/\u001b[0m \u001b[0;36m0\u001b[0m\u001b[0;34m\u001b[0m\u001b[0;34m\u001b[0m\u001b[0m\n\u001b[0m",
            "\u001b[0;31mZeroDivisionError\u001b[0m: division by zero"
          ]
        }
      ],
      "source": [
        "10 / 0"
      ]
    },
    {
      "cell_type": "code",
      "execution_count": null,
      "metadata": {
        "scrolled": true,
        "id": "lfeWsJ9c-_5g",
        "outputId": "decb982a-638d-4c79-f6b1-aa7823b5b847"
      },
      "outputs": [
        {
          "name": "stdout",
          "output_type": "stream",
          "text": [
            "Division by zero detected\n"
          ]
        }
      ],
      "source": [
        "try:\n",
        "    10 / 0\n",
        "except: # except ZeroDivisionError\n",
        "    print('Division by zero detected')"
      ]
    },
    {
      "cell_type": "code",
      "execution_count": null,
      "metadata": {
        "id": "xOAeAgBw-_5g"
      },
      "outputs": [],
      "source": [
        "def f(a):\n",
        "    if not a:\n",
        "        raise ValueError"
      ]
    },
    {
      "cell_type": "code",
      "execution_count": null,
      "metadata": {
        "id": "q3UUqs9c-_5h",
        "outputId": "ae4bf42a-87bc-437f-f3db-6d356c0797d8"
      },
      "outputs": [
        {
          "name": "stdout",
          "output_type": "stream",
          "text": [
            "a = 0\n"
          ]
        }
      ],
      "source": [
        "try:\n",
        "    f(0)\n",
        "except ValueError:\n",
        "    print(\"a = 0\")"
      ]
    },
    {
      "cell_type": "markdown",
      "metadata": {
        "id": "sQENlz4R-_5h"
      },
      "source": [
        "У студента есть кредитная карта банка, на который лежат деньги в долларах.\\\n",
        "Требуется реализовать класс BankCard со следующим интерфейсом:"
      ]
    },
    {
      "cell_type": "markdown",
      "metadata": {
        "id": "Zb-5R5Fn-_5h"
      },
      "source": [
        "```Интерфейс класса:```\n",
        "```python\n",
        "class BankCard:\n",
        "    def __init__(self, total_sum):\n",
        "        pass\n",
        "    ...\n",
        "```\n",
        "```Пример использования:```\n",
        "```python\n",
        "a = BankCard(total_sum, balance_limit) # total_sum – общая сумма денег на карте у студента в начальный момент времени, balance_limit - максимальное количество раз, которое можно посмотреть баланс (если не задано, то нет ограничений; может быть только натуральным числом)\n",
        "a(sum_spent) # sum_spent – сумма, которую студент хочет потратить; при таком обращении sum_spent вычитается из текущей total_sum; если такой суммы на карте нет, требуется бросить исключение ValueError и напечатать \"Can't spend sum_spent dollars\". Если попытка снятия денег была успешной, следует написать: You spent sum_spent dollars.\n",
        "print(a) # при вызове функции print от объекта класса должно выводиться следующее сообщение \"To learn the balance call balance.\"\n",
        "a.balance # при таком вызове количество вызовов баланса карты должно увеличиваться на 1, а возвращаться должна total_sum; если лимит операций по количеству просмотров баланса превышен, требуется бросить исключение ValueError и напечатать \"Balance check limits exceeded.\"\n",
        "a.put(sum_put) # положить sum_put долларов на карту; также следует написать: You put sum_put dollars.\n",
        "b = BankCard(total_sum_1)\n",
        "a + b # мердж капиталов :) должен возвращаться объект класса BankCard, в котором сложены балансы, а из balance_limit выбирается максимум\n",
        "```"
      ]
    },
    {
      "cell_type": "markdown",
      "metadata": {
        "id": "wRFP99aK-_5h"
      },
      "source": [
        "```Пример 1 (после знака # указан ожидаемый вывод):```\n",
        "\n",
        "```python\n",
        "    a = BankCard(10, 2)\n",
        "    print(a.balance) # 10\n",
        "    print(a.balance_limit) # 1\n",
        "    a(5) # You spent 5 dollars.\n",
        "    print(a.total_sum) # 5\n",
        "    print(a) # To learn the balance call balance.\n",
        "    print(a.balance) # 5\n",
        "    try:\n",
        "        a(6) # Not enough money to spent 6 dollars.\n",
        "    except ValueError:\n",
        "        pass\n",
        "    a(5) # You spent 5 dollars.\n",
        "    try:\n",
        "        a.balance # Balance check limits exceeded.\n",
        "    except ValueError:\n",
        "        pass\n",
        "    a.put(2) # You put 2 dollars.\n",
        "    print(a.total_sum) # 2\n",
        " ```"
      ]
    },
    {
      "cell_type": "markdown",
      "metadata": {
        "id": "3924OseJ-_5h"
      },
      "source": [
        "### Задача № 5 <a class=\"anchor\" id=\"task5\"></a>"
      ]
    },
    {
      "cell_type": "markdown",
      "metadata": {
        "id": "3bu3uIs7-_5k"
      },
      "source": [
        "Целое положительное число называется простым, если оно имеет ровно два различных делителя, то есть делится только на единицу и на само себя.\n",
        "Например, число 2 является простым, так как делится только на 1 и 2. Также простыми являются, например, числа 3, 5, 31, и еще бесконечно много чисел.\n",
        "Число 4, например, не является простым, так как имеет три делителя – 1, 2, 4. Также простым не является число 1, так как оно имеет ровно один делитель – 1.\n",
        "\n",
        "Требуется реализовать **функцию-генератор** ```primes()```, которая будет генерировать простые числа в порядке возрастания, начиная с числа 2."
      ]
    },
    {
      "cell_type": "code",
      "execution_count": null,
      "metadata": {
        "id": "TS5Yd4Is-_5l"
      },
      "outputs": [],
      "source": [
        "def primes():\n",
        "    pass"
      ]
    },
    {
      "cell_type": "markdown",
      "metadata": {
        "id": "na1-quhJ-_5l"
      },
      "source": [
        "```Пример 1 (после знака # указан ожидаемый вывод):```\n",
        "```python\n",
        "for i in primes():\n",
        "    print(i)\n",
        "    if i > 5:\n",
        "        break\n",
        "\n",
        "# 2\n",
        "# 3\n",
        "# 5\n",
        "# 7\n",
        "```\n",
        "```Пример 2 (после знака # указан ожидаемый вывод):```\n",
        "```python\n",
        "print(list(itertools.takewhile(lambda x : x <= 31, primes())))\n",
        "# [2, 3, 5, 7, 11, 13, 17, 19, 23, 29, 31]\n",
        "```"
      ]
    },
    {
      "cell_type": "code",
      "execution_count": null,
      "metadata": {
        "id": "JpF6HR5h-_5l"
      },
      "outputs": [],
      "source": [
        "import itertools\n",
        "assert list(itertools.takewhile(lambda x : x <= 31, primes())) == [2, 3, 5, 7, 11, 13, 17, 19, 23, 29, 31]\n",
        "assert [i for i in primes() if i <= 5]"
      ]
    },
    {
      "cell_type": "markdown",
      "metadata": {
        "id": "ks54YrbK-_5l"
      },
      "source": [
        "### Задача № 6 <a class=\"anchor\" id=\"task6\"></a>"
      ]
    },
    {
      "cell_type": "markdown",
      "metadata": {
        "id": "7jv9bYpw-_5l"
      },
      "source": [
        "Когда студент прочитал учебник по линейной алгебре и аналитической геометрии, ему стало интересно, сколько слов и в каком количестве встречается в этой книге.\n",
        "\n",
        "Требуется написать функцию ```check(s, filename)```, которая принимает на вход строку – последовательность слов, разделенных пробелом и имя файла; слова состоят из строчных и прописных букв латинского алфавита, а разделяются пробельными символами (ввод считать корректным). Функция должна вывести в файл для каждого уникального слова в этой строке число его повторений (без учёта регистра) в формате \"слово количество\" (см. пример вывода). Гарантируется, что строка содержит минимум 1 слово.\n",
        "\n",
        "Слова выводить нужно по алфавиту, каждое уникальное слово должно выводиться только один раз."
      ]
    },
    {
      "cell_type": "code",
      "execution_count": null,
      "metadata": {
        "id": "3ImVMD-o-_5m"
      },
      "outputs": [],
      "source": [
        "def check(s, filename):\n",
        "    pass"
      ]
    },
    {
      "cell_type": "markdown",
      "metadata": {
        "id": "I1gL8WUR-_5m"
      },
      "source": [
        "```Пример 1: ```\n",
        "> **вызов**: check(\"a aa abC aa ac abc bcd a\", \"file.txt\")\n",
        "\n",
        "> **file.txt**: \n",
        "\n",
        "    a 2\n",
        "    aa 2\n",
        "    abc 2\n",
        "    ac 1\n",
        "    bcd 1\n",
        "    \n",
        "```Пример 2: ```\n",
        "> **вызов**: check(\"a A a\", \"file.txt\")\n",
        "\n",
        "> **file.txt**: \n",
        "\n",
        "    a 3"
      ]
    },
    {
      "cell_type": "code",
      "execution_count": null,
      "metadata": {
        "id": "Yl3MOo0Y-_5m"
      },
      "outputs": [],
      "source": [
        "check(\"a aa abC aa ac abc bcd a\", \"file.txt\")\n",
        "f = open(\"file.txt\", \"r\")\n",
        "assert f.readlines() == [\"a 2\\n\", \"aa 2\\n\", \"abc 2\\n\", \"ac 1\\n\", \"bcd 1\\n\"]\n",
        "f.close()\n",
        "\n",
        "check(\"a A a\", \"file.txt\")\n",
        "f = open(\"file.txt\", \"r\")\n",
        "assert f.readlines() == [\"a 3\"]\n",
        "f.close()"
      ]
    },
    {
      "cell_type": "markdown",
      "metadata": {
        "id": "0bLZ_Db6-_5m"
      },
      "source": [
        "### Задача № 7 <a class=\"anchor\" id=\"task7\"></a>"
      ]
    },
    {
      "cell_type": "markdown",
      "metadata": {
        "id": "Pnjs1wfG-_5m"
      },
      "source": [
        "Это задание – **конкурс**! Его цель заключается в том, чтобы написать как можно более короткое (по количеству символам) решение задачи."
      ]
    },
    {
      "cell_type": "markdown",
      "metadata": {
        "id": "JF_l2DF1-_5m"
      },
      "source": [
        "Дана строка, состоящая из символов ASCII. Словом называется комбинация из букв латинского алфавита (строчных и заглавных). Требуется найти длину самого короткого слова в строке."
      ]
    },
    {
      "cell_type": "markdown",
      "metadata": {
        "id": "ucsQKbIy-_5m"
      },
      "source": [
        "```Пример 1:```\n",
        "\n",
        "> **вызов**: \"askdhrfef8wej9013d,kdj;12oid3fjvn23\"\n",
        "\n",
        "> **вывод**: 1\n",
        "\n",
        "```Пример 2:```\n",
        "\n",
        "> **вызов**: \"ad2aaaaa,,bsc\"\n",
        "\n",
        "> **вывод**: 2\n",
        "\n",
        "```Пример 3:```\n",
        "\n",
        "> **вызов**: \"111\"\n",
        "\n",
        "> **вывод**: 0"
      ]
    },
    {
      "cell_type": "code",
      "execution_count": null,
      "metadata": {
        "id": "7N0QufIk-_5n"
      },
      "outputs": [],
      "source": [
        "def find_shortest(l):\n",
        "    pass"
      ]
    },
    {
      "cell_type": "code",
      "execution_count": null,
      "metadata": {
        "id": "g2MFi9ug-_5n"
      },
      "outputs": [],
      "source": [
        "assert find_shortest(\";123assdcdcef092101,3131313akdmkmedkfmwekfwe\") == 9\n",
        "assert find_shortest('tr9230847;;;;1;;;++++_______abbbbbbc') == 2\n",
        "assert find_shortest(\"askdhrfef8wej9013d,kdj;12oid3fjvn23\") == 1\n",
        "assert find_shortest('9230847;;;;1;;;++++_______a') == 1\n",
        "assert find_shortest('жж1ciwoeiworiworworow') == 18\n",
        "assert find_shortest(\"aslkdjfhkssdf\") == 13\n",
        "assert find_shortest(\"ad2aaaaa,,bsc\") == 2\n",
        "assert find_shortest('12i330232l') == 1\n",
        "assert find_shortest(\"111\") == 0\n",
        "assert find_shortest(\"+_*\") == 0\n",
        "assert find_shortest(\"\") == 0"
      ]
    },
    {
      "cell_type": "markdown",
      "metadata": {
        "id": "KlpTXWWc-_5n"
      },
      "source": [
        "```Заключение```:  Если вдруг вы нашли какие-то опечатки/смысловые ошибки, то скорее сообщайте об этом ассистентам курса!\\\n",
        "Очень надеемся, что этот ноутбук поможет познать основы Python и вы к нему будете неоднократно возвращаться в поисках полезной информации."
      ]
    }
  ],
  "metadata": {
    "kernelspec": {
      "display_name": "Python 3",
      "language": "python",
      "name": "python3"
    },
    "language_info": {
      "codemirror_mode": {
        "name": "ipython",
        "version": 3
      },
      "file_extension": ".py",
      "mimetype": "text/x-python",
      "name": "python",
      "nbconvert_exporter": "python",
      "pygments_lexer": "ipython3",
      "version": "3.8.5"
    },
    "colab": {
      "provenance": [],
      "collapsed_sections": [
        "ioDiNE2r-_49"
      ]
    }
  },
  "nbformat": 4,
  "nbformat_minor": 0
}